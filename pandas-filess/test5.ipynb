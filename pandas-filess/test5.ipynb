{
 "cells": [
  {
   "cell_type": "code",
   "execution_count": 18,
   "metadata": {},
   "outputs": [
    {
     "data": {
      "text/plain": [
       "PassengerId    668.5\n",
       "Survived         1.0\n",
       "Pclass           3.0\n",
       "Age             38.0\n",
       "SibSp            1.0\n",
       "Parch            0.0\n",
       "Fare            31.0\n",
       "Name: 0.75, dtype: float64"
      ]
     },
     "execution_count": 18,
     "metadata": {},
     "output_type": "execute_result"
    }
   ],
   "source": [
    "import pandas as pd\n",
    "\n",
    "file = \"./data/titanic_train.csv\"\n",
    "\n",
    "df = pd.read_csv(file)\n",
    "\n",
    "df.describe()\n",
    "\n",
    "df.mean(numeric_only=True)\n",
    "\n",
    "df.std(numeric_only=True)\n",
    "df.corr(numeric_only=True)\n",
    "df.quantile(q=0.75, numeric_only=True)"
   ]
  },
  {
   "cell_type": "code",
   "execution_count": null,
   "metadata": {},
   "outputs": [
    {
     "data": {
      "text/html": [
       "<div>\n",
       "<style scoped>\n",
       "    .dataframe tbody tr th:only-of-type {\n",
       "        vertical-align: middle;\n",
       "    }\n",
       "\n",
       "    .dataframe tbody tr th {\n",
       "        vertical-align: top;\n",
       "    }\n",
       "\n",
       "    .dataframe thead th {\n",
       "        text-align: right;\n",
       "    }\n",
       "</style>\n",
       "<table border=\"1\" class=\"dataframe\">\n",
       "  <thead>\n",
       "    <tr style=\"text-align: right;\">\n",
       "      <th>Survived</th>\n",
       "      <th>0</th>\n",
       "      <th>1</th>\n",
       "      <th>All</th>\n",
       "    </tr>\n",
       "    <tr>\n",
       "      <th>Sex</th>\n",
       "      <th></th>\n",
       "      <th></th>\n",
       "      <th></th>\n",
       "    </tr>\n",
       "  </thead>\n",
       "  <tbody>\n",
       "    <tr>\n",
       "      <th>female</th>\n",
       "      <td>0.147541</td>\n",
       "      <td>0.681287</td>\n",
       "      <td>0.352413</td>\n",
       "    </tr>\n",
       "    <tr>\n",
       "      <th>male</th>\n",
       "      <td>0.852459</td>\n",
       "      <td>0.318713</td>\n",
       "      <td>0.647587</td>\n",
       "    </tr>\n",
       "  </tbody>\n",
       "</table>\n",
       "</div>"
      ],
      "text/plain": [
       "Survived         0         1       All\n",
       "Sex                                   \n",
       "female    0.147541  0.681287  0.352413\n",
       "male      0.852459  0.318713  0.647587"
      ]
     },
     "execution_count": 40,
     "metadata": {},
     "output_type": "execute_result"
    }
   ],
   "source": [
    "# pd.crosstab(df[\"Sex\"],df[\"Survived\"])\n",
    "\n",
    "sex_list = df[\"Sex\"]\n",
    "survived_list = df[\"Survived\"]\n",
    "\n",
    "pd.crosstab(sex_list, survived_list, normalize=\"columns\", margins=True)\n",
    "\n",
    "# 그리고 index=df[], columns=df[] 로 해서 multiple 넣을수있음"
   ]
  },
  {
   "cell_type": "code",
   "execution_count": 52,
   "metadata": {},
   "outputs": [
    {
     "data": {
      "text/html": [
       "<div>\n",
       "<style scoped>\n",
       "    .dataframe tbody tr th:only-of-type {\n",
       "        vertical-align: middle;\n",
       "    }\n",
       "\n",
       "    .dataframe tbody tr th {\n",
       "        vertical-align: top;\n",
       "    }\n",
       "\n",
       "    .dataframe thead th {\n",
       "        text-align: right;\n",
       "    }\n",
       "</style>\n",
       "<table border=\"1\" class=\"dataframe\">\n",
       "  <thead>\n",
       "    <tr style=\"text-align: right;\">\n",
       "      <th></th>\n",
       "      <th>Survived</th>\n",
       "      <th>0</th>\n",
       "      <th>1</th>\n",
       "      <th>All</th>\n",
       "    </tr>\n",
       "    <tr>\n",
       "      <th>Sex</th>\n",
       "      <th>Pclass</th>\n",
       "      <th></th>\n",
       "      <th></th>\n",
       "      <th></th>\n",
       "    </tr>\n",
       "  </thead>\n",
       "  <tbody>\n",
       "    <tr>\n",
       "      <th rowspan=\"3\" valign=\"top\">female</th>\n",
       "      <th>1</th>\n",
       "      <td>24.006943</td>\n",
       "      <td>13.223014</td>\n",
       "      <td>13.612052</td>\n",
       "    </tr>\n",
       "    <tr>\n",
       "      <th>2</th>\n",
       "      <td>12.915107</td>\n",
       "      <td>12.764693</td>\n",
       "      <td>12.872702</td>\n",
       "    </tr>\n",
       "    <tr>\n",
       "      <th>3</th>\n",
       "      <td>12.833465</td>\n",
       "      <td>12.303246</td>\n",
       "      <td>12.729964</td>\n",
       "    </tr>\n",
       "    <tr>\n",
       "      <th rowspan=\"3\" valign=\"top\">male</th>\n",
       "      <th>1</th>\n",
       "      <td>14.457749</td>\n",
       "      <td>14.936744</td>\n",
       "      <td>15.139570</td>\n",
       "    </tr>\n",
       "    <tr>\n",
       "      <th>2</th>\n",
       "      <td>12.158125</td>\n",
       "      <td>19.547122</td>\n",
       "      <td>14.793894</td>\n",
       "    </tr>\n",
       "    <tr>\n",
       "      <th>3</th>\n",
       "      <td>12.135707</td>\n",
       "      <td>11.555786</td>\n",
       "      <td>12.159514</td>\n",
       "    </tr>\n",
       "    <tr>\n",
       "      <th>All</th>\n",
       "      <th></th>\n",
       "      <td>14.172110</td>\n",
       "      <td>14.950952</td>\n",
       "      <td>14.526497</td>\n",
       "    </tr>\n",
       "  </tbody>\n",
       "</table>\n",
       "</div>"
      ],
      "text/plain": [
       "Survived               0          1        All\n",
       "Sex    Pclass                                 \n",
       "female 1       24.006943  13.223014  13.612052\n",
       "       2       12.915107  12.764693  12.872702\n",
       "       3       12.833465  12.303246  12.729964\n",
       "male   1       14.457749  14.936744  15.139570\n",
       "       2       12.158125  19.547122  14.793894\n",
       "       3       12.135707  11.555786  12.159514\n",
       "All            14.172110  14.950952  14.526497"
      ]
     },
     "execution_count": 52,
     "metadata": {},
     "output_type": "execute_result"
    }
   ],
   "source": [
    "import pandas as pd\n",
    "\n",
    "file = \"./data/titanic_train.csv\"\n",
    "\n",
    "df = pd.read_csv(file)\n",
    "\n",
    "pd.pivot_table(\n",
    "    df,\n",
    "    index=[\"Sex\", \"Pclass\"],\n",
    "    columns=[\"Survived\"],\n",
    "    margins=True,\n",
    "    values=\"Age\",\n",
    "    aggfunc=\"std\",\n",
    ")"
   ]
  },
  {
   "cell_type": "code",
   "execution_count": null,
   "metadata": {},
   "outputs": [],
   "source": [
    "# Stack, Unstack, Melt"
   ]
  }
 ],
 "metadata": {
  "kernelspec": {
   "display_name": "envv",
   "language": "python",
   "name": "python3"
  },
  "language_info": {
   "codemirror_mode": {
    "name": "ipython",
    "version": 3
   },
   "file_extension": ".py",
   "mimetype": "text/x-python",
   "name": "python",
   "nbconvert_exporter": "python",
   "pygments_lexer": "ipython3",
   "version": "3.12.2"
  }
 },
 "nbformat": 4,
 "nbformat_minor": 2
}
