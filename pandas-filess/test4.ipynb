{
 "cells": [
  {
   "cell_type": "code",
   "execution_count": null,
   "metadata": {},
   "outputs": [],
   "source": [
    "import pandas as pd\n",
    "\n",
    "### Index 0 시작을 1 시작으로 바꾸기\n",
    "excel_data = \"./data/titanic_train.csv\"\n",
    "\n",
    "df = pd.read_csv(excel_data)\n",
    "df = df.rename({0: 1, 1: 2})\n",
    "df.index = [i + 1 for i in range(len(df))]\n",
    "\n",
    "\n",
    "# df.set_index('PassengerID')\n",
    "\n",
    "df.reset_index(drop=True)\n",
    "df.head()"
   ]
  },
  {
   "cell_type": "code",
   "execution_count": null,
   "metadata": {},
   "outputs": [],
   "source": [
    "df_1 = df.copy()\n",
    "df_1\n",
    "df_1.head()\n",
    "\n",
    "df2 = pd.concat([df, df_1])\n",
    "df2 = df2.reset_index(drop=True)\n",
    "# df2.drop([i for i in range(891, len(df2), 1)])\n",
    "df2.drop_duplicates()"
   ]
  },
  {
   "cell_type": "code",
   "execution_count": null,
   "metadata": {},
   "outputs": [],
   "source": [
    "df3 = df_1.copy()\n",
    "# 10대 20대 30대 보기위해 몫을 나눈 값 곱하기 10\n",
    "df3[\"Age_Simplified\"] = df3[\"Age\"] // 10 * 10\n",
    "df3\n",
    "# axis는 항상 defualt가 0, row(열)를 먼저, 그래서 1로 하면 column(행)\n",
    "df3.rename({\"PassengerId\": \"ID\"}, axis=1)"
   ]
  },
  {
   "cell_type": "code",
   "execution_count": null,
   "metadata": {},
   "outputs": [],
   "source": [
    "# df.isna().sum()\n",
    "# df.info()\n",
    "# df[[\"Age\",\"Cabin\"]].isna() #Age 열의 각 행이 NA인지 확인 (True/False 반환)\n",
    "\n",
    "# df[df[\"Age\"].isna()] # isna인 행들만 선택\n",
    "\n",
    "df.notna().sum()\n",
    "\n",
    "# 틀린 코드\n",
    "# df[df[\"Age\",\"Cabin\"].notna()]    # 열을 이렇게 못 부름\n",
    "\n",
    "# 맞는 코드\n",
    "df[df[[\"Age\", \"Cabin\"]].notna().all(axis=1)]  # 두 열 모두 값이 있는 행\n",
    "# 또는\n",
    "df[df[[\"Age\", \"Cabin\"]].isna().all(axis=1)]  # 두 열 모두 결측값인 행"
   ]
  },
  {
   "cell_type": "code",
   "execution_count": null,
   "metadata": {},
   "outputs": [],
   "source": [
    "df.head()\n",
    "\n",
    "df.dtypes\n",
    "\n",
    "df.select_dtypes(\"int\")\n",
    "\n",
    "df[\"PassengerId\"]\n",
    "\n",
    "change = df[\"Age\"].fillna(-9)\n",
    "change.astype(int)\n",
    "\n",
    "import numpy as np\n",
    "\n",
    "change.replace(-9, np.nan)"
   ]
  },
  {
   "cell_type": "code",
   "execution_count": null,
   "metadata": {},
   "outputs": [],
   "source": [
    "# 날짜\n",
    "import pandas as pd\n",
    "\n",
    "temperature_data = \"./data/temperatures.csv\"\n",
    "\n",
    "\n",
    "df = pd.read_csv(temperature_data)\n",
    "df.head()\n",
    "\n",
    "cleaned_format = pd.to_datetime(df[\"Date\"], format=\"%Y-%m-%d\")\n",
    "df[\"Date_cleaned\"] = pd.to_datetime(df[\"Date\"], format=\"%Y-%m-%d\")\n",
    "df.head()"
   ]
  },
  {
   "cell_type": "code",
   "execution_count": 6,
   "metadata": {},
   "outputs": [
    {
     "data": {
      "text/plain": [
       "0       01.01.1981\n",
       "1       01.02.1981\n",
       "2       01.03.1981\n",
       "3       01.04.1981\n",
       "4       01.05.1981\n",
       "           ...    \n",
       "3645    12.27.1990\n",
       "3646    12.28.1990\n",
       "3647    12.29.1990\n",
       "3648    12.30.1990\n",
       "3649    12.31.1990\n",
       "Name: Date_cleaned, Length: 3650, dtype: object"
      ]
     },
     "execution_count": 6,
     "metadata": {},
     "output_type": "execute_result"
    }
   ],
   "source": [
    "# 날짜를 원하는 형식으로 변경\n",
    "# data column.dt.strftime(날짜형식)\n",
    "\n",
    "df[\"Date_cleaned\"].dt.strftime(\"%m.%d.%Y\")"
   ]
  },
  {
   "cell_type": "code",
   "execution_count": null,
   "metadata": {},
   "outputs": [],
   "source": [
    "pd.date_range(start=, periods=, freq=)\n",
    "\n",
    "\n",
    "rolling(7).sum()\n",
    "rolling(6).mean()\n",
    "\n",
    "\n"
   ]
  }
 ],
 "metadata": {
  "kernelspec": {
   "display_name": "envv",
   "language": "python",
   "name": "python3"
  },
  "language_info": {
   "codemirror_mode": {
    "name": "ipython",
    "version": 3
   },
   "file_extension": ".py",
   "mimetype": "text/x-python",
   "name": "python",
   "nbconvert_exporter": "python",
   "pygments_lexer": "ipython3",
   "version": "3.12.2"
  }
 },
 "nbformat": 4,
 "nbformat_minor": 2
}
