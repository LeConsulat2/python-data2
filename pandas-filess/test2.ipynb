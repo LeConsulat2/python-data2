{
 "cells": [
  {
   "cell_type": "code",
   "execution_count": 1,
   "metadata": {},
   "outputs": [
    {
     "name": "stdout",
     "output_type": "stream",
     "text": [
      "94\n",
      "-26\n",
      "2040\n",
      "0.5666666666666667\n"
     ]
    }
   ],
   "source": [
    "def cal(x, y, operator):\n",
    "    if operator == \"+\":\n",
    "        return x + y\n",
    "    elif operator == \"-\":\n",
    "        return x - y\n",
    "    elif operator == \"*\":\n",
    "        return x * y\n",
    "    elif operator == \"/\":\n",
    "        return x / y\n",
    "    else:\n",
    "        return \"Invalid operator\"\n",
    "\n",
    "\n",
    "print(cal(34, 60, \"+\"))\n",
    "print(cal(34, 60, \"-\"))\n",
    "print(cal(34, 60, \"*\"))\n",
    "print(cal(34, 60, \"/\"))"
   ]
  },
  {
   "cell_type": "code",
   "execution_count": 2,
   "metadata": {},
   "outputs": [
    {
     "name": "stdout",
     "output_type": "stream",
     "text": [
      "1 rank: Tiger, score: 75\n",
      "2 rank: Sophie, score: 80\n",
      "3 rank: Katie, score: 85\n",
      "4 rank: Tash, score: 90\n",
      "5 rank: Jonathan, score: 95\n"
     ]
    }
   ],
   "source": [
    "score = {\n",
    "    \"Jonathan\": 95,\n",
    "    \"Katie\": 85,\n",
    "    \"Tash\": 90,\n",
    "    \"Tiger\": 75,\n",
    "    \"Sophie\": 80,\n",
    "}\n",
    "\n",
    "score_by_rank = sorted(score.items(), key=lambda x: x[1], reverse=False)\n",
    "\n",
    "score_by_rank\n",
    "\n",
    "rank = 1\n",
    "for key, value in score_by_rank:\n",
    "    print(f\"{rank} rank: {key}, score: {value}\")\n",
    "    rank = rank + 1"
   ]
  },
  {
   "cell_type": "code",
   "execution_count": 20,
   "metadata": {},
   "outputs": [
    {
     "name": "stdout",
     "output_type": "stream",
     "text": [
      "('e', -9)\n",
      "('b', 7)\n",
      "('e', -9)\n",
      "('a', 1)\n",
      "[('e', -9), ('d', -5), ('c', 3), ('b', 7), ('a', 1)]\n"
     ]
    }
   ],
   "source": [
    "a = ((\"a\", 1), (\"b\", 7), (\"c\", 3), (\"d\", -5), (\"e\", -9))\n",
    "print(max(a, key=lambda x: x[0]))\n",
    "print(max(a, key=lambda x: x[1]))\n",
    "\n",
    "print(max(a, key=lambda x: abs(x[-1])))\n",
    "print(min(a, key=lambda x: abs(x[1])))\n",
    "\n",
    "b = list(a)\n",
    "print(sorted(b, key=lambda x: x[0], reverse=True))"
   ]
  },
  {
   "cell_type": "code",
   "execution_count": null,
   "metadata": {},
   "outputs": [],
   "source": [
    "tup = (1, 2, 3, 4, 5)\n",
    "\n",
    "\n",
    "tup2 = tuple(sorted(tup, reverse=True))\n",
    "print(tup2)\n",
    "\n",
    "list = tuple(range(2, 101, 2))\n",
    "list"
   ]
  },
  {
   "cell_type": "code",
   "execution_count": 35,
   "metadata": {},
   "outputs": [
    {
     "data": {
      "text/plain": [
       "[('c', [8, 11, 91, 1]),\n",
       " ('e', [38, 19, 47, 2]),\n",
       " ('d', [10, 56, 23, 6]),\n",
       " ('b', [5, 2, 19, 2]),\n",
       " ('a', [1, 10, 2, 2])]"
      ]
     },
     "execution_count": 35,
     "metadata": {},
     "output_type": "execute_result"
    }
   ],
   "source": [
    "tt = [\n",
    "    (\"a\", [1, 10, 2, 2]),\n",
    "    (\"b\", [5, 2, 19, 2]),\n",
    "    (\"c\", [8, 11, 91, 1]),\n",
    "    (\"d\", [10, 56, 23, 6]),\n",
    "    (\"e\", [38, 19, 47, 2]),\n",
    "]\n",
    "\n",
    "sorted(tt, key=lambda x: sum(x[1]) / len(x[1]), reverse=True)"
   ]
  },
  {
   "cell_type": "code",
   "execution_count": 14,
   "metadata": {},
   "outputs": [
    {
     "data": {
      "text/plain": [
       "['A', 'B', 'C', 'D', 'E', 'F', 'G']"
      ]
     },
     "execution_count": 14,
     "metadata": {},
     "output_type": "execute_result"
    }
   ],
   "source": [
    "import pandas as pd\n",
    "\n",
    "list_ex = [\n",
    "    \"A\",\n",
    "    \"B\",\n",
    "    \"A\",\n",
    "    \"C\",\n",
    "    \"B\",\n",
    "    \"C\",\n",
    "    \"D\",\n",
    "    \"D\",\n",
    "    \"D\",\n",
    "    \"E\",\n",
    "    \"F\",\n",
    "    \"F\",\n",
    "    \"A\",\n",
    "    \"D\",\n",
    "    \"E\",\n",
    "    \"G\",\n",
    "]\n",
    "\n",
    "# df = pd.unique(list_ex)\n",
    "\n",
    "set(list_ex)\n",
    "\n",
    "orders = list(set(list_ex))\n",
    "# orders.sort()\n",
    "\n",
    "sorted(orders)"
   ]
  },
  {
   "cell_type": "code",
   "execution_count": 4,
   "metadata": {},
   "outputs": [
    {
     "data": {
      "text/plain": [
       "20.91"
      ]
     },
     "execution_count": 4,
     "metadata": {},
     "output_type": "execute_result"
    }
   ],
   "source": [
    "score_list = [70, 90, 50, 30, 100, 95, 95, 40, 90, 20, 100]\n",
    "\n",
    "score_mean = sum(score_list) / len(score_list)\n",
    "score_mean\n",
    "\n",
    "x = 50\n",
    "\n",
    "diff = round(abs(x - score_mean), 2)\n",
    "diff"
   ]
  },
  {
   "cell_type": "code",
   "execution_count": 5,
   "metadata": {},
   "outputs": [
    {
     "name": "stdout",
     "output_type": "stream",
     "text": [
      "This student score is 50.\n",
      "The class average is 70.9090909090909\n",
      "Lower tha the average by 20.91, this student sucks\n"
     ]
    }
   ],
   "source": [
    "print(f\"This student score is {x}.\")\n",
    "print(f\"The class average is {score_mean}\")\n",
    "\n",
    "if x < 0 or x > 100:\n",
    "    print(\"Wron value entered\")\n",
    "elif x > score_mean:\n",
    "    print(f\"Higher than average by {diff}\")\n",
    "elif x < score_mean:\n",
    "    print(f\"Lower tha the average by {diff}, this student sucks\")\n",
    "else:\n",
    "    print(\"Same value as the average\")"
   ]
  },
  {
   "cell_type": "code",
   "execution_count": null,
   "metadata": {},
   "outputs": [],
   "source": []
  }
 ],
 "metadata": {
  "kernelspec": {
   "display_name": "envv",
   "language": "python",
   "name": "python3"
  },
  "language_info": {
   "codemirror_mode": {
    "name": "ipython",
    "version": 3
   },
   "file_extension": ".py",
   "mimetype": "text/x-python",
   "name": "python",
   "nbconvert_exporter": "python",
   "pygments_lexer": "ipython3",
   "version": "3.12.2"
  }
 },
 "nbformat": 4,
 "nbformat_minor": 2
}
