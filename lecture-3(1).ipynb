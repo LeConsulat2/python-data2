{
 "cells": [
  {
   "cell_type": "code",
   "execution_count": 113,
   "metadata": {},
   "outputs": [
    {
     "name": "stdout",
     "output_type": "stream",
     "text": [
      "<class 'pandas.core.frame.DataFrame'>\n",
      "RangeIndex: 541909 entries, 0 to 541908\n",
      "Data columns (total 8 columns):\n",
      " #   Column       Non-Null Count   Dtype  \n",
      "---  ------       --------------   -----  \n",
      " 0   InvoiceNo    541909 non-null  object \n",
      " 1   StockCode    541909 non-null  object \n",
      " 2   Description  540455 non-null  object \n",
      " 3   Quantity     541909 non-null  int64  \n",
      " 4   InvoiceDate  541909 non-null  object \n",
      " 5   UnitPrice    541909 non-null  float64\n",
      " 6   CustomerID   406829 non-null  float64\n",
      " 7   Country      541909 non-null  object \n",
      "dtypes: float64(2), int64(1), object(5)\n",
      "memory usage: 33.1+ MB\n"
     ]
    }
   ],
   "source": [
    "import pandas as pd\n",
    "import matplotlib as mlt\n",
    "import plotly.express as px\n",
    "\n",
    "data = \"./data/ecommerce_data.csv\"\n",
    "\n",
    "df = pd.read_csv(data)\n",
    "df.info()"
   ]
  },
  {
   "cell_type": "code",
   "execution_count": 114,
   "metadata": {},
   "outputs": [
    {
     "name": "stdout",
     "output_type": "stream",
     "text": [
      "<class 'pandas.core.frame.DataFrame'>\n",
      "Index: 406829 entries, 0 to 541908\n",
      "Data columns (total 8 columns):\n",
      " #   Column       Non-Null Count   Dtype  \n",
      "---  ------       --------------   -----  \n",
      " 0   InvoiceNo    406829 non-null  object \n",
      " 1   StockCode    406829 non-null  object \n",
      " 2   Description  406829 non-null  object \n",
      " 3   Quantity     406829 non-null  int64  \n",
      " 4   InvoiceDate  406829 non-null  object \n",
      " 5   UnitPrice    406829 non-null  float64\n",
      " 6   CustomerID   406829 non-null  float64\n",
      " 7   Country      406829 non-null  object \n",
      "dtypes: float64(2), int64(1), object(5)\n",
      "memory usage: 27.9+ MB\n"
     ]
    }
   ],
   "source": [
    "# 고객 분석을 할것이므로 customerid가 없는 행은 제거한다\n",
    "\n",
    "df.dropna(subset=[\"CustomerID\"], inplace=True)\n",
    "df.info()"
   ]
  },
  {
   "cell_type": "code",
   "execution_count": 115,
   "metadata": {},
   "outputs": [
    {
     "name": "stdout",
     "output_type": "stream",
     "text": [
      "<class 'pandas.core.frame.DataFrame'>\n",
      "Index: 406829 entries, 0 to 541908\n",
      "Data columns (total 8 columns):\n",
      " #   Column       Non-Null Count   Dtype         \n",
      "---  ------       --------------   -----         \n",
      " 0   InvoiceNo    406829 non-null  object        \n",
      " 1   StockCode    406829 non-null  object        \n",
      " 2   Description  406829 non-null  object        \n",
      " 3   Quantity     406829 non-null  int64         \n",
      " 4   InvoiceDate  406829 non-null  datetime64[ns]\n",
      " 5   UnitPrice    406829 non-null  float64       \n",
      " 6   CustomerID   406829 non-null  object        \n",
      " 7   Country      406829 non-null  object        \n",
      "dtypes: datetime64[ns](1), float64(1), int64(1), object(5)\n",
      "memory usage: 27.9+ MB\n"
     ]
    },
    {
     "data": {
      "text/html": [
       "<div>\n",
       "<style scoped>\n",
       "    .dataframe tbody tr th:only-of-type {\n",
       "        vertical-align: middle;\n",
       "    }\n",
       "\n",
       "    .dataframe tbody tr th {\n",
       "        vertical-align: top;\n",
       "    }\n",
       "\n",
       "    .dataframe thead th {\n",
       "        text-align: right;\n",
       "    }\n",
       "</style>\n",
       "<table border=\"1\" class=\"dataframe\">\n",
       "  <thead>\n",
       "    <tr style=\"text-align: right;\">\n",
       "      <th></th>\n",
       "      <th>InvoiceNo</th>\n",
       "      <th>StockCode</th>\n",
       "      <th>Description</th>\n",
       "      <th>Quantity</th>\n",
       "      <th>InvoiceDate</th>\n",
       "      <th>UnitPrice</th>\n",
       "      <th>CustomerID</th>\n",
       "      <th>Country</th>\n",
       "    </tr>\n",
       "  </thead>\n",
       "  <tbody>\n",
       "    <tr>\n",
       "      <th>0</th>\n",
       "      <td>536365</td>\n",
       "      <td>85123A</td>\n",
       "      <td>WHITE HANGING HEART T-LIGHT HOLDER</td>\n",
       "      <td>6</td>\n",
       "      <td>2010-12-01 08:26:00</td>\n",
       "      <td>2.55</td>\n",
       "      <td>17850</td>\n",
       "      <td>United Kingdom</td>\n",
       "    </tr>\n",
       "    <tr>\n",
       "      <th>1</th>\n",
       "      <td>536365</td>\n",
       "      <td>71053</td>\n",
       "      <td>WHITE METAL LANTERN</td>\n",
       "      <td>6</td>\n",
       "      <td>2010-12-01 08:26:00</td>\n",
       "      <td>3.39</td>\n",
       "      <td>17850</td>\n",
       "      <td>United Kingdom</td>\n",
       "    </tr>\n",
       "    <tr>\n",
       "      <th>2</th>\n",
       "      <td>536365</td>\n",
       "      <td>84406B</td>\n",
       "      <td>CREAM CUPID HEARTS COAT HANGER</td>\n",
       "      <td>8</td>\n",
       "      <td>2010-12-01 08:26:00</td>\n",
       "      <td>2.75</td>\n",
       "      <td>17850</td>\n",
       "      <td>United Kingdom</td>\n",
       "    </tr>\n",
       "    <tr>\n",
       "      <th>3</th>\n",
       "      <td>536365</td>\n",
       "      <td>84029G</td>\n",
       "      <td>KNITTED UNION FLAG HOT WATER BOTTLE</td>\n",
       "      <td>6</td>\n",
       "      <td>2010-12-01 08:26:00</td>\n",
       "      <td>3.39</td>\n",
       "      <td>17850</td>\n",
       "      <td>United Kingdom</td>\n",
       "    </tr>\n",
       "    <tr>\n",
       "      <th>4</th>\n",
       "      <td>536365</td>\n",
       "      <td>84029E</td>\n",
       "      <td>RED WOOLLY HOTTIE WHITE HEART.</td>\n",
       "      <td>6</td>\n",
       "      <td>2010-12-01 08:26:00</td>\n",
       "      <td>3.39</td>\n",
       "      <td>17850</td>\n",
       "      <td>United Kingdom</td>\n",
       "    </tr>\n",
       "  </tbody>\n",
       "</table>\n",
       "</div>"
      ],
      "text/plain": [
       "  InvoiceNo StockCode                          Description  Quantity  \\\n",
       "0    536365    85123A   WHITE HANGING HEART T-LIGHT HOLDER         6   \n",
       "1    536365     71053                  WHITE METAL LANTERN         6   \n",
       "2    536365    84406B       CREAM CUPID HEARTS COAT HANGER         8   \n",
       "3    536365    84029G  KNITTED UNION FLAG HOT WATER BOTTLE         6   \n",
       "4    536365    84029E       RED WOOLLY HOTTIE WHITE HEART.         6   \n",
       "\n",
       "          InvoiceDate  UnitPrice CustomerID         Country  \n",
       "0 2010-12-01 08:26:00       2.55      17850  United Kingdom  \n",
       "1 2010-12-01 08:26:00       3.39      17850  United Kingdom  \n",
       "2 2010-12-01 08:26:00       2.75      17850  United Kingdom  \n",
       "3 2010-12-01 08:26:00       3.39      17850  United Kingdom  \n",
       "4 2010-12-01 08:26:00       3.39      17850  United Kingdom  "
      ]
     },
     "execution_count": 115,
     "metadata": {},
     "output_type": "execute_result"
    }
   ],
   "source": [
    "df[\"InvoiceDate\"] = pd.to_datetime(df[\"InvoiceDate\"], format=\"%m/%d/%Y %H:%M\")\n",
    "# 처음에 float로 되있어서, int로 바꿔주고, str으로 바꿈\n",
    "df[\"CustomerID\"] = df[\"CustomerID\"].astype(int).astype(str)\n",
    "df.info()\n",
    "df.head()"
   ]
  },
  {
   "cell_type": "code",
   "execution_count": 116,
   "metadata": {},
   "outputs": [
    {
     "data": {
      "text/html": [
       "<div>\n",
       "<style scoped>\n",
       "    .dataframe tbody tr th:only-of-type {\n",
       "        vertical-align: middle;\n",
       "    }\n",
       "\n",
       "    .dataframe tbody tr th {\n",
       "        vertical-align: top;\n",
       "    }\n",
       "\n",
       "    .dataframe thead th {\n",
       "        text-align: right;\n",
       "    }\n",
       "</style>\n",
       "<table border=\"1\" class=\"dataframe\">\n",
       "  <thead>\n",
       "    <tr style=\"text-align: right;\">\n",
       "      <th></th>\n",
       "      <th>InvoiceNo</th>\n",
       "      <th>StockCode</th>\n",
       "      <th>Description</th>\n",
       "      <th>Quantity</th>\n",
       "      <th>InvoiceDate</th>\n",
       "      <th>UnitPrice</th>\n",
       "      <th>CustomerID</th>\n",
       "      <th>Country</th>\n",
       "    </tr>\n",
       "  </thead>\n",
       "  <tbody>\n",
       "    <tr>\n",
       "      <th>0</th>\n",
       "      <td>536365</td>\n",
       "      <td>85123A</td>\n",
       "      <td>WHITE HANGING HEART T-LIGHT HOLDER</td>\n",
       "      <td>6</td>\n",
       "      <td>2010-12-01 08:26:00</td>\n",
       "      <td>2.55</td>\n",
       "      <td>17850</td>\n",
       "      <td>United Kingdom</td>\n",
       "    </tr>\n",
       "    <tr>\n",
       "      <th>1</th>\n",
       "      <td>536365</td>\n",
       "      <td>71053</td>\n",
       "      <td>WHITE METAL LANTERN</td>\n",
       "      <td>6</td>\n",
       "      <td>2010-12-01 08:26:00</td>\n",
       "      <td>3.39</td>\n",
       "      <td>17850</td>\n",
       "      <td>United Kingdom</td>\n",
       "    </tr>\n",
       "    <tr>\n",
       "      <th>2</th>\n",
       "      <td>536365</td>\n",
       "      <td>84406B</td>\n",
       "      <td>CREAM CUPID HEARTS COAT HANGER</td>\n",
       "      <td>8</td>\n",
       "      <td>2010-12-01 08:26:00</td>\n",
       "      <td>2.75</td>\n",
       "      <td>17850</td>\n",
       "      <td>United Kingdom</td>\n",
       "    </tr>\n",
       "    <tr>\n",
       "      <th>3</th>\n",
       "      <td>536365</td>\n",
       "      <td>84029G</td>\n",
       "      <td>KNITTED UNION FLAG HOT WATER BOTTLE</td>\n",
       "      <td>6</td>\n",
       "      <td>2010-12-01 08:26:00</td>\n",
       "      <td>3.39</td>\n",
       "      <td>17850</td>\n",
       "      <td>United Kingdom</td>\n",
       "    </tr>\n",
       "    <tr>\n",
       "      <th>4</th>\n",
       "      <td>536365</td>\n",
       "      <td>84029E</td>\n",
       "      <td>RED WOOLLY HOTTIE WHITE HEART.</td>\n",
       "      <td>6</td>\n",
       "      <td>2010-12-01 08:26:00</td>\n",
       "      <td>3.39</td>\n",
       "      <td>17850</td>\n",
       "      <td>United Kingdom</td>\n",
       "    </tr>\n",
       "    <tr>\n",
       "      <th>...</th>\n",
       "      <td>...</td>\n",
       "      <td>...</td>\n",
       "      <td>...</td>\n",
       "      <td>...</td>\n",
       "      <td>...</td>\n",
       "      <td>...</td>\n",
       "      <td>...</td>\n",
       "      <td>...</td>\n",
       "    </tr>\n",
       "    <tr>\n",
       "      <th>541904</th>\n",
       "      <td>581587</td>\n",
       "      <td>22613</td>\n",
       "      <td>PACK OF 20 SPACEBOY NAPKINS</td>\n",
       "      <td>12</td>\n",
       "      <td>2011-12-09 12:50:00</td>\n",
       "      <td>0.85</td>\n",
       "      <td>12680</td>\n",
       "      <td>France</td>\n",
       "    </tr>\n",
       "    <tr>\n",
       "      <th>541905</th>\n",
       "      <td>581587</td>\n",
       "      <td>22899</td>\n",
       "      <td>CHILDREN'S APRON DOLLY GIRL</td>\n",
       "      <td>6</td>\n",
       "      <td>2011-12-09 12:50:00</td>\n",
       "      <td>2.10</td>\n",
       "      <td>12680</td>\n",
       "      <td>France</td>\n",
       "    </tr>\n",
       "    <tr>\n",
       "      <th>541906</th>\n",
       "      <td>581587</td>\n",
       "      <td>23254</td>\n",
       "      <td>CHILDRENS CUTLERY DOLLY GIRL</td>\n",
       "      <td>4</td>\n",
       "      <td>2011-12-09 12:50:00</td>\n",
       "      <td>4.15</td>\n",
       "      <td>12680</td>\n",
       "      <td>France</td>\n",
       "    </tr>\n",
       "    <tr>\n",
       "      <th>541907</th>\n",
       "      <td>581587</td>\n",
       "      <td>23255</td>\n",
       "      <td>CHILDRENS CUTLERY CIRCUS PARADE</td>\n",
       "      <td>4</td>\n",
       "      <td>2011-12-09 12:50:00</td>\n",
       "      <td>4.15</td>\n",
       "      <td>12680</td>\n",
       "      <td>France</td>\n",
       "    </tr>\n",
       "    <tr>\n",
       "      <th>541908</th>\n",
       "      <td>581587</td>\n",
       "      <td>22138</td>\n",
       "      <td>BAKING SET 9 PIECE RETROSPOT</td>\n",
       "      <td>3</td>\n",
       "      <td>2011-12-09 12:50:00</td>\n",
       "      <td>4.95</td>\n",
       "      <td>12680</td>\n",
       "      <td>France</td>\n",
       "    </tr>\n",
       "  </tbody>\n",
       "</table>\n",
       "<p>406829 rows × 8 columns</p>\n",
       "</div>"
      ],
      "text/plain": [
       "       InvoiceNo StockCode                          Description  Quantity  \\\n",
       "0         536365    85123A   WHITE HANGING HEART T-LIGHT HOLDER         6   \n",
       "1         536365     71053                  WHITE METAL LANTERN         6   \n",
       "2         536365    84406B       CREAM CUPID HEARTS COAT HANGER         8   \n",
       "3         536365    84029G  KNITTED UNION FLAG HOT WATER BOTTLE         6   \n",
       "4         536365    84029E       RED WOOLLY HOTTIE WHITE HEART.         6   \n",
       "...          ...       ...                                  ...       ...   \n",
       "541904    581587     22613          PACK OF 20 SPACEBOY NAPKINS        12   \n",
       "541905    581587     22899         CHILDREN'S APRON DOLLY GIRL          6   \n",
       "541906    581587     23254        CHILDRENS CUTLERY DOLLY GIRL          4   \n",
       "541907    581587     23255      CHILDRENS CUTLERY CIRCUS PARADE         4   \n",
       "541908    581587     22138         BAKING SET 9 PIECE RETROSPOT         3   \n",
       "\n",
       "               InvoiceDate  UnitPrice CustomerID         Country  \n",
       "0      2010-12-01 08:26:00       2.55      17850  United Kingdom  \n",
       "1      2010-12-01 08:26:00       3.39      17850  United Kingdom  \n",
       "2      2010-12-01 08:26:00       2.75      17850  United Kingdom  \n",
       "3      2010-12-01 08:26:00       3.39      17850  United Kingdom  \n",
       "4      2010-12-01 08:26:00       3.39      17850  United Kingdom  \n",
       "...                    ...        ...        ...             ...  \n",
       "541904 2011-12-09 12:50:00       0.85      12680          France  \n",
       "541905 2011-12-09 12:50:00       2.10      12680          France  \n",
       "541906 2011-12-09 12:50:00       4.15      12680          France  \n",
       "541907 2011-12-09 12:50:00       4.15      12680          France  \n",
       "541908 2011-12-09 12:50:00       4.95      12680          France  \n",
       "\n",
       "[406829 rows x 8 columns]"
      ]
     },
     "execution_count": 116,
     "metadata": {},
     "output_type": "execute_result"
    }
   ],
   "source": [
    "df[\"InvoiceDate\"].dt.date\n",
    "df"
   ]
  },
  {
   "cell_type": "code",
   "execution_count": 117,
   "metadata": {},
   "outputs": [
    {
     "data": {
      "text/html": [
       "<div>\n",
       "<style scoped>\n",
       "    .dataframe tbody tr th:only-of-type {\n",
       "        vertical-align: middle;\n",
       "    }\n",
       "\n",
       "    .dataframe tbody tr th {\n",
       "        vertical-align: top;\n",
       "    }\n",
       "\n",
       "    .dataframe thead th {\n",
       "        text-align: right;\n",
       "    }\n",
       "</style>\n",
       "<table border=\"1\" class=\"dataframe\">\n",
       "  <thead>\n",
       "    <tr style=\"text-align: right;\">\n",
       "      <th></th>\n",
       "      <th>InvoiceNo</th>\n",
       "      <th>StockCode</th>\n",
       "      <th>Description</th>\n",
       "      <th>Quantity</th>\n",
       "      <th>InvoiceDate</th>\n",
       "      <th>UnitPrice</th>\n",
       "      <th>CustomerID</th>\n",
       "      <th>Country</th>\n",
       "      <th>date_ymd</th>\n",
       "      <th>year</th>\n",
       "    </tr>\n",
       "  </thead>\n",
       "  <tbody>\n",
       "    <tr>\n",
       "      <th>0</th>\n",
       "      <td>536365</td>\n",
       "      <td>85123A</td>\n",
       "      <td>WHITE HANGING HEART T-LIGHT HOLDER</td>\n",
       "      <td>6</td>\n",
       "      <td>2010-12-01 08:26:00</td>\n",
       "      <td>2.55</td>\n",
       "      <td>17850</td>\n",
       "      <td>United Kingdom</td>\n",
       "      <td>2010-12-01</td>\n",
       "      <td>2010</td>\n",
       "    </tr>\n",
       "    <tr>\n",
       "      <th>1</th>\n",
       "      <td>536365</td>\n",
       "      <td>71053</td>\n",
       "      <td>WHITE METAL LANTERN</td>\n",
       "      <td>6</td>\n",
       "      <td>2010-12-01 08:26:00</td>\n",
       "      <td>3.39</td>\n",
       "      <td>17850</td>\n",
       "      <td>United Kingdom</td>\n",
       "      <td>2010-12-01</td>\n",
       "      <td>2010</td>\n",
       "    </tr>\n",
       "    <tr>\n",
       "      <th>2</th>\n",
       "      <td>536365</td>\n",
       "      <td>84406B</td>\n",
       "      <td>CREAM CUPID HEARTS COAT HANGER</td>\n",
       "      <td>8</td>\n",
       "      <td>2010-12-01 08:26:00</td>\n",
       "      <td>2.75</td>\n",
       "      <td>17850</td>\n",
       "      <td>United Kingdom</td>\n",
       "      <td>2010-12-01</td>\n",
       "      <td>2010</td>\n",
       "    </tr>\n",
       "    <tr>\n",
       "      <th>3</th>\n",
       "      <td>536365</td>\n",
       "      <td>84029G</td>\n",
       "      <td>KNITTED UNION FLAG HOT WATER BOTTLE</td>\n",
       "      <td>6</td>\n",
       "      <td>2010-12-01 08:26:00</td>\n",
       "      <td>3.39</td>\n",
       "      <td>17850</td>\n",
       "      <td>United Kingdom</td>\n",
       "      <td>2010-12-01</td>\n",
       "      <td>2010</td>\n",
       "    </tr>\n",
       "    <tr>\n",
       "      <th>4</th>\n",
       "      <td>536365</td>\n",
       "      <td>84029E</td>\n",
       "      <td>RED WOOLLY HOTTIE WHITE HEART.</td>\n",
       "      <td>6</td>\n",
       "      <td>2010-12-01 08:26:00</td>\n",
       "      <td>3.39</td>\n",
       "      <td>17850</td>\n",
       "      <td>United Kingdom</td>\n",
       "      <td>2010-12-01</td>\n",
       "      <td>2010</td>\n",
       "    </tr>\n",
       "  </tbody>\n",
       "</table>\n",
       "</div>"
      ],
      "text/plain": [
       "  InvoiceNo StockCode                          Description  Quantity  \\\n",
       "0    536365    85123A   WHITE HANGING HEART T-LIGHT HOLDER         6   \n",
       "1    536365     71053                  WHITE METAL LANTERN         6   \n",
       "2    536365    84406B       CREAM CUPID HEARTS COAT HANGER         8   \n",
       "3    536365    84029G  KNITTED UNION FLAG HOT WATER BOTTLE         6   \n",
       "4    536365    84029E       RED WOOLLY HOTTIE WHITE HEART.         6   \n",
       "\n",
       "          InvoiceDate  UnitPrice CustomerID         Country   date_ymd  year  \n",
       "0 2010-12-01 08:26:00       2.55      17850  United Kingdom 2010-12-01  2010  \n",
       "1 2010-12-01 08:26:00       3.39      17850  United Kingdom 2010-12-01  2010  \n",
       "2 2010-12-01 08:26:00       2.75      17850  United Kingdom 2010-12-01  2010  \n",
       "3 2010-12-01 08:26:00       3.39      17850  United Kingdom 2010-12-01  2010  \n",
       "4 2010-12-01 08:26:00       3.39      17850  United Kingdom 2010-12-01  2010  "
      ]
     },
     "execution_count": 117,
     "metadata": {},
     "output_type": "execute_result"
    }
   ],
   "source": [
    "# df[\"date_ymd\"] = df[\"InvoiceDate\"].astype(\"datetime64[D]\")  # Keeps only date\n",
    "\"\"\"\n",
    "df['date_ymd'] = df['date_ymd'].dt.strftime('%d.%m.%Y')  # Converts to string for display\n",
    "df['date_ymd'] = pd.to_datetime(df['date_ymd'], format='%d.%m.%Y')  # Converts back to datetime64\n",
    "\n",
    "\"\"\"\n",
    "df[\"date_ymd\"] = df[\"InvoiceDate\"].dt.floor(\"D\")\n",
    "df[\"year\"] = df[\"InvoiceDate\"].dt.year\n",
    "df.head()"
   ]
  },
  {
   "cell_type": "code",
   "execution_count": 118,
   "metadata": {},
   "outputs": [
    {
     "data": {
      "text/html": [
       "<div>\n",
       "<style scoped>\n",
       "    .dataframe tbody tr th:only-of-type {\n",
       "        vertical-align: middle;\n",
       "    }\n",
       "\n",
       "    .dataframe tbody tr th {\n",
       "        vertical-align: top;\n",
       "    }\n",
       "\n",
       "    .dataframe thead th {\n",
       "        text-align: right;\n",
       "    }\n",
       "</style>\n",
       "<table border=\"1\" class=\"dataframe\">\n",
       "  <thead>\n",
       "    <tr style=\"text-align: right;\">\n",
       "      <th></th>\n",
       "      <th>InvoiceNo</th>\n",
       "      <th>StockCode</th>\n",
       "      <th>Description</th>\n",
       "      <th>Quantity</th>\n",
       "      <th>InvoiceDate</th>\n",
       "      <th>UnitPrice</th>\n",
       "      <th>CustomerID</th>\n",
       "      <th>Country</th>\n",
       "      <th>date_ymd</th>\n",
       "      <th>year</th>\n",
       "      <th>amount</th>\n",
       "    </tr>\n",
       "  </thead>\n",
       "  <tbody>\n",
       "    <tr>\n",
       "      <th>0</th>\n",
       "      <td>536365</td>\n",
       "      <td>85123A</td>\n",
       "      <td>WHITE HANGING HEART T-LIGHT HOLDER</td>\n",
       "      <td>6</td>\n",
       "      <td>2010-12-01 08:26:00</td>\n",
       "      <td>2.55</td>\n",
       "      <td>17850</td>\n",
       "      <td>United Kingdom</td>\n",
       "      <td>2010-12-01</td>\n",
       "      <td>2010</td>\n",
       "      <td>15.30</td>\n",
       "    </tr>\n",
       "    <tr>\n",
       "      <th>1</th>\n",
       "      <td>536365</td>\n",
       "      <td>71053</td>\n",
       "      <td>WHITE METAL LANTERN</td>\n",
       "      <td>6</td>\n",
       "      <td>2010-12-01 08:26:00</td>\n",
       "      <td>3.39</td>\n",
       "      <td>17850</td>\n",
       "      <td>United Kingdom</td>\n",
       "      <td>2010-12-01</td>\n",
       "      <td>2010</td>\n",
       "      <td>20.34</td>\n",
       "    </tr>\n",
       "    <tr>\n",
       "      <th>2</th>\n",
       "      <td>536365</td>\n",
       "      <td>84406B</td>\n",
       "      <td>CREAM CUPID HEARTS COAT HANGER</td>\n",
       "      <td>8</td>\n",
       "      <td>2010-12-01 08:26:00</td>\n",
       "      <td>2.75</td>\n",
       "      <td>17850</td>\n",
       "      <td>United Kingdom</td>\n",
       "      <td>2010-12-01</td>\n",
       "      <td>2010</td>\n",
       "      <td>22.00</td>\n",
       "    </tr>\n",
       "    <tr>\n",
       "      <th>3</th>\n",
       "      <td>536365</td>\n",
       "      <td>84029G</td>\n",
       "      <td>KNITTED UNION FLAG HOT WATER BOTTLE</td>\n",
       "      <td>6</td>\n",
       "      <td>2010-12-01 08:26:00</td>\n",
       "      <td>3.39</td>\n",
       "      <td>17850</td>\n",
       "      <td>United Kingdom</td>\n",
       "      <td>2010-12-01</td>\n",
       "      <td>2010</td>\n",
       "      <td>20.34</td>\n",
       "    </tr>\n",
       "    <tr>\n",
       "      <th>4</th>\n",
       "      <td>536365</td>\n",
       "      <td>84029E</td>\n",
       "      <td>RED WOOLLY HOTTIE WHITE HEART.</td>\n",
       "      <td>6</td>\n",
       "      <td>2010-12-01 08:26:00</td>\n",
       "      <td>3.39</td>\n",
       "      <td>17850</td>\n",
       "      <td>United Kingdom</td>\n",
       "      <td>2010-12-01</td>\n",
       "      <td>2010</td>\n",
       "      <td>20.34</td>\n",
       "    </tr>\n",
       "  </tbody>\n",
       "</table>\n",
       "</div>"
      ],
      "text/plain": [
       "  InvoiceNo StockCode                          Description  Quantity  \\\n",
       "0    536365    85123A   WHITE HANGING HEART T-LIGHT HOLDER         6   \n",
       "1    536365     71053                  WHITE METAL LANTERN         6   \n",
       "2    536365    84406B       CREAM CUPID HEARTS COAT HANGER         8   \n",
       "3    536365    84029G  KNITTED UNION FLAG HOT WATER BOTTLE         6   \n",
       "4    536365    84029E       RED WOOLLY HOTTIE WHITE HEART.         6   \n",
       "\n",
       "          InvoiceDate  UnitPrice CustomerID         Country   date_ymd  year  \\\n",
       "0 2010-12-01 08:26:00       2.55      17850  United Kingdom 2010-12-01  2010   \n",
       "1 2010-12-01 08:26:00       3.39      17850  United Kingdom 2010-12-01  2010   \n",
       "2 2010-12-01 08:26:00       2.75      17850  United Kingdom 2010-12-01  2010   \n",
       "3 2010-12-01 08:26:00       3.39      17850  United Kingdom 2010-12-01  2010   \n",
       "4 2010-12-01 08:26:00       3.39      17850  United Kingdom 2010-12-01  2010   \n",
       "\n",
       "   amount  \n",
       "0   15.30  \n",
       "1   20.34  \n",
       "2   22.00  \n",
       "3   20.34  \n",
       "4   20.34  "
      ]
     },
     "execution_count": 118,
     "metadata": {},
     "output_type": "execute_result"
    }
   ],
   "source": [
    "df[\"amount\"] = df[\"Quantity\"] * df[\"UnitPrice\"]\n",
    "df.head()"
   ]
  },
  {
   "cell_type": "code",
   "execution_count": 119,
   "metadata": {},
   "outputs": [
    {
     "name": "stdout",
     "output_type": "stream",
     "text": [
      "<class 'pandas.core.frame.DataFrame'>\n",
      "Index: 397924 entries, 0 to 541908\n",
      "Data columns (total 11 columns):\n",
      " #   Column       Non-Null Count   Dtype         \n",
      "---  ------       --------------   -----         \n",
      " 0   InvoiceNo    397924 non-null  object        \n",
      " 1   StockCode    397924 non-null  object        \n",
      " 2   Description  397924 non-null  object        \n",
      " 3   Quantity     397924 non-null  int64         \n",
      " 4   InvoiceDate  397924 non-null  datetime64[ns]\n",
      " 5   UnitPrice    397924 non-null  float64       \n",
      " 6   CustomerID   397924 non-null  object        \n",
      " 7   Country      397924 non-null  object        \n",
      " 8   date_ymd     397924 non-null  datetime64[ns]\n",
      " 9   year         397924 non-null  int32         \n",
      " 10  amount       397924 non-null  float64       \n",
      "dtypes: datetime64[ns](2), float64(2), int32(1), int64(1), object(5)\n",
      "memory usage: 34.9+ MB\n"
     ]
    },
    {
     "data": {
      "text/html": [
       "<div>\n",
       "<style scoped>\n",
       "    .dataframe tbody tr th:only-of-type {\n",
       "        vertical-align: middle;\n",
       "    }\n",
       "\n",
       "    .dataframe tbody tr th {\n",
       "        vertical-align: top;\n",
       "    }\n",
       "\n",
       "    .dataframe thead th {\n",
       "        text-align: right;\n",
       "    }\n",
       "</style>\n",
       "<table border=\"1\" class=\"dataframe\">\n",
       "  <thead>\n",
       "    <tr style=\"text-align: right;\">\n",
       "      <th></th>\n",
       "      <th>InvoiceNo</th>\n",
       "      <th>StockCode</th>\n",
       "      <th>Description</th>\n",
       "      <th>Quantity</th>\n",
       "      <th>InvoiceDate</th>\n",
       "      <th>UnitPrice</th>\n",
       "      <th>CustomerID</th>\n",
       "      <th>Country</th>\n",
       "      <th>date_ymd</th>\n",
       "      <th>year</th>\n",
       "      <th>amount</th>\n",
       "    </tr>\n",
       "  </thead>\n",
       "  <tbody>\n",
       "    <tr>\n",
       "      <th>0</th>\n",
       "      <td>536365</td>\n",
       "      <td>85123A</td>\n",
       "      <td>WHITE HANGING HEART T-LIGHT HOLDER</td>\n",
       "      <td>6</td>\n",
       "      <td>2010-12-01 08:26:00</td>\n",
       "      <td>2.55</td>\n",
       "      <td>17850</td>\n",
       "      <td>United Kingdom</td>\n",
       "      <td>2010-12-01</td>\n",
       "      <td>2010</td>\n",
       "      <td>15.30</td>\n",
       "    </tr>\n",
       "    <tr>\n",
       "      <th>1</th>\n",
       "      <td>536365</td>\n",
       "      <td>71053</td>\n",
       "      <td>WHITE METAL LANTERN</td>\n",
       "      <td>6</td>\n",
       "      <td>2010-12-01 08:26:00</td>\n",
       "      <td>3.39</td>\n",
       "      <td>17850</td>\n",
       "      <td>United Kingdom</td>\n",
       "      <td>2010-12-01</td>\n",
       "      <td>2010</td>\n",
       "      <td>20.34</td>\n",
       "    </tr>\n",
       "    <tr>\n",
       "      <th>2</th>\n",
       "      <td>536365</td>\n",
       "      <td>84406B</td>\n",
       "      <td>CREAM CUPID HEARTS COAT HANGER</td>\n",
       "      <td>8</td>\n",
       "      <td>2010-12-01 08:26:00</td>\n",
       "      <td>2.75</td>\n",
       "      <td>17850</td>\n",
       "      <td>United Kingdom</td>\n",
       "      <td>2010-12-01</td>\n",
       "      <td>2010</td>\n",
       "      <td>22.00</td>\n",
       "    </tr>\n",
       "    <tr>\n",
       "      <th>3</th>\n",
       "      <td>536365</td>\n",
       "      <td>84029G</td>\n",
       "      <td>KNITTED UNION FLAG HOT WATER BOTTLE</td>\n",
       "      <td>6</td>\n",
       "      <td>2010-12-01 08:26:00</td>\n",
       "      <td>3.39</td>\n",
       "      <td>17850</td>\n",
       "      <td>United Kingdom</td>\n",
       "      <td>2010-12-01</td>\n",
       "      <td>2010</td>\n",
       "      <td>20.34</td>\n",
       "    </tr>\n",
       "    <tr>\n",
       "      <th>4</th>\n",
       "      <td>536365</td>\n",
       "      <td>84029E</td>\n",
       "      <td>RED WOOLLY HOTTIE WHITE HEART.</td>\n",
       "      <td>6</td>\n",
       "      <td>2010-12-01 08:26:00</td>\n",
       "      <td>3.39</td>\n",
       "      <td>17850</td>\n",
       "      <td>United Kingdom</td>\n",
       "      <td>2010-12-01</td>\n",
       "      <td>2010</td>\n",
       "      <td>20.34</td>\n",
       "    </tr>\n",
       "  </tbody>\n",
       "</table>\n",
       "</div>"
      ],
      "text/plain": [
       "  InvoiceNo StockCode                          Description  Quantity  \\\n",
       "0    536365    85123A   WHITE HANGING HEART T-LIGHT HOLDER         6   \n",
       "1    536365     71053                  WHITE METAL LANTERN         6   \n",
       "2    536365    84406B       CREAM CUPID HEARTS COAT HANGER         8   \n",
       "3    536365    84029G  KNITTED UNION FLAG HOT WATER BOTTLE         6   \n",
       "4    536365    84029E       RED WOOLLY HOTTIE WHITE HEART.         6   \n",
       "\n",
       "          InvoiceDate  UnitPrice CustomerID         Country   date_ymd  year  \\\n",
       "0 2010-12-01 08:26:00       2.55      17850  United Kingdom 2010-12-01  2010   \n",
       "1 2010-12-01 08:26:00       3.39      17850  United Kingdom 2010-12-01  2010   \n",
       "2 2010-12-01 08:26:00       2.75      17850  United Kingdom 2010-12-01  2010   \n",
       "3 2010-12-01 08:26:00       3.39      17850  United Kingdom 2010-12-01  2010   \n",
       "4 2010-12-01 08:26:00       3.39      17850  United Kingdom 2010-12-01  2010   \n",
       "\n",
       "   amount  \n",
       "0   15.30  \n",
       "1   20.34  \n",
       "2   22.00  \n",
       "3   20.34  \n",
       "4   20.34  "
      ]
     },
     "execution_count": 119,
     "metadata": {},
     "output_type": "execute_result"
    }
   ],
   "source": [
    "df = df.query(\"Quantity > 0\")\n",
    "df.info()\n",
    "df.head()"
   ]
  },
  {
   "cell_type": "code",
   "execution_count": 120,
   "metadata": {},
   "outputs": [
    {
     "data": {
      "application/vnd.plotly.v1+json": {
       "config": {
        "plotlyServerURL": "https://plot.ly"
       },
       "data": [
        {
         "hovertemplate": "date_ymd=%{x}<br>amount=%{y}<extra></extra>",
         "legendgroup": "",
         "line": {
          "color": "#636efa",
          "dash": "solid"
         },
         "marker": {
          "symbol": "circle"
         },
         "mode": "lines",
         "name": "",
         "orientation": "v",
         "showlegend": false,
         "type": "scatter",
         "x": [
          "2010-12-01T00:00:00.000000000",
          "2010-12-02T00:00:00.000000000",
          "2010-12-03T00:00:00.000000000",
          "2010-12-05T00:00:00.000000000",
          "2010-12-06T00:00:00.000000000",
          "2010-12-07T00:00:00.000000000",
          "2010-12-08T00:00:00.000000000",
          "2010-12-09T00:00:00.000000000",
          "2010-12-10T00:00:00.000000000",
          "2010-12-12T00:00:00.000000000",
          "2010-12-13T00:00:00.000000000",
          "2010-12-14T00:00:00.000000000",
          "2010-12-15T00:00:00.000000000",
          "2010-12-16T00:00:00.000000000",
          "2010-12-17T00:00:00.000000000",
          "2010-12-19T00:00:00.000000000",
          "2010-12-20T00:00:00.000000000",
          "2010-12-21T00:00:00.000000000",
          "2010-12-22T00:00:00.000000000",
          "2010-12-23T00:00:00.000000000",
          "2011-01-04T00:00:00.000000000",
          "2011-01-05T00:00:00.000000000",
          "2011-01-06T00:00:00.000000000",
          "2011-01-07T00:00:00.000000000",
          "2011-01-09T00:00:00.000000000",
          "2011-01-10T00:00:00.000000000",
          "2011-01-11T00:00:00.000000000",
          "2011-01-12T00:00:00.000000000",
          "2011-01-13T00:00:00.000000000",
          "2011-01-14T00:00:00.000000000",
          "2011-01-16T00:00:00.000000000",
          "2011-01-17T00:00:00.000000000",
          "2011-01-18T00:00:00.000000000",
          "2011-01-19T00:00:00.000000000",
          "2011-01-20T00:00:00.000000000",
          "2011-01-21T00:00:00.000000000",
          "2011-01-23T00:00:00.000000000",
          "2011-01-24T00:00:00.000000000",
          "2011-01-25T00:00:00.000000000",
          "2011-01-26T00:00:00.000000000",
          "2011-01-27T00:00:00.000000000",
          "2011-01-28T00:00:00.000000000",
          "2011-01-30T00:00:00.000000000",
          "2011-01-31T00:00:00.000000000",
          "2011-02-01T00:00:00.000000000",
          "2011-02-02T00:00:00.000000000",
          "2011-02-03T00:00:00.000000000",
          "2011-02-04T00:00:00.000000000",
          "2011-02-06T00:00:00.000000000",
          "2011-02-07T00:00:00.000000000",
          "2011-02-08T00:00:00.000000000",
          "2011-02-09T00:00:00.000000000",
          "2011-02-10T00:00:00.000000000",
          "2011-02-11T00:00:00.000000000",
          "2011-02-13T00:00:00.000000000",
          "2011-02-14T00:00:00.000000000",
          "2011-02-15T00:00:00.000000000",
          "2011-02-16T00:00:00.000000000",
          "2011-02-17T00:00:00.000000000",
          "2011-02-18T00:00:00.000000000",
          "2011-02-20T00:00:00.000000000",
          "2011-02-21T00:00:00.000000000",
          "2011-02-22T00:00:00.000000000",
          "2011-02-23T00:00:00.000000000",
          "2011-02-24T00:00:00.000000000",
          "2011-02-25T00:00:00.000000000",
          "2011-02-27T00:00:00.000000000",
          "2011-02-28T00:00:00.000000000",
          "2011-03-01T00:00:00.000000000",
          "2011-03-02T00:00:00.000000000",
          "2011-03-03T00:00:00.000000000",
          "2011-03-04T00:00:00.000000000",
          "2011-03-06T00:00:00.000000000",
          "2011-03-07T00:00:00.000000000",
          "2011-03-08T00:00:00.000000000",
          "2011-03-09T00:00:00.000000000",
          "2011-03-10T00:00:00.000000000",
          "2011-03-11T00:00:00.000000000",
          "2011-03-13T00:00:00.000000000",
          "2011-03-14T00:00:00.000000000",
          "2011-03-15T00:00:00.000000000",
          "2011-03-16T00:00:00.000000000",
          "2011-03-17T00:00:00.000000000",
          "2011-03-18T00:00:00.000000000",
          "2011-03-20T00:00:00.000000000",
          "2011-03-21T00:00:00.000000000",
          "2011-03-22T00:00:00.000000000",
          "2011-03-23T00:00:00.000000000",
          "2011-03-24T00:00:00.000000000",
          "2011-03-25T00:00:00.000000000",
          "2011-03-27T00:00:00.000000000",
          "2011-03-28T00:00:00.000000000",
          "2011-03-29T00:00:00.000000000",
          "2011-03-30T00:00:00.000000000",
          "2011-03-31T00:00:00.000000000",
          "2011-04-01T00:00:00.000000000",
          "2011-04-03T00:00:00.000000000",
          "2011-04-04T00:00:00.000000000",
          "2011-04-05T00:00:00.000000000",
          "2011-04-06T00:00:00.000000000",
          "2011-04-07T00:00:00.000000000",
          "2011-04-08T00:00:00.000000000",
          "2011-04-10T00:00:00.000000000",
          "2011-04-11T00:00:00.000000000",
          "2011-04-12T00:00:00.000000000",
          "2011-04-13T00:00:00.000000000",
          "2011-04-14T00:00:00.000000000",
          "2011-04-15T00:00:00.000000000",
          "2011-04-17T00:00:00.000000000",
          "2011-04-18T00:00:00.000000000",
          "2011-04-19T00:00:00.000000000",
          "2011-04-20T00:00:00.000000000",
          "2011-04-21T00:00:00.000000000",
          "2011-04-26T00:00:00.000000000",
          "2011-04-27T00:00:00.000000000",
          "2011-04-28T00:00:00.000000000",
          "2011-05-01T00:00:00.000000000",
          "2011-05-03T00:00:00.000000000",
          "2011-05-04T00:00:00.000000000",
          "2011-05-05T00:00:00.000000000",
          "2011-05-06T00:00:00.000000000",
          "2011-05-08T00:00:00.000000000",
          "2011-05-09T00:00:00.000000000",
          "2011-05-10T00:00:00.000000000",
          "2011-05-11T00:00:00.000000000",
          "2011-05-12T00:00:00.000000000",
          "2011-05-13T00:00:00.000000000",
          "2011-05-15T00:00:00.000000000",
          "2011-05-16T00:00:00.000000000",
          "2011-05-17T00:00:00.000000000",
          "2011-05-18T00:00:00.000000000",
          "2011-05-19T00:00:00.000000000",
          "2011-05-20T00:00:00.000000000",
          "2011-05-22T00:00:00.000000000",
          "2011-05-23T00:00:00.000000000",
          "2011-05-24T00:00:00.000000000",
          "2011-05-25T00:00:00.000000000",
          "2011-05-26T00:00:00.000000000",
          "2011-05-27T00:00:00.000000000",
          "2011-05-29T00:00:00.000000000",
          "2011-05-31T00:00:00.000000000",
          "2011-06-01T00:00:00.000000000",
          "2011-06-02T00:00:00.000000000",
          "2011-06-03T00:00:00.000000000",
          "2011-06-05T00:00:00.000000000",
          "2011-06-06T00:00:00.000000000",
          "2011-06-07T00:00:00.000000000",
          "2011-06-08T00:00:00.000000000",
          "2011-06-09T00:00:00.000000000",
          "2011-06-10T00:00:00.000000000",
          "2011-06-12T00:00:00.000000000",
          "2011-06-13T00:00:00.000000000",
          "2011-06-14T00:00:00.000000000",
          "2011-06-15T00:00:00.000000000",
          "2011-06-16T00:00:00.000000000",
          "2011-06-17T00:00:00.000000000",
          "2011-06-19T00:00:00.000000000",
          "2011-06-20T00:00:00.000000000",
          "2011-06-21T00:00:00.000000000",
          "2011-06-22T00:00:00.000000000",
          "2011-06-23T00:00:00.000000000",
          "2011-06-24T00:00:00.000000000",
          "2011-06-26T00:00:00.000000000",
          "2011-06-27T00:00:00.000000000",
          "2011-06-28T00:00:00.000000000",
          "2011-06-29T00:00:00.000000000",
          "2011-06-30T00:00:00.000000000",
          "2011-07-01T00:00:00.000000000",
          "2011-07-03T00:00:00.000000000",
          "2011-07-04T00:00:00.000000000",
          "2011-07-05T00:00:00.000000000",
          "2011-07-06T00:00:00.000000000",
          "2011-07-07T00:00:00.000000000",
          "2011-07-08T00:00:00.000000000",
          "2011-07-10T00:00:00.000000000",
          "2011-07-11T00:00:00.000000000",
          "2011-07-12T00:00:00.000000000",
          "2011-07-13T00:00:00.000000000",
          "2011-07-14T00:00:00.000000000",
          "2011-07-15T00:00:00.000000000",
          "2011-07-17T00:00:00.000000000",
          "2011-07-18T00:00:00.000000000",
          "2011-07-19T00:00:00.000000000",
          "2011-07-20T00:00:00.000000000",
          "2011-07-21T00:00:00.000000000",
          "2011-07-22T00:00:00.000000000",
          "2011-07-24T00:00:00.000000000",
          "2011-07-25T00:00:00.000000000",
          "2011-07-26T00:00:00.000000000",
          "2011-07-27T00:00:00.000000000",
          "2011-07-28T00:00:00.000000000",
          "2011-07-29T00:00:00.000000000",
          "2011-07-31T00:00:00.000000000",
          "2011-08-01T00:00:00.000000000",
          "2011-08-02T00:00:00.000000000",
          "2011-08-03T00:00:00.000000000",
          "2011-08-04T00:00:00.000000000",
          "2011-08-05T00:00:00.000000000",
          "2011-08-07T00:00:00.000000000",
          "2011-08-08T00:00:00.000000000",
          "2011-08-09T00:00:00.000000000",
          "2011-08-10T00:00:00.000000000",
          "2011-08-11T00:00:00.000000000",
          "2011-08-12T00:00:00.000000000",
          "2011-08-14T00:00:00.000000000",
          "2011-08-15T00:00:00.000000000",
          "2011-08-16T00:00:00.000000000",
          "2011-08-17T00:00:00.000000000",
          "2011-08-18T00:00:00.000000000",
          "2011-08-19T00:00:00.000000000",
          "2011-08-21T00:00:00.000000000",
          "2011-08-22T00:00:00.000000000",
          "2011-08-23T00:00:00.000000000",
          "2011-08-24T00:00:00.000000000",
          "2011-08-25T00:00:00.000000000",
          "2011-08-26T00:00:00.000000000",
          "2011-08-28T00:00:00.000000000",
          "2011-08-30T00:00:00.000000000",
          "2011-08-31T00:00:00.000000000",
          "2011-09-01T00:00:00.000000000",
          "2011-09-02T00:00:00.000000000",
          "2011-09-04T00:00:00.000000000",
          "2011-09-05T00:00:00.000000000",
          "2011-09-06T00:00:00.000000000",
          "2011-09-07T00:00:00.000000000",
          "2011-09-08T00:00:00.000000000",
          "2011-09-09T00:00:00.000000000",
          "2011-09-11T00:00:00.000000000",
          "2011-09-12T00:00:00.000000000",
          "2011-09-13T00:00:00.000000000",
          "2011-09-14T00:00:00.000000000",
          "2011-09-15T00:00:00.000000000",
          "2011-09-16T00:00:00.000000000",
          "2011-09-18T00:00:00.000000000",
          "2011-09-19T00:00:00.000000000",
          "2011-09-20T00:00:00.000000000",
          "2011-09-21T00:00:00.000000000",
          "2011-09-22T00:00:00.000000000",
          "2011-09-23T00:00:00.000000000",
          "2011-09-25T00:00:00.000000000",
          "2011-09-26T00:00:00.000000000",
          "2011-09-27T00:00:00.000000000",
          "2011-09-28T00:00:00.000000000",
          "2011-09-29T00:00:00.000000000",
          "2011-09-30T00:00:00.000000000",
          "2011-10-02T00:00:00.000000000",
          "2011-10-03T00:00:00.000000000",
          "2011-10-04T00:00:00.000000000",
          "2011-10-05T00:00:00.000000000",
          "2011-10-06T00:00:00.000000000",
          "2011-10-07T00:00:00.000000000",
          "2011-10-09T00:00:00.000000000",
          "2011-10-10T00:00:00.000000000",
          "2011-10-11T00:00:00.000000000",
          "2011-10-12T00:00:00.000000000",
          "2011-10-13T00:00:00.000000000",
          "2011-10-14T00:00:00.000000000",
          "2011-10-16T00:00:00.000000000",
          "2011-10-17T00:00:00.000000000",
          "2011-10-18T00:00:00.000000000",
          "2011-10-19T00:00:00.000000000",
          "2011-10-20T00:00:00.000000000",
          "2011-10-21T00:00:00.000000000",
          "2011-10-23T00:00:00.000000000",
          "2011-10-24T00:00:00.000000000",
          "2011-10-25T00:00:00.000000000",
          "2011-10-26T00:00:00.000000000",
          "2011-10-27T00:00:00.000000000",
          "2011-10-28T00:00:00.000000000",
          "2011-10-30T00:00:00.000000000",
          "2011-10-31T00:00:00.000000000",
          "2011-11-01T00:00:00.000000000",
          "2011-11-02T00:00:00.000000000",
          "2011-11-03T00:00:00.000000000",
          "2011-11-04T00:00:00.000000000",
          "2011-11-06T00:00:00.000000000",
          "2011-11-07T00:00:00.000000000",
          "2011-11-08T00:00:00.000000000",
          "2011-11-09T00:00:00.000000000",
          "2011-11-10T00:00:00.000000000",
          "2011-11-11T00:00:00.000000000",
          "2011-11-13T00:00:00.000000000",
          "2011-11-14T00:00:00.000000000",
          "2011-11-15T00:00:00.000000000",
          "2011-11-16T00:00:00.000000000",
          "2011-11-17T00:00:00.000000000",
          "2011-11-18T00:00:00.000000000",
          "2011-11-20T00:00:00.000000000",
          "2011-11-21T00:00:00.000000000",
          "2011-11-22T00:00:00.000000000",
          "2011-11-23T00:00:00.000000000",
          "2011-11-24T00:00:00.000000000",
          "2011-11-25T00:00:00.000000000",
          "2011-11-27T00:00:00.000000000",
          "2011-11-28T00:00:00.000000000",
          "2011-11-29T00:00:00.000000000",
          "2011-11-30T00:00:00.000000000",
          "2011-12-01T00:00:00.000000000",
          "2011-12-02T00:00:00.000000000",
          "2011-12-04T00:00:00.000000000",
          "2011-12-05T00:00:00.000000000",
          "2011-12-06T00:00:00.000000000",
          "2011-12-07T00:00:00.000000000",
          "2011-12-08T00:00:00.000000000",
          "2011-12-09T00:00:00.000000000"
         ],
         "xaxis": "x",
         "y": {
          "bdata": "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",
          "dtype": "f8"
         },
         "yaxis": "y"
        }
       ],
       "layout": {
        "legend": {
         "tracegroupgap": 0
        },
        "margin": {
         "t": 60
        },
        "template": {
         "data": {
          "bar": [
           {
            "error_x": {
             "color": "#f2f5fa"
            },
            "error_y": {
             "color": "#f2f5fa"
            },
            "marker": {
             "line": {
              "color": "rgb(17,17,17)",
              "width": 0.5
             },
             "pattern": {
              "fillmode": "overlay",
              "size": 10,
              "solidity": 0.2
             }
            },
            "type": "bar"
           }
          ],
          "barpolar": [
           {
            "marker": {
             "line": {
              "color": "rgb(17,17,17)",
              "width": 0.5
             },
             "pattern": {
              "fillmode": "overlay",
              "size": 10,
              "solidity": 0.2
             }
            },
            "type": "barpolar"
           }
          ],
          "carpet": [
           {
            "aaxis": {
             "endlinecolor": "#A2B1C6",
             "gridcolor": "#506784",
             "linecolor": "#506784",
             "minorgridcolor": "#506784",
             "startlinecolor": "#A2B1C6"
            },
            "baxis": {
             "endlinecolor": "#A2B1C6",
             "gridcolor": "#506784",
             "linecolor": "#506784",
             "minorgridcolor": "#506784",
             "startlinecolor": "#A2B1C6"
            },
            "type": "carpet"
           }
          ],
          "choropleth": [
           {
            "colorbar": {
             "outlinewidth": 0,
             "ticks": ""
            },
            "type": "choropleth"
           }
          ],
          "contour": [
           {
            "colorbar": {
             "outlinewidth": 0,
             "ticks": ""
            },
            "colorscale": [
             [
              0,
              "#0d0887"
             ],
             [
              0.1111111111111111,
              "#46039f"
             ],
             [
              0.2222222222222222,
              "#7201a8"
             ],
             [
              0.3333333333333333,
              "#9c179e"
             ],
             [
              0.4444444444444444,
              "#bd3786"
             ],
             [
              0.5555555555555556,
              "#d8576b"
             ],
             [
              0.6666666666666666,
              "#ed7953"
             ],
             [
              0.7777777777777778,
              "#fb9f3a"
             ],
             [
              0.8888888888888888,
              "#fdca26"
             ],
             [
              1,
              "#f0f921"
             ]
            ],
            "type": "contour"
           }
          ],
          "contourcarpet": [
           {
            "colorbar": {
             "outlinewidth": 0,
             "ticks": ""
            },
            "type": "contourcarpet"
           }
          ],
          "heatmap": [
           {
            "colorbar": {
             "outlinewidth": 0,
             "ticks": ""
            },
            "colorscale": [
             [
              0,
              "#0d0887"
             ],
             [
              0.1111111111111111,
              "#46039f"
             ],
             [
              0.2222222222222222,
              "#7201a8"
             ],
             [
              0.3333333333333333,
              "#9c179e"
             ],
             [
              0.4444444444444444,
              "#bd3786"
             ],
             [
              0.5555555555555556,
              "#d8576b"
             ],
             [
              0.6666666666666666,
              "#ed7953"
             ],
             [
              0.7777777777777778,
              "#fb9f3a"
             ],
             [
              0.8888888888888888,
              "#fdca26"
             ],
             [
              1,
              "#f0f921"
             ]
            ],
            "type": "heatmap"
           }
          ],
          "histogram": [
           {
            "marker": {
             "pattern": {
              "fillmode": "overlay",
              "size": 10,
              "solidity": 0.2
             }
            },
            "type": "histogram"
           }
          ],
          "histogram2d": [
           {
            "colorbar": {
             "outlinewidth": 0,
             "ticks": ""
            },
            "colorscale": [
             [
              0,
              "#0d0887"
             ],
             [
              0.1111111111111111,
              "#46039f"
             ],
             [
              0.2222222222222222,
              "#7201a8"
             ],
             [
              0.3333333333333333,
              "#9c179e"
             ],
             [
              0.4444444444444444,
              "#bd3786"
             ],
             [
              0.5555555555555556,
              "#d8576b"
             ],
             [
              0.6666666666666666,
              "#ed7953"
             ],
             [
              0.7777777777777778,
              "#fb9f3a"
             ],
             [
              0.8888888888888888,
              "#fdca26"
             ],
             [
              1,
              "#f0f921"
             ]
            ],
            "type": "histogram2d"
           }
          ],
          "histogram2dcontour": [
           {
            "colorbar": {
             "outlinewidth": 0,
             "ticks": ""
            },
            "colorscale": [
             [
              0,
              "#0d0887"
             ],
             [
              0.1111111111111111,
              "#46039f"
             ],
             [
              0.2222222222222222,
              "#7201a8"
             ],
             [
              0.3333333333333333,
              "#9c179e"
             ],
             [
              0.4444444444444444,
              "#bd3786"
             ],
             [
              0.5555555555555556,
              "#d8576b"
             ],
             [
              0.6666666666666666,
              "#ed7953"
             ],
             [
              0.7777777777777778,
              "#fb9f3a"
             ],
             [
              0.8888888888888888,
              "#fdca26"
             ],
             [
              1,
              "#f0f921"
             ]
            ],
            "type": "histogram2dcontour"
           }
          ],
          "mesh3d": [
           {
            "colorbar": {
             "outlinewidth": 0,
             "ticks": ""
            },
            "type": "mesh3d"
           }
          ],
          "parcoords": [
           {
            "line": {
             "colorbar": {
              "outlinewidth": 0,
              "ticks": ""
             }
            },
            "type": "parcoords"
           }
          ],
          "pie": [
           {
            "automargin": true,
            "type": "pie"
           }
          ],
          "scatter": [
           {
            "marker": {
             "line": {
              "color": "#283442"
             }
            },
            "type": "scatter"
           }
          ],
          "scatter3d": [
           {
            "line": {
             "colorbar": {
              "outlinewidth": 0,
              "ticks": ""
             }
            },
            "marker": {
             "colorbar": {
              "outlinewidth": 0,
              "ticks": ""
             }
            },
            "type": "scatter3d"
           }
          ],
          "scattercarpet": [
           {
            "marker": {
             "colorbar": {
              "outlinewidth": 0,
              "ticks": ""
             }
            },
            "type": "scattercarpet"
           }
          ],
          "scattergeo": [
           {
            "marker": {
             "colorbar": {
              "outlinewidth": 0,
              "ticks": ""
             }
            },
            "type": "scattergeo"
           }
          ],
          "scattergl": [
           {
            "marker": {
             "line": {
              "color": "#283442"
             }
            },
            "type": "scattergl"
           }
          ],
          "scattermap": [
           {
            "marker": {
             "colorbar": {
              "outlinewidth": 0,
              "ticks": ""
             }
            },
            "type": "scattermap"
           }
          ],
          "scattermapbox": [
           {
            "marker": {
             "colorbar": {
              "outlinewidth": 0,
              "ticks": ""
             }
            },
            "type": "scattermapbox"
           }
          ],
          "scatterpolar": [
           {
            "marker": {
             "colorbar": {
              "outlinewidth": 0,
              "ticks": ""
             }
            },
            "type": "scatterpolar"
           }
          ],
          "scatterpolargl": [
           {
            "marker": {
             "colorbar": {
              "outlinewidth": 0,
              "ticks": ""
             }
            },
            "type": "scatterpolargl"
           }
          ],
          "scatterternary": [
           {
            "marker": {
             "colorbar": {
              "outlinewidth": 0,
              "ticks": ""
             }
            },
            "type": "scatterternary"
           }
          ],
          "surface": [
           {
            "colorbar": {
             "outlinewidth": 0,
             "ticks": ""
            },
            "colorscale": [
             [
              0,
              "#0d0887"
             ],
             [
              0.1111111111111111,
              "#46039f"
             ],
             [
              0.2222222222222222,
              "#7201a8"
             ],
             [
              0.3333333333333333,
              "#9c179e"
             ],
             [
              0.4444444444444444,
              "#bd3786"
             ],
             [
              0.5555555555555556,
              "#d8576b"
             ],
             [
              0.6666666666666666,
              "#ed7953"
             ],
             [
              0.7777777777777778,
              "#fb9f3a"
             ],
             [
              0.8888888888888888,
              "#fdca26"
             ],
             [
              1,
              "#f0f921"
             ]
            ],
            "type": "surface"
           }
          ],
          "table": [
           {
            "cells": {
             "fill": {
              "color": "#506784"
             },
             "line": {
              "color": "rgb(17,17,17)"
             }
            },
            "header": {
             "fill": {
              "color": "#2a3f5f"
             },
             "line": {
              "color": "rgb(17,17,17)"
             }
            },
            "type": "table"
           }
          ]
         },
         "layout": {
          "annotationdefaults": {
           "arrowcolor": "#f2f5fa",
           "arrowhead": 0,
           "arrowwidth": 1
          },
          "autotypenumbers": "strict",
          "coloraxis": {
           "colorbar": {
            "outlinewidth": 0,
            "ticks": ""
           }
          },
          "colorscale": {
           "diverging": [
            [
             0,
             "#8e0152"
            ],
            [
             0.1,
             "#c51b7d"
            ],
            [
             0.2,
             "#de77ae"
            ],
            [
             0.3,
             "#f1b6da"
            ],
            [
             0.4,
             "#fde0ef"
            ],
            [
             0.5,
             "#f7f7f7"
            ],
            [
             0.6,
             "#e6f5d0"
            ],
            [
             0.7,
             "#b8e186"
            ],
            [
             0.8,
             "#7fbc41"
            ],
            [
             0.9,
             "#4d9221"
            ],
            [
             1,
             "#276419"
            ]
           ],
           "sequential": [
            [
             0,
             "#0d0887"
            ],
            [
             0.1111111111111111,
             "#46039f"
            ],
            [
             0.2222222222222222,
             "#7201a8"
            ],
            [
             0.3333333333333333,
             "#9c179e"
            ],
            [
             0.4444444444444444,
             "#bd3786"
            ],
            [
             0.5555555555555556,
             "#d8576b"
            ],
            [
             0.6666666666666666,
             "#ed7953"
            ],
            [
             0.7777777777777778,
             "#fb9f3a"
            ],
            [
             0.8888888888888888,
             "#fdca26"
            ],
            [
             1,
             "#f0f921"
            ]
           ],
           "sequentialminus": [
            [
             0,
             "#0d0887"
            ],
            [
             0.1111111111111111,
             "#46039f"
            ],
            [
             0.2222222222222222,
             "#7201a8"
            ],
            [
             0.3333333333333333,
             "#9c179e"
            ],
            [
             0.4444444444444444,
             "#bd3786"
            ],
            [
             0.5555555555555556,
             "#d8576b"
            ],
            [
             0.6666666666666666,
             "#ed7953"
            ],
            [
             0.7777777777777778,
             "#fb9f3a"
            ],
            [
             0.8888888888888888,
             "#fdca26"
            ],
            [
             1,
             "#f0f921"
            ]
           ]
          },
          "colorway": [
           "#636efa",
           "#EF553B",
           "#00cc96",
           "#ab63fa",
           "#FFA15A",
           "#19d3f3",
           "#FF6692",
           "#B6E880",
           "#FF97FF",
           "#FECB52"
          ],
          "font": {
           "color": "#f2f5fa"
          },
          "geo": {
           "bgcolor": "rgb(17,17,17)",
           "lakecolor": "rgb(17,17,17)",
           "landcolor": "rgb(17,17,17)",
           "showlakes": true,
           "showland": true,
           "subunitcolor": "#506784"
          },
          "hoverlabel": {
           "align": "left"
          },
          "hovermode": "closest",
          "mapbox": {
           "style": "dark"
          },
          "paper_bgcolor": "rgb(17,17,17)",
          "plot_bgcolor": "rgb(17,17,17)",
          "polar": {
           "angularaxis": {
            "gridcolor": "#506784",
            "linecolor": "#506784",
            "ticks": ""
           },
           "bgcolor": "rgb(17,17,17)",
           "radialaxis": {
            "gridcolor": "#506784",
            "linecolor": "#506784",
            "ticks": ""
           }
          },
          "scene": {
           "xaxis": {
            "backgroundcolor": "rgb(17,17,17)",
            "gridcolor": "#506784",
            "gridwidth": 2,
            "linecolor": "#506784",
            "showbackground": true,
            "ticks": "",
            "zerolinecolor": "#C8D4E3"
           },
           "yaxis": {
            "backgroundcolor": "rgb(17,17,17)",
            "gridcolor": "#506784",
            "gridwidth": 2,
            "linecolor": "#506784",
            "showbackground": true,
            "ticks": "",
            "zerolinecolor": "#C8D4E3"
           },
           "zaxis": {
            "backgroundcolor": "rgb(17,17,17)",
            "gridcolor": "#506784",
            "gridwidth": 2,
            "linecolor": "#506784",
            "showbackground": true,
            "ticks": "",
            "zerolinecolor": "#C8D4E3"
           }
          },
          "shapedefaults": {
           "line": {
            "color": "#f2f5fa"
           }
          },
          "sliderdefaults": {
           "bgcolor": "#C8D4E3",
           "bordercolor": "rgb(17,17,17)",
           "borderwidth": 1,
           "tickwidth": 0
          },
          "ternary": {
           "aaxis": {
            "gridcolor": "#506784",
            "linecolor": "#506784",
            "ticks": ""
           },
           "baxis": {
            "gridcolor": "#506784",
            "linecolor": "#506784",
            "ticks": ""
           },
           "bgcolor": "rgb(17,17,17)",
           "caxis": {
            "gridcolor": "#506784",
            "linecolor": "#506784",
            "ticks": ""
           }
          },
          "title": {
           "x": 0.05
          },
          "updatemenudefaults": {
           "bgcolor": "#506784",
           "borderwidth": 0
          },
          "xaxis": {
           "automargin": true,
           "gridcolor": "#283442",
           "linecolor": "#506784",
           "ticks": "",
           "title": {
            "standoff": 15
           },
           "zerolinecolor": "#283442",
           "zerolinewidth": 2
          },
          "yaxis": {
           "automargin": true,
           "gridcolor": "#283442",
           "linecolor": "#506784",
           "ticks": "",
           "title": {
            "standoff": 15
           },
           "zerolinecolor": "#283442",
           "zerolinewidth": 2
          }
         }
        },
        "xaxis": {
         "anchor": "y",
         "domain": [
          0,
          1
         ],
         "title": {
          "text": "date_ymd"
         }
        },
        "yaxis": {
         "anchor": "x",
         "domain": [
          0,
          1
         ],
         "title": {
          "text": "amount"
         }
        }
       }
      }
     },
     "metadata": {},
     "output_type": "display_data"
    }
   ],
   "source": [
    "amount_by_date = df.groupby(\"date_ymd\")[\"amount\"].sum().reset_index()\n",
    "amount_by_date\n",
    "\n",
    "fig = px.line(amount_by_date, x=\"date_ymd\", y=\"amount\", template=\"plotly_dark\")\n",
    "fig.show()"
   ]
  },
  {
   "cell_type": "code",
   "execution_count": 27,
   "metadata": {},
   "outputs": [
    {
     "data": {
      "application/vnd.plotly.v1+json": {
       "config": {
        "plotlyServerURL": "https://plot.ly"
       },
       "data": [
        {
         "hovertemplate": "date_ymd=%{x}<br>Customer_count=%{y}<extra></extra>",
         "legendgroup": "",
         "line": {
          "color": "#636efa",
          "dash": "solid"
         },
         "marker": {
          "symbol": "circle"
         },
         "mode": "lines",
         "name": "",
         "orientation": "v",
         "showlegend": false,
         "type": "scatter",
         "x": [
          "2010-12-01T00:00:00.000000000",
          "2010-12-02T00:00:00.000000000",
          "2010-12-03T00:00:00.000000000",
          "2010-12-05T00:00:00.000000000",
          "2010-12-06T00:00:00.000000000",
          "2010-12-07T00:00:00.000000000",
          "2010-12-08T00:00:00.000000000",
          "2010-12-09T00:00:00.000000000",
          "2010-12-10T00:00:00.000000000",
          "2010-12-12T00:00:00.000000000",
          "2010-12-13T00:00:00.000000000",
          "2010-12-14T00:00:00.000000000",
          "2010-12-15T00:00:00.000000000",
          "2010-12-16T00:00:00.000000000",
          "2010-12-17T00:00:00.000000000",
          "2010-12-19T00:00:00.000000000",
          "2010-12-20T00:00:00.000000000",
          "2010-12-21T00:00:00.000000000",
          "2010-12-22T00:00:00.000000000",
          "2010-12-23T00:00:00.000000000",
          "2011-01-04T00:00:00.000000000",
          "2011-01-05T00:00:00.000000000",
          "2011-01-06T00:00:00.000000000",
          "2011-01-07T00:00:00.000000000",
          "2011-01-09T00:00:00.000000000",
          "2011-01-10T00:00:00.000000000",
          "2011-01-11T00:00:00.000000000",
          "2011-01-12T00:00:00.000000000",
          "2011-01-13T00:00:00.000000000",
          "2011-01-14T00:00:00.000000000",
          "2011-01-16T00:00:00.000000000",
          "2011-01-17T00:00:00.000000000",
          "2011-01-18T00:00:00.000000000",
          "2011-01-19T00:00:00.000000000",
          "2011-01-20T00:00:00.000000000",
          "2011-01-21T00:00:00.000000000",
          "2011-01-23T00:00:00.000000000",
          "2011-01-24T00:00:00.000000000",
          "2011-01-25T00:00:00.000000000",
          "2011-01-26T00:00:00.000000000",
          "2011-01-27T00:00:00.000000000",
          "2011-01-28T00:00:00.000000000",
          "2011-01-30T00:00:00.000000000",
          "2011-01-31T00:00:00.000000000",
          "2011-02-01T00:00:00.000000000",
          "2011-02-02T00:00:00.000000000",
          "2011-02-03T00:00:00.000000000",
          "2011-02-04T00:00:00.000000000",
          "2011-02-06T00:00:00.000000000",
          "2011-02-07T00:00:00.000000000",
          "2011-02-08T00:00:00.000000000",
          "2011-02-09T00:00:00.000000000",
          "2011-02-10T00:00:00.000000000",
          "2011-02-11T00:00:00.000000000",
          "2011-02-13T00:00:00.000000000",
          "2011-02-14T00:00:00.000000000",
          "2011-02-15T00:00:00.000000000",
          "2011-02-16T00:00:00.000000000",
          "2011-02-17T00:00:00.000000000",
          "2011-02-18T00:00:00.000000000",
          "2011-02-20T00:00:00.000000000",
          "2011-02-21T00:00:00.000000000",
          "2011-02-22T00:00:00.000000000",
          "2011-02-23T00:00:00.000000000",
          "2011-02-24T00:00:00.000000000",
          "2011-02-25T00:00:00.000000000",
          "2011-02-27T00:00:00.000000000",
          "2011-02-28T00:00:00.000000000",
          "2011-03-01T00:00:00.000000000",
          "2011-03-02T00:00:00.000000000",
          "2011-03-03T00:00:00.000000000",
          "2011-03-04T00:00:00.000000000",
          "2011-03-06T00:00:00.000000000",
          "2011-03-07T00:00:00.000000000",
          "2011-03-08T00:00:00.000000000",
          "2011-03-09T00:00:00.000000000",
          "2011-03-10T00:00:00.000000000",
          "2011-03-11T00:00:00.000000000",
          "2011-03-13T00:00:00.000000000",
          "2011-03-14T00:00:00.000000000",
          "2011-03-15T00:00:00.000000000",
          "2011-03-16T00:00:00.000000000",
          "2011-03-17T00:00:00.000000000",
          "2011-03-18T00:00:00.000000000",
          "2011-03-20T00:00:00.000000000",
          "2011-03-21T00:00:00.000000000",
          "2011-03-22T00:00:00.000000000",
          "2011-03-23T00:00:00.000000000",
          "2011-03-24T00:00:00.000000000",
          "2011-03-25T00:00:00.000000000",
          "2011-03-27T00:00:00.000000000",
          "2011-03-28T00:00:00.000000000",
          "2011-03-29T00:00:00.000000000",
          "2011-03-30T00:00:00.000000000",
          "2011-03-31T00:00:00.000000000",
          "2011-04-01T00:00:00.000000000",
          "2011-04-03T00:00:00.000000000",
          "2011-04-04T00:00:00.000000000",
          "2011-04-05T00:00:00.000000000",
          "2011-04-06T00:00:00.000000000",
          "2011-04-07T00:00:00.000000000",
          "2011-04-08T00:00:00.000000000",
          "2011-04-10T00:00:00.000000000",
          "2011-04-11T00:00:00.000000000",
          "2011-04-12T00:00:00.000000000",
          "2011-04-13T00:00:00.000000000",
          "2011-04-14T00:00:00.000000000",
          "2011-04-15T00:00:00.000000000",
          "2011-04-17T00:00:00.000000000",
          "2011-04-18T00:00:00.000000000",
          "2011-04-19T00:00:00.000000000",
          "2011-04-20T00:00:00.000000000",
          "2011-04-21T00:00:00.000000000",
          "2011-04-26T00:00:00.000000000",
          "2011-04-27T00:00:00.000000000",
          "2011-04-28T00:00:00.000000000",
          "2011-05-01T00:00:00.000000000",
          "2011-05-03T00:00:00.000000000",
          "2011-05-04T00:00:00.000000000",
          "2011-05-05T00:00:00.000000000",
          "2011-05-06T00:00:00.000000000",
          "2011-05-08T00:00:00.000000000",
          "2011-05-09T00:00:00.000000000",
          "2011-05-10T00:00:00.000000000",
          "2011-05-11T00:00:00.000000000",
          "2011-05-12T00:00:00.000000000",
          "2011-05-13T00:00:00.000000000",
          "2011-05-15T00:00:00.000000000",
          "2011-05-16T00:00:00.000000000",
          "2011-05-17T00:00:00.000000000",
          "2011-05-18T00:00:00.000000000",
          "2011-05-19T00:00:00.000000000",
          "2011-05-20T00:00:00.000000000",
          "2011-05-22T00:00:00.000000000",
          "2011-05-23T00:00:00.000000000",
          "2011-05-24T00:00:00.000000000",
          "2011-05-25T00:00:00.000000000",
          "2011-05-26T00:00:00.000000000",
          "2011-05-27T00:00:00.000000000",
          "2011-05-29T00:00:00.000000000",
          "2011-05-31T00:00:00.000000000",
          "2011-06-01T00:00:00.000000000",
          "2011-06-02T00:00:00.000000000",
          "2011-06-03T00:00:00.000000000",
          "2011-06-05T00:00:00.000000000",
          "2011-06-06T00:00:00.000000000",
          "2011-06-07T00:00:00.000000000",
          "2011-06-08T00:00:00.000000000",
          "2011-06-09T00:00:00.000000000",
          "2011-06-10T00:00:00.000000000",
          "2011-06-12T00:00:00.000000000",
          "2011-06-13T00:00:00.000000000",
          "2011-06-14T00:00:00.000000000",
          "2011-06-15T00:00:00.000000000",
          "2011-06-16T00:00:00.000000000",
          "2011-06-17T00:00:00.000000000",
          "2011-06-19T00:00:00.000000000",
          "2011-06-20T00:00:00.000000000",
          "2011-06-21T00:00:00.000000000",
          "2011-06-22T00:00:00.000000000",
          "2011-06-23T00:00:00.000000000",
          "2011-06-24T00:00:00.000000000",
          "2011-06-26T00:00:00.000000000",
          "2011-06-27T00:00:00.000000000",
          "2011-06-28T00:00:00.000000000",
          "2011-06-29T00:00:00.000000000",
          "2011-06-30T00:00:00.000000000",
          "2011-07-01T00:00:00.000000000",
          "2011-07-03T00:00:00.000000000",
          "2011-07-04T00:00:00.000000000",
          "2011-07-05T00:00:00.000000000",
          "2011-07-06T00:00:00.000000000",
          "2011-07-07T00:00:00.000000000",
          "2011-07-08T00:00:00.000000000",
          "2011-07-10T00:00:00.000000000",
          "2011-07-11T00:00:00.000000000",
          "2011-07-12T00:00:00.000000000",
          "2011-07-13T00:00:00.000000000",
          "2011-07-14T00:00:00.000000000",
          "2011-07-15T00:00:00.000000000",
          "2011-07-17T00:00:00.000000000",
          "2011-07-18T00:00:00.000000000",
          "2011-07-19T00:00:00.000000000",
          "2011-07-20T00:00:00.000000000",
          "2011-07-21T00:00:00.000000000",
          "2011-07-22T00:00:00.000000000",
          "2011-07-24T00:00:00.000000000",
          "2011-07-25T00:00:00.000000000",
          "2011-07-26T00:00:00.000000000",
          "2011-07-27T00:00:00.000000000",
          "2011-07-28T00:00:00.000000000",
          "2011-07-29T00:00:00.000000000",
          "2011-07-31T00:00:00.000000000",
          "2011-08-01T00:00:00.000000000",
          "2011-08-02T00:00:00.000000000",
          "2011-08-03T00:00:00.000000000",
          "2011-08-04T00:00:00.000000000",
          "2011-08-05T00:00:00.000000000",
          "2011-08-07T00:00:00.000000000",
          "2011-08-08T00:00:00.000000000",
          "2011-08-09T00:00:00.000000000",
          "2011-08-10T00:00:00.000000000",
          "2011-08-11T00:00:00.000000000",
          "2011-08-12T00:00:00.000000000",
          "2011-08-14T00:00:00.000000000",
          "2011-08-15T00:00:00.000000000",
          "2011-08-16T00:00:00.000000000",
          "2011-08-17T00:00:00.000000000",
          "2011-08-18T00:00:00.000000000",
          "2011-08-19T00:00:00.000000000",
          "2011-08-21T00:00:00.000000000",
          "2011-08-22T00:00:00.000000000",
          "2011-08-23T00:00:00.000000000",
          "2011-08-24T00:00:00.000000000",
          "2011-08-25T00:00:00.000000000",
          "2011-08-26T00:00:00.000000000",
          "2011-08-28T00:00:00.000000000",
          "2011-08-30T00:00:00.000000000",
          "2011-08-31T00:00:00.000000000",
          "2011-09-01T00:00:00.000000000",
          "2011-09-02T00:00:00.000000000",
          "2011-09-04T00:00:00.000000000",
          "2011-09-05T00:00:00.000000000",
          "2011-09-06T00:00:00.000000000",
          "2011-09-07T00:00:00.000000000",
          "2011-09-08T00:00:00.000000000",
          "2011-09-09T00:00:00.000000000",
          "2011-09-11T00:00:00.000000000",
          "2011-09-12T00:00:00.000000000",
          "2011-09-13T00:00:00.000000000",
          "2011-09-14T00:00:00.000000000",
          "2011-09-15T00:00:00.000000000",
          "2011-09-16T00:00:00.000000000",
          "2011-09-18T00:00:00.000000000",
          "2011-09-19T00:00:00.000000000",
          "2011-09-20T00:00:00.000000000",
          "2011-09-21T00:00:00.000000000",
          "2011-09-22T00:00:00.000000000",
          "2011-09-23T00:00:00.000000000",
          "2011-09-25T00:00:00.000000000",
          "2011-09-26T00:00:00.000000000",
          "2011-09-27T00:00:00.000000000",
          "2011-09-28T00:00:00.000000000",
          "2011-09-29T00:00:00.000000000",
          "2011-09-30T00:00:00.000000000",
          "2011-10-02T00:00:00.000000000",
          "2011-10-03T00:00:00.000000000",
          "2011-10-04T00:00:00.000000000",
          "2011-10-05T00:00:00.000000000",
          "2011-10-06T00:00:00.000000000",
          "2011-10-07T00:00:00.000000000",
          "2011-10-09T00:00:00.000000000",
          "2011-10-10T00:00:00.000000000",
          "2011-10-11T00:00:00.000000000",
          "2011-10-12T00:00:00.000000000",
          "2011-10-13T00:00:00.000000000",
          "2011-10-14T00:00:00.000000000",
          "2011-10-16T00:00:00.000000000",
          "2011-10-17T00:00:00.000000000",
          "2011-10-18T00:00:00.000000000",
          "2011-10-19T00:00:00.000000000",
          "2011-10-20T00:00:00.000000000",
          "2011-10-21T00:00:00.000000000",
          "2011-10-23T00:00:00.000000000",
          "2011-10-24T00:00:00.000000000",
          "2011-10-25T00:00:00.000000000",
          "2011-10-26T00:00:00.000000000",
          "2011-10-27T00:00:00.000000000",
          "2011-10-28T00:00:00.000000000",
          "2011-10-30T00:00:00.000000000",
          "2011-10-31T00:00:00.000000000",
          "2011-11-01T00:00:00.000000000",
          "2011-11-02T00:00:00.000000000",
          "2011-11-03T00:00:00.000000000",
          "2011-11-04T00:00:00.000000000",
          "2011-11-06T00:00:00.000000000",
          "2011-11-07T00:00:00.000000000",
          "2011-11-08T00:00:00.000000000",
          "2011-11-09T00:00:00.000000000",
          "2011-11-10T00:00:00.000000000",
          "2011-11-11T00:00:00.000000000",
          "2011-11-13T00:00:00.000000000",
          "2011-11-14T00:00:00.000000000",
          "2011-11-15T00:00:00.000000000",
          "2011-11-16T00:00:00.000000000",
          "2011-11-17T00:00:00.000000000",
          "2011-11-18T00:00:00.000000000",
          "2011-11-20T00:00:00.000000000",
          "2011-11-21T00:00:00.000000000",
          "2011-11-22T00:00:00.000000000",
          "2011-11-23T00:00:00.000000000",
          "2011-11-24T00:00:00.000000000",
          "2011-11-25T00:00:00.000000000",
          "2011-11-27T00:00:00.000000000",
          "2011-11-28T00:00:00.000000000",
          "2011-11-29T00:00:00.000000000",
          "2011-11-30T00:00:00.000000000",
          "2011-12-01T00:00:00.000000000",
          "2011-12-02T00:00:00.000000000",
          "2011-12-04T00:00:00.000000000",
          "2011-12-05T00:00:00.000000000",
          "2011-12-06T00:00:00.000000000",
          "2011-12-07T00:00:00.000000000",
          "2011-12-08T00:00:00.000000000",
          "2011-12-09T00:00:00.000000000"
         ],
         "xaxis": "x",
         "y": {
          "bdata": "X2MyS1JBY1o1KjtJQmIzESkXDQ8iLS0tMCAvKiklFi0fIR4gGys5MTIkFjI5NywpCyMlFigiFCQvODIiGh8vMTQqHzE0KC4mGDEpLy4qECkoLjMwOC8oNz8tHzQuPzk7EjEtJDk/HzY2NksoJzg0OkA3ODESMjdMQDo7PzhENB00OD5SOjk3NTQyMRQwIyElPjZER0wpJjEqKkojOTEtN0AoGB8pJDcjGCA6PUMqFCspMj0iLS05LzsiNTEsJ0Q5JSMnO0wvHCYmKjooFS4sLUA2JDk4O0QpJBcnRTotOTYqPzREPj06RiwZPzVBXjhKPkRIXTwgMEFSYkojU0VJQz0gTElHTDgnPUFNWzxYPUpPVklYUV9lcFdLXV1vfWJbVXhrYkYzYW1cb186aWdeaSM=",
          "dtype": "i1"
         },
         "yaxis": "y"
        }
       ],
       "layout": {
        "legend": {
         "tracegroupgap": 0
        },
        "margin": {
         "t": 60
        },
        "template": {
         "data": {
          "bar": [
           {
            "error_x": {
             "color": "#f2f5fa"
            },
            "error_y": {
             "color": "#f2f5fa"
            },
            "marker": {
             "line": {
              "color": "rgb(17,17,17)",
              "width": 0.5
             },
             "pattern": {
              "fillmode": "overlay",
              "size": 10,
              "solidity": 0.2
             }
            },
            "type": "bar"
           }
          ],
          "barpolar": [
           {
            "marker": {
             "line": {
              "color": "rgb(17,17,17)",
              "width": 0.5
             },
             "pattern": {
              "fillmode": "overlay",
              "size": 10,
              "solidity": 0.2
             }
            },
            "type": "barpolar"
           }
          ],
          "carpet": [
           {
            "aaxis": {
             "endlinecolor": "#A2B1C6",
             "gridcolor": "#506784",
             "linecolor": "#506784",
             "minorgridcolor": "#506784",
             "startlinecolor": "#A2B1C6"
            },
            "baxis": {
             "endlinecolor": "#A2B1C6",
             "gridcolor": "#506784",
             "linecolor": "#506784",
             "minorgridcolor": "#506784",
             "startlinecolor": "#A2B1C6"
            },
            "type": "carpet"
           }
          ],
          "choropleth": [
           {
            "colorbar": {
             "outlinewidth": 0,
             "ticks": ""
            },
            "type": "choropleth"
           }
          ],
          "contour": [
           {
            "colorbar": {
             "outlinewidth": 0,
             "ticks": ""
            },
            "colorscale": [
             [
              0,
              "#0d0887"
             ],
             [
              0.1111111111111111,
              "#46039f"
             ],
             [
              0.2222222222222222,
              "#7201a8"
             ],
             [
              0.3333333333333333,
              "#9c179e"
             ],
             [
              0.4444444444444444,
              "#bd3786"
             ],
             [
              0.5555555555555556,
              "#d8576b"
             ],
             [
              0.6666666666666666,
              "#ed7953"
             ],
             [
              0.7777777777777778,
              "#fb9f3a"
             ],
             [
              0.8888888888888888,
              "#fdca26"
             ],
             [
              1,
              "#f0f921"
             ]
            ],
            "type": "contour"
           }
          ],
          "contourcarpet": [
           {
            "colorbar": {
             "outlinewidth": 0,
             "ticks": ""
            },
            "type": "contourcarpet"
           }
          ],
          "heatmap": [
           {
            "colorbar": {
             "outlinewidth": 0,
             "ticks": ""
            },
            "colorscale": [
             [
              0,
              "#0d0887"
             ],
             [
              0.1111111111111111,
              "#46039f"
             ],
             [
              0.2222222222222222,
              "#7201a8"
             ],
             [
              0.3333333333333333,
              "#9c179e"
             ],
             [
              0.4444444444444444,
              "#bd3786"
             ],
             [
              0.5555555555555556,
              "#d8576b"
             ],
             [
              0.6666666666666666,
              "#ed7953"
             ],
             [
              0.7777777777777778,
              "#fb9f3a"
             ],
             [
              0.8888888888888888,
              "#fdca26"
             ],
             [
              1,
              "#f0f921"
             ]
            ],
            "type": "heatmap"
           }
          ],
          "histogram": [
           {
            "marker": {
             "pattern": {
              "fillmode": "overlay",
              "size": 10,
              "solidity": 0.2
             }
            },
            "type": "histogram"
           }
          ],
          "histogram2d": [
           {
            "colorbar": {
             "outlinewidth": 0,
             "ticks": ""
            },
            "colorscale": [
             [
              0,
              "#0d0887"
             ],
             [
              0.1111111111111111,
              "#46039f"
             ],
             [
              0.2222222222222222,
              "#7201a8"
             ],
             [
              0.3333333333333333,
              "#9c179e"
             ],
             [
              0.4444444444444444,
              "#bd3786"
             ],
             [
              0.5555555555555556,
              "#d8576b"
             ],
             [
              0.6666666666666666,
              "#ed7953"
             ],
             [
              0.7777777777777778,
              "#fb9f3a"
             ],
             [
              0.8888888888888888,
              "#fdca26"
             ],
             [
              1,
              "#f0f921"
             ]
            ],
            "type": "histogram2d"
           }
          ],
          "histogram2dcontour": [
           {
            "colorbar": {
             "outlinewidth": 0,
             "ticks": ""
            },
            "colorscale": [
             [
              0,
              "#0d0887"
             ],
             [
              0.1111111111111111,
              "#46039f"
             ],
             [
              0.2222222222222222,
              "#7201a8"
             ],
             [
              0.3333333333333333,
              "#9c179e"
             ],
             [
              0.4444444444444444,
              "#bd3786"
             ],
             [
              0.5555555555555556,
              "#d8576b"
             ],
             [
              0.6666666666666666,
              "#ed7953"
             ],
             [
              0.7777777777777778,
              "#fb9f3a"
             ],
             [
              0.8888888888888888,
              "#fdca26"
             ],
             [
              1,
              "#f0f921"
             ]
            ],
            "type": "histogram2dcontour"
           }
          ],
          "mesh3d": [
           {
            "colorbar": {
             "outlinewidth": 0,
             "ticks": ""
            },
            "type": "mesh3d"
           }
          ],
          "parcoords": [
           {
            "line": {
             "colorbar": {
              "outlinewidth": 0,
              "ticks": ""
             }
            },
            "type": "parcoords"
           }
          ],
          "pie": [
           {
            "automargin": true,
            "type": "pie"
           }
          ],
          "scatter": [
           {
            "marker": {
             "line": {
              "color": "#283442"
             }
            },
            "type": "scatter"
           }
          ],
          "scatter3d": [
           {
            "line": {
             "colorbar": {
              "outlinewidth": 0,
              "ticks": ""
             }
            },
            "marker": {
             "colorbar": {
              "outlinewidth": 0,
              "ticks": ""
             }
            },
            "type": "scatter3d"
           }
          ],
          "scattercarpet": [
           {
            "marker": {
             "colorbar": {
              "outlinewidth": 0,
              "ticks": ""
             }
            },
            "type": "scattercarpet"
           }
          ],
          "scattergeo": [
           {
            "marker": {
             "colorbar": {
              "outlinewidth": 0,
              "ticks": ""
             }
            },
            "type": "scattergeo"
           }
          ],
          "scattergl": [
           {
            "marker": {
             "line": {
              "color": "#283442"
             }
            },
            "type": "scattergl"
           }
          ],
          "scattermap": [
           {
            "marker": {
             "colorbar": {
              "outlinewidth": 0,
              "ticks": ""
             }
            },
            "type": "scattermap"
           }
          ],
          "scattermapbox": [
           {
            "marker": {
             "colorbar": {
              "outlinewidth": 0,
              "ticks": ""
             }
            },
            "type": "scattermapbox"
           }
          ],
          "scatterpolar": [
           {
            "marker": {
             "colorbar": {
              "outlinewidth": 0,
              "ticks": ""
             }
            },
            "type": "scatterpolar"
           }
          ],
          "scatterpolargl": [
           {
            "marker": {
             "colorbar": {
              "outlinewidth": 0,
              "ticks": ""
             }
            },
            "type": "scatterpolargl"
           }
          ],
          "scatterternary": [
           {
            "marker": {
             "colorbar": {
              "outlinewidth": 0,
              "ticks": ""
             }
            },
            "type": "scatterternary"
           }
          ],
          "surface": [
           {
            "colorbar": {
             "outlinewidth": 0,
             "ticks": ""
            },
            "colorscale": [
             [
              0,
              "#0d0887"
             ],
             [
              0.1111111111111111,
              "#46039f"
             ],
             [
              0.2222222222222222,
              "#7201a8"
             ],
             [
              0.3333333333333333,
              "#9c179e"
             ],
             [
              0.4444444444444444,
              "#bd3786"
             ],
             [
              0.5555555555555556,
              "#d8576b"
             ],
             [
              0.6666666666666666,
              "#ed7953"
             ],
             [
              0.7777777777777778,
              "#fb9f3a"
             ],
             [
              0.8888888888888888,
              "#fdca26"
             ],
             [
              1,
              "#f0f921"
             ]
            ],
            "type": "surface"
           }
          ],
          "table": [
           {
            "cells": {
             "fill": {
              "color": "#506784"
             },
             "line": {
              "color": "rgb(17,17,17)"
             }
            },
            "header": {
             "fill": {
              "color": "#2a3f5f"
             },
             "line": {
              "color": "rgb(17,17,17)"
             }
            },
            "type": "table"
           }
          ]
         },
         "layout": {
          "annotationdefaults": {
           "arrowcolor": "#f2f5fa",
           "arrowhead": 0,
           "arrowwidth": 1
          },
          "autotypenumbers": "strict",
          "coloraxis": {
           "colorbar": {
            "outlinewidth": 0,
            "ticks": ""
           }
          },
          "colorscale": {
           "diverging": [
            [
             0,
             "#8e0152"
            ],
            [
             0.1,
             "#c51b7d"
            ],
            [
             0.2,
             "#de77ae"
            ],
            [
             0.3,
             "#f1b6da"
            ],
            [
             0.4,
             "#fde0ef"
            ],
            [
             0.5,
             "#f7f7f7"
            ],
            [
             0.6,
             "#e6f5d0"
            ],
            [
             0.7,
             "#b8e186"
            ],
            [
             0.8,
             "#7fbc41"
            ],
            [
             0.9,
             "#4d9221"
            ],
            [
             1,
             "#276419"
            ]
           ],
           "sequential": [
            [
             0,
             "#0d0887"
            ],
            [
             0.1111111111111111,
             "#46039f"
            ],
            [
             0.2222222222222222,
             "#7201a8"
            ],
            [
             0.3333333333333333,
             "#9c179e"
            ],
            [
             0.4444444444444444,
             "#bd3786"
            ],
            [
             0.5555555555555556,
             "#d8576b"
            ],
            [
             0.6666666666666666,
             "#ed7953"
            ],
            [
             0.7777777777777778,
             "#fb9f3a"
            ],
            [
             0.8888888888888888,
             "#fdca26"
            ],
            [
             1,
             "#f0f921"
            ]
           ],
           "sequentialminus": [
            [
             0,
             "#0d0887"
            ],
            [
             0.1111111111111111,
             "#46039f"
            ],
            [
             0.2222222222222222,
             "#7201a8"
            ],
            [
             0.3333333333333333,
             "#9c179e"
            ],
            [
             0.4444444444444444,
             "#bd3786"
            ],
            [
             0.5555555555555556,
             "#d8576b"
            ],
            [
             0.6666666666666666,
             "#ed7953"
            ],
            [
             0.7777777777777778,
             "#fb9f3a"
            ],
            [
             0.8888888888888888,
             "#fdca26"
            ],
            [
             1,
             "#f0f921"
            ]
           ]
          },
          "colorway": [
           "#636efa",
           "#EF553B",
           "#00cc96",
           "#ab63fa",
           "#FFA15A",
           "#19d3f3",
           "#FF6692",
           "#B6E880",
           "#FF97FF",
           "#FECB52"
          ],
          "font": {
           "color": "#f2f5fa"
          },
          "geo": {
           "bgcolor": "rgb(17,17,17)",
           "lakecolor": "rgb(17,17,17)",
           "landcolor": "rgb(17,17,17)",
           "showlakes": true,
           "showland": true,
           "subunitcolor": "#506784"
          },
          "hoverlabel": {
           "align": "left"
          },
          "hovermode": "closest",
          "mapbox": {
           "style": "dark"
          },
          "paper_bgcolor": "rgb(17,17,17)",
          "plot_bgcolor": "rgb(17,17,17)",
          "polar": {
           "angularaxis": {
            "gridcolor": "#506784",
            "linecolor": "#506784",
            "ticks": ""
           },
           "bgcolor": "rgb(17,17,17)",
           "radialaxis": {
            "gridcolor": "#506784",
            "linecolor": "#506784",
            "ticks": ""
           }
          },
          "scene": {
           "xaxis": {
            "backgroundcolor": "rgb(17,17,17)",
            "gridcolor": "#506784",
            "gridwidth": 2,
            "linecolor": "#506784",
            "showbackground": true,
            "ticks": "",
            "zerolinecolor": "#C8D4E3"
           },
           "yaxis": {
            "backgroundcolor": "rgb(17,17,17)",
            "gridcolor": "#506784",
            "gridwidth": 2,
            "linecolor": "#506784",
            "showbackground": true,
            "ticks": "",
            "zerolinecolor": "#C8D4E3"
           },
           "zaxis": {
            "backgroundcolor": "rgb(17,17,17)",
            "gridcolor": "#506784",
            "gridwidth": 2,
            "linecolor": "#506784",
            "showbackground": true,
            "ticks": "",
            "zerolinecolor": "#C8D4E3"
           }
          },
          "shapedefaults": {
           "line": {
            "color": "#f2f5fa"
           }
          },
          "sliderdefaults": {
           "bgcolor": "#C8D4E3",
           "bordercolor": "rgb(17,17,17)",
           "borderwidth": 1,
           "tickwidth": 0
          },
          "ternary": {
           "aaxis": {
            "gridcolor": "#506784",
            "linecolor": "#506784",
            "ticks": ""
           },
           "baxis": {
            "gridcolor": "#506784",
            "linecolor": "#506784",
            "ticks": ""
           },
           "bgcolor": "rgb(17,17,17)",
           "caxis": {
            "gridcolor": "#506784",
            "linecolor": "#506784",
            "ticks": ""
           }
          },
          "title": {
           "x": 0.05
          },
          "updatemenudefaults": {
           "bgcolor": "#506784",
           "borderwidth": 0
          },
          "xaxis": {
           "automargin": true,
           "gridcolor": "#283442",
           "linecolor": "#506784",
           "ticks": "",
           "title": {
            "standoff": 15
           },
           "zerolinecolor": "#283442",
           "zerolinewidth": 2
          },
          "yaxis": {
           "automargin": true,
           "gridcolor": "#283442",
           "linecolor": "#506784",
           "ticks": "",
           "title": {
            "standoff": 15
           },
           "zerolinecolor": "#283442",
           "zerolinewidth": 2
          }
         }
        },
        "xaxis": {
         "anchor": "y",
         "domain": [
          0,
          1
         ],
         "title": {
          "text": "date_ymd"
         }
        },
        "yaxis": {
         "anchor": "x",
         "domain": [
          0,
          1
         ],
         "title": {
          "text": "Customer_count"
         }
        }
       }
      }
     },
     "metadata": {},
     "output_type": "display_data"
    }
   ],
   "source": [
    "customer_count_by_date = (\n",
    "    df.groupby(\"date_ymd\")[\"CustomerID\"]\n",
    "    .nunique()\n",
    "    .reset_index()\n",
    "    .rename({\"CustomerID\": \"Customer_count\"}, axis=1)\n",
    ")\n",
    "customer_count_by_date\n",
    "\n",
    "fig = px.line(\n",
    "    customer_count_by_date,\n",
    "    x=\"date_ymd\",\n",
    "    y=\"Customer_count\",\n",
    "    template=\"plotly_dark\",\n",
    ")\n",
    "fig.show()"
   ]
  },
  {
   "cell_type": "code",
   "execution_count": 121,
   "metadata": {},
   "outputs": [
    {
     "data": {
      "application/vnd.plotly.v1+json": {
       "config": {
        "plotlyServerURL": "https://plot.ly"
       },
       "data": [
        {
         "hovertemplate": "date_ymd=%{x}<br>Invoice_count=%{y}<extra></extra>",
         "legendgroup": "",
         "line": {
          "color": "#636efa",
          "dash": "solid"
         },
         "marker": {
          "symbol": "circle"
         },
         "mode": "lines",
         "name": "",
         "orientation": "v",
         "showlegend": false,
         "type": "scatter",
         "x": [
          "2010-12-01T00:00:00.000000000",
          "2010-12-02T00:00:00.000000000",
          "2010-12-03T00:00:00.000000000",
          "2010-12-05T00:00:00.000000000",
          "2010-12-06T00:00:00.000000000",
          "2010-12-07T00:00:00.000000000",
          "2010-12-08T00:00:00.000000000",
          "2010-12-09T00:00:00.000000000",
          "2010-12-10T00:00:00.000000000",
          "2010-12-12T00:00:00.000000000",
          "2010-12-13T00:00:00.000000000",
          "2010-12-14T00:00:00.000000000",
          "2010-12-15T00:00:00.000000000",
          "2010-12-16T00:00:00.000000000",
          "2010-12-17T00:00:00.000000000",
          "2010-12-19T00:00:00.000000000",
          "2010-12-20T00:00:00.000000000",
          "2010-12-21T00:00:00.000000000",
          "2010-12-22T00:00:00.000000000",
          "2010-12-23T00:00:00.000000000",
          "2011-01-04T00:00:00.000000000",
          "2011-01-05T00:00:00.000000000",
          "2011-01-06T00:00:00.000000000",
          "2011-01-07T00:00:00.000000000",
          "2011-01-09T00:00:00.000000000",
          "2011-01-10T00:00:00.000000000",
          "2011-01-11T00:00:00.000000000",
          "2011-01-12T00:00:00.000000000",
          "2011-01-13T00:00:00.000000000",
          "2011-01-14T00:00:00.000000000",
          "2011-01-16T00:00:00.000000000",
          "2011-01-17T00:00:00.000000000",
          "2011-01-18T00:00:00.000000000",
          "2011-01-19T00:00:00.000000000",
          "2011-01-20T00:00:00.000000000",
          "2011-01-21T00:00:00.000000000",
          "2011-01-23T00:00:00.000000000",
          "2011-01-24T00:00:00.000000000",
          "2011-01-25T00:00:00.000000000",
          "2011-01-26T00:00:00.000000000",
          "2011-01-27T00:00:00.000000000",
          "2011-01-28T00:00:00.000000000",
          "2011-01-30T00:00:00.000000000",
          "2011-01-31T00:00:00.000000000",
          "2011-02-01T00:00:00.000000000",
          "2011-02-02T00:00:00.000000000",
          "2011-02-03T00:00:00.000000000",
          "2011-02-04T00:00:00.000000000",
          "2011-02-06T00:00:00.000000000",
          "2011-02-07T00:00:00.000000000",
          "2011-02-08T00:00:00.000000000",
          "2011-02-09T00:00:00.000000000",
          "2011-02-10T00:00:00.000000000",
          "2011-02-11T00:00:00.000000000",
          "2011-02-13T00:00:00.000000000",
          "2011-02-14T00:00:00.000000000",
          "2011-02-15T00:00:00.000000000",
          "2011-02-16T00:00:00.000000000",
          "2011-02-17T00:00:00.000000000",
          "2011-02-18T00:00:00.000000000",
          "2011-02-20T00:00:00.000000000",
          "2011-02-21T00:00:00.000000000",
          "2011-02-22T00:00:00.000000000",
          "2011-02-23T00:00:00.000000000",
          "2011-02-24T00:00:00.000000000",
          "2011-02-25T00:00:00.000000000",
          "2011-02-27T00:00:00.000000000",
          "2011-02-28T00:00:00.000000000",
          "2011-03-01T00:00:00.000000000",
          "2011-03-02T00:00:00.000000000",
          "2011-03-03T00:00:00.000000000",
          "2011-03-04T00:00:00.000000000",
          "2011-03-06T00:00:00.000000000",
          "2011-03-07T00:00:00.000000000",
          "2011-03-08T00:00:00.000000000",
          "2011-03-09T00:00:00.000000000",
          "2011-03-10T00:00:00.000000000",
          "2011-03-11T00:00:00.000000000",
          "2011-03-13T00:00:00.000000000",
          "2011-03-14T00:00:00.000000000",
          "2011-03-15T00:00:00.000000000",
          "2011-03-16T00:00:00.000000000",
          "2011-03-17T00:00:00.000000000",
          "2011-03-18T00:00:00.000000000",
          "2011-03-20T00:00:00.000000000",
          "2011-03-21T00:00:00.000000000",
          "2011-03-22T00:00:00.000000000",
          "2011-03-23T00:00:00.000000000",
          "2011-03-24T00:00:00.000000000",
          "2011-03-25T00:00:00.000000000",
          "2011-03-27T00:00:00.000000000",
          "2011-03-28T00:00:00.000000000",
          "2011-03-29T00:00:00.000000000",
          "2011-03-30T00:00:00.000000000",
          "2011-03-31T00:00:00.000000000",
          "2011-04-01T00:00:00.000000000",
          "2011-04-03T00:00:00.000000000",
          "2011-04-04T00:00:00.000000000",
          "2011-04-05T00:00:00.000000000",
          "2011-04-06T00:00:00.000000000",
          "2011-04-07T00:00:00.000000000",
          "2011-04-08T00:00:00.000000000",
          "2011-04-10T00:00:00.000000000",
          "2011-04-11T00:00:00.000000000",
          "2011-04-12T00:00:00.000000000",
          "2011-04-13T00:00:00.000000000",
          "2011-04-14T00:00:00.000000000",
          "2011-04-15T00:00:00.000000000",
          "2011-04-17T00:00:00.000000000",
          "2011-04-18T00:00:00.000000000",
          "2011-04-19T00:00:00.000000000",
          "2011-04-20T00:00:00.000000000",
          "2011-04-21T00:00:00.000000000",
          "2011-04-26T00:00:00.000000000",
          "2011-04-27T00:00:00.000000000",
          "2011-04-28T00:00:00.000000000",
          "2011-05-01T00:00:00.000000000",
          "2011-05-03T00:00:00.000000000",
          "2011-05-04T00:00:00.000000000",
          "2011-05-05T00:00:00.000000000",
          "2011-05-06T00:00:00.000000000",
          "2011-05-08T00:00:00.000000000",
          "2011-05-09T00:00:00.000000000",
          "2011-05-10T00:00:00.000000000",
          "2011-05-11T00:00:00.000000000",
          "2011-05-12T00:00:00.000000000",
          "2011-05-13T00:00:00.000000000",
          "2011-05-15T00:00:00.000000000",
          "2011-05-16T00:00:00.000000000",
          "2011-05-17T00:00:00.000000000",
          "2011-05-18T00:00:00.000000000",
          "2011-05-19T00:00:00.000000000",
          "2011-05-20T00:00:00.000000000",
          "2011-05-22T00:00:00.000000000",
          "2011-05-23T00:00:00.000000000",
          "2011-05-24T00:00:00.000000000",
          "2011-05-25T00:00:00.000000000",
          "2011-05-26T00:00:00.000000000",
          "2011-05-27T00:00:00.000000000",
          "2011-05-29T00:00:00.000000000",
          "2011-05-31T00:00:00.000000000",
          "2011-06-01T00:00:00.000000000",
          "2011-06-02T00:00:00.000000000",
          "2011-06-03T00:00:00.000000000",
          "2011-06-05T00:00:00.000000000",
          "2011-06-06T00:00:00.000000000",
          "2011-06-07T00:00:00.000000000",
          "2011-06-08T00:00:00.000000000",
          "2011-06-09T00:00:00.000000000",
          "2011-06-10T00:00:00.000000000",
          "2011-06-12T00:00:00.000000000",
          "2011-06-13T00:00:00.000000000",
          "2011-06-14T00:00:00.000000000",
          "2011-06-15T00:00:00.000000000",
          "2011-06-16T00:00:00.000000000",
          "2011-06-17T00:00:00.000000000",
          "2011-06-19T00:00:00.000000000",
          "2011-06-20T00:00:00.000000000",
          "2011-06-21T00:00:00.000000000",
          "2011-06-22T00:00:00.000000000",
          "2011-06-23T00:00:00.000000000",
          "2011-06-24T00:00:00.000000000",
          "2011-06-26T00:00:00.000000000",
          "2011-06-27T00:00:00.000000000",
          "2011-06-28T00:00:00.000000000",
          "2011-06-29T00:00:00.000000000",
          "2011-06-30T00:00:00.000000000",
          "2011-07-01T00:00:00.000000000",
          "2011-07-03T00:00:00.000000000",
          "2011-07-04T00:00:00.000000000",
          "2011-07-05T00:00:00.000000000",
          "2011-07-06T00:00:00.000000000",
          "2011-07-07T00:00:00.000000000",
          "2011-07-08T00:00:00.000000000",
          "2011-07-10T00:00:00.000000000",
          "2011-07-11T00:00:00.000000000",
          "2011-07-12T00:00:00.000000000",
          "2011-07-13T00:00:00.000000000",
          "2011-07-14T00:00:00.000000000",
          "2011-07-15T00:00:00.000000000",
          "2011-07-17T00:00:00.000000000",
          "2011-07-18T00:00:00.000000000",
          "2011-07-19T00:00:00.000000000",
          "2011-07-20T00:00:00.000000000",
          "2011-07-21T00:00:00.000000000",
          "2011-07-22T00:00:00.000000000",
          "2011-07-24T00:00:00.000000000",
          "2011-07-25T00:00:00.000000000",
          "2011-07-26T00:00:00.000000000",
          "2011-07-27T00:00:00.000000000",
          "2011-07-28T00:00:00.000000000",
          "2011-07-29T00:00:00.000000000",
          "2011-07-31T00:00:00.000000000",
          "2011-08-01T00:00:00.000000000",
          "2011-08-02T00:00:00.000000000",
          "2011-08-03T00:00:00.000000000",
          "2011-08-04T00:00:00.000000000",
          "2011-08-05T00:00:00.000000000",
          "2011-08-07T00:00:00.000000000",
          "2011-08-08T00:00:00.000000000",
          "2011-08-09T00:00:00.000000000",
          "2011-08-10T00:00:00.000000000",
          "2011-08-11T00:00:00.000000000",
          "2011-08-12T00:00:00.000000000",
          "2011-08-14T00:00:00.000000000",
          "2011-08-15T00:00:00.000000000",
          "2011-08-16T00:00:00.000000000",
          "2011-08-17T00:00:00.000000000",
          "2011-08-18T00:00:00.000000000",
          "2011-08-19T00:00:00.000000000",
          "2011-08-21T00:00:00.000000000",
          "2011-08-22T00:00:00.000000000",
          "2011-08-23T00:00:00.000000000",
          "2011-08-24T00:00:00.000000000",
          "2011-08-25T00:00:00.000000000",
          "2011-08-26T00:00:00.000000000",
          "2011-08-28T00:00:00.000000000",
          "2011-08-30T00:00:00.000000000",
          "2011-08-31T00:00:00.000000000",
          "2011-09-01T00:00:00.000000000",
          "2011-09-02T00:00:00.000000000",
          "2011-09-04T00:00:00.000000000",
          "2011-09-05T00:00:00.000000000",
          "2011-09-06T00:00:00.000000000",
          "2011-09-07T00:00:00.000000000",
          "2011-09-08T00:00:00.000000000",
          "2011-09-09T00:00:00.000000000",
          "2011-09-11T00:00:00.000000000",
          "2011-09-12T00:00:00.000000000",
          "2011-09-13T00:00:00.000000000",
          "2011-09-14T00:00:00.000000000",
          "2011-09-15T00:00:00.000000000",
          "2011-09-16T00:00:00.000000000",
          "2011-09-18T00:00:00.000000000",
          "2011-09-19T00:00:00.000000000",
          "2011-09-20T00:00:00.000000000",
          "2011-09-21T00:00:00.000000000",
          "2011-09-22T00:00:00.000000000",
          "2011-09-23T00:00:00.000000000",
          "2011-09-25T00:00:00.000000000",
          "2011-09-26T00:00:00.000000000",
          "2011-09-27T00:00:00.000000000",
          "2011-09-28T00:00:00.000000000",
          "2011-09-29T00:00:00.000000000",
          "2011-09-30T00:00:00.000000000",
          "2011-10-02T00:00:00.000000000",
          "2011-10-03T00:00:00.000000000",
          "2011-10-04T00:00:00.000000000",
          "2011-10-05T00:00:00.000000000",
          "2011-10-06T00:00:00.000000000",
          "2011-10-07T00:00:00.000000000",
          "2011-10-09T00:00:00.000000000",
          "2011-10-10T00:00:00.000000000",
          "2011-10-11T00:00:00.000000000",
          "2011-10-12T00:00:00.000000000",
          "2011-10-13T00:00:00.000000000",
          "2011-10-14T00:00:00.000000000",
          "2011-10-16T00:00:00.000000000",
          "2011-10-17T00:00:00.000000000",
          "2011-10-18T00:00:00.000000000",
          "2011-10-19T00:00:00.000000000",
          "2011-10-20T00:00:00.000000000",
          "2011-10-21T00:00:00.000000000",
          "2011-10-23T00:00:00.000000000",
          "2011-10-24T00:00:00.000000000",
          "2011-10-25T00:00:00.000000000",
          "2011-10-26T00:00:00.000000000",
          "2011-10-27T00:00:00.000000000",
          "2011-10-28T00:00:00.000000000",
          "2011-10-30T00:00:00.000000000",
          "2011-10-31T00:00:00.000000000",
          "2011-11-01T00:00:00.000000000",
          "2011-11-02T00:00:00.000000000",
          "2011-11-03T00:00:00.000000000",
          "2011-11-04T00:00:00.000000000",
          "2011-11-06T00:00:00.000000000",
          "2011-11-07T00:00:00.000000000",
          "2011-11-08T00:00:00.000000000",
          "2011-11-09T00:00:00.000000000",
          "2011-11-10T00:00:00.000000000",
          "2011-11-11T00:00:00.000000000",
          "2011-11-13T00:00:00.000000000",
          "2011-11-14T00:00:00.000000000",
          "2011-11-15T00:00:00.000000000",
          "2011-11-16T00:00:00.000000000",
          "2011-11-17T00:00:00.000000000",
          "2011-11-18T00:00:00.000000000",
          "2011-11-20T00:00:00.000000000",
          "2011-11-21T00:00:00.000000000",
          "2011-11-22T00:00:00.000000000",
          "2011-11-23T00:00:00.000000000",
          "2011-11-24T00:00:00.000000000",
          "2011-11-25T00:00:00.000000000",
          "2011-11-27T00:00:00.000000000",
          "2011-11-28T00:00:00.000000000",
          "2011-11-29T00:00:00.000000000",
          "2011-11-30T00:00:00.000000000",
          "2011-12-01T00:00:00.000000000",
          "2011-12-02T00:00:00.000000000",
          "2011-12-04T00:00:00.000000000",
          "2011-12-05T00:00:00.000000000",
          "2011-12-06T00:00:00.000000000",
          "2011-12-07T00:00:00.000000000",
          "2011-12-08T00:00:00.000000000",
          "2011-12-09T00:00:00.000000000"
         ],
         "xaxis": "x",
         "y": {
          "bdata": "eQCJADkAVwBeAEcAbwBiAEgAKwBAAFEARgBxADcAEgAyABsADgARACMAMAAuAC8AMAAiADUAKgApACYAGQAuACAAIQAiACIAGwAsADsANQAyACUAGAA5ADoAOAAtAC0ACwAmACYAFwApACYAFAAkADUAPgA3ACMAGgAhADIANQA1AC0AIQAzADgAKgAvAC0AGgA6ACwAMwA0ADAAEAAwACkAMgA4ADQAOQAwACkAOwBEADQAHwA6ADIAQgA7AEQAEwA2AC4AJQA9AEEAIAA7ADwAPABSACkAKgA+ADUAPgBHADsAPQA3ABIAOwA+AFIATQA/AD8ARgBJAFQAQwAeAEAASABHAFwARQA9AEAAPgA8AD0AOAAYADMAJQAqACkAQwA4AEcAUgBSACwAJgA0ADQAMgBRAC4APAA7ADAAOQBFAC0AGgAjADEAJwBBACoAGQAlAEAAQgBJAC4AGAAwAC0AOABFACUAMgAuAD4ANQBGACUAOQA1AC4ALABOAD4AKQAnACkAPgBPADQAHQAmACgAKwBAAC4AGQAwADIAMwBDADcAJgA/ADwASABIAC0AJQAXACoATABAADEAQwA9AC4ASAA6AEsAQwA/AEEATwAuABsARQBDAEMAbwA6AEsAQQBMAFAAZwBGACIAQQBKAF4AdABVACYAWgBOAFIASgBGACMAVQBNAE0AVgA+ACoASQBIAFwAaABBAGAAPwBMAFMAZABXAGUAWgBjAHYAfQBdAFMAaABoAHwAiABnAGIAYACCAIIAbQBKADgAcgB+AGMAdgByAD4AdABuAGgAcQApAA==",
          "dtype": "i2"
         },
         "yaxis": "y"
        }
       ],
       "layout": {
        "legend": {
         "tracegroupgap": 0
        },
        "margin": {
         "t": 60
        },
        "template": {
         "data": {
          "bar": [
           {
            "error_x": {
             "color": "#f2f5fa"
            },
            "error_y": {
             "color": "#f2f5fa"
            },
            "marker": {
             "line": {
              "color": "rgb(17,17,17)",
              "width": 0.5
             },
             "pattern": {
              "fillmode": "overlay",
              "size": 10,
              "solidity": 0.2
             }
            },
            "type": "bar"
           }
          ],
          "barpolar": [
           {
            "marker": {
             "line": {
              "color": "rgb(17,17,17)",
              "width": 0.5
             },
             "pattern": {
              "fillmode": "overlay",
              "size": 10,
              "solidity": 0.2
             }
            },
            "type": "barpolar"
           }
          ],
          "carpet": [
           {
            "aaxis": {
             "endlinecolor": "#A2B1C6",
             "gridcolor": "#506784",
             "linecolor": "#506784",
             "minorgridcolor": "#506784",
             "startlinecolor": "#A2B1C6"
            },
            "baxis": {
             "endlinecolor": "#A2B1C6",
             "gridcolor": "#506784",
             "linecolor": "#506784",
             "minorgridcolor": "#506784",
             "startlinecolor": "#A2B1C6"
            },
            "type": "carpet"
           }
          ],
          "choropleth": [
           {
            "colorbar": {
             "outlinewidth": 0,
             "ticks": ""
            },
            "type": "choropleth"
           }
          ],
          "contour": [
           {
            "colorbar": {
             "outlinewidth": 0,
             "ticks": ""
            },
            "colorscale": [
             [
              0,
              "#0d0887"
             ],
             [
              0.1111111111111111,
              "#46039f"
             ],
             [
              0.2222222222222222,
              "#7201a8"
             ],
             [
              0.3333333333333333,
              "#9c179e"
             ],
             [
              0.4444444444444444,
              "#bd3786"
             ],
             [
              0.5555555555555556,
              "#d8576b"
             ],
             [
              0.6666666666666666,
              "#ed7953"
             ],
             [
              0.7777777777777778,
              "#fb9f3a"
             ],
             [
              0.8888888888888888,
              "#fdca26"
             ],
             [
              1,
              "#f0f921"
             ]
            ],
            "type": "contour"
           }
          ],
          "contourcarpet": [
           {
            "colorbar": {
             "outlinewidth": 0,
             "ticks": ""
            },
            "type": "contourcarpet"
           }
          ],
          "heatmap": [
           {
            "colorbar": {
             "outlinewidth": 0,
             "ticks": ""
            },
            "colorscale": [
             [
              0,
              "#0d0887"
             ],
             [
              0.1111111111111111,
              "#46039f"
             ],
             [
              0.2222222222222222,
              "#7201a8"
             ],
             [
              0.3333333333333333,
              "#9c179e"
             ],
             [
              0.4444444444444444,
              "#bd3786"
             ],
             [
              0.5555555555555556,
              "#d8576b"
             ],
             [
              0.6666666666666666,
              "#ed7953"
             ],
             [
              0.7777777777777778,
              "#fb9f3a"
             ],
             [
              0.8888888888888888,
              "#fdca26"
             ],
             [
              1,
              "#f0f921"
             ]
            ],
            "type": "heatmap"
           }
          ],
          "histogram": [
           {
            "marker": {
             "pattern": {
              "fillmode": "overlay",
              "size": 10,
              "solidity": 0.2
             }
            },
            "type": "histogram"
           }
          ],
          "histogram2d": [
           {
            "colorbar": {
             "outlinewidth": 0,
             "ticks": ""
            },
            "colorscale": [
             [
              0,
              "#0d0887"
             ],
             [
              0.1111111111111111,
              "#46039f"
             ],
             [
              0.2222222222222222,
              "#7201a8"
             ],
             [
              0.3333333333333333,
              "#9c179e"
             ],
             [
              0.4444444444444444,
              "#bd3786"
             ],
             [
              0.5555555555555556,
              "#d8576b"
             ],
             [
              0.6666666666666666,
              "#ed7953"
             ],
             [
              0.7777777777777778,
              "#fb9f3a"
             ],
             [
              0.8888888888888888,
              "#fdca26"
             ],
             [
              1,
              "#f0f921"
             ]
            ],
            "type": "histogram2d"
           }
          ],
          "histogram2dcontour": [
           {
            "colorbar": {
             "outlinewidth": 0,
             "ticks": ""
            },
            "colorscale": [
             [
              0,
              "#0d0887"
             ],
             [
              0.1111111111111111,
              "#46039f"
             ],
             [
              0.2222222222222222,
              "#7201a8"
             ],
             [
              0.3333333333333333,
              "#9c179e"
             ],
             [
              0.4444444444444444,
              "#bd3786"
             ],
             [
              0.5555555555555556,
              "#d8576b"
             ],
             [
              0.6666666666666666,
              "#ed7953"
             ],
             [
              0.7777777777777778,
              "#fb9f3a"
             ],
             [
              0.8888888888888888,
              "#fdca26"
             ],
             [
              1,
              "#f0f921"
             ]
            ],
            "type": "histogram2dcontour"
           }
          ],
          "mesh3d": [
           {
            "colorbar": {
             "outlinewidth": 0,
             "ticks": ""
            },
            "type": "mesh3d"
           }
          ],
          "parcoords": [
           {
            "line": {
             "colorbar": {
              "outlinewidth": 0,
              "ticks": ""
             }
            },
            "type": "parcoords"
           }
          ],
          "pie": [
           {
            "automargin": true,
            "type": "pie"
           }
          ],
          "scatter": [
           {
            "marker": {
             "line": {
              "color": "#283442"
             }
            },
            "type": "scatter"
           }
          ],
          "scatter3d": [
           {
            "line": {
             "colorbar": {
              "outlinewidth": 0,
              "ticks": ""
             }
            },
            "marker": {
             "colorbar": {
              "outlinewidth": 0,
              "ticks": ""
             }
            },
            "type": "scatter3d"
           }
          ],
          "scattercarpet": [
           {
            "marker": {
             "colorbar": {
              "outlinewidth": 0,
              "ticks": ""
             }
            },
            "type": "scattercarpet"
           }
          ],
          "scattergeo": [
           {
            "marker": {
             "colorbar": {
              "outlinewidth": 0,
              "ticks": ""
             }
            },
            "type": "scattergeo"
           }
          ],
          "scattergl": [
           {
            "marker": {
             "line": {
              "color": "#283442"
             }
            },
            "type": "scattergl"
           }
          ],
          "scattermap": [
           {
            "marker": {
             "colorbar": {
              "outlinewidth": 0,
              "ticks": ""
             }
            },
            "type": "scattermap"
           }
          ],
          "scattermapbox": [
           {
            "marker": {
             "colorbar": {
              "outlinewidth": 0,
              "ticks": ""
             }
            },
            "type": "scattermapbox"
           }
          ],
          "scatterpolar": [
           {
            "marker": {
             "colorbar": {
              "outlinewidth": 0,
              "ticks": ""
             }
            },
            "type": "scatterpolar"
           }
          ],
          "scatterpolargl": [
           {
            "marker": {
             "colorbar": {
              "outlinewidth": 0,
              "ticks": ""
             }
            },
            "type": "scatterpolargl"
           }
          ],
          "scatterternary": [
           {
            "marker": {
             "colorbar": {
              "outlinewidth": 0,
              "ticks": ""
             }
            },
            "type": "scatterternary"
           }
          ],
          "surface": [
           {
            "colorbar": {
             "outlinewidth": 0,
             "ticks": ""
            },
            "colorscale": [
             [
              0,
              "#0d0887"
             ],
             [
              0.1111111111111111,
              "#46039f"
             ],
             [
              0.2222222222222222,
              "#7201a8"
             ],
             [
              0.3333333333333333,
              "#9c179e"
             ],
             [
              0.4444444444444444,
              "#bd3786"
             ],
             [
              0.5555555555555556,
              "#d8576b"
             ],
             [
              0.6666666666666666,
              "#ed7953"
             ],
             [
              0.7777777777777778,
              "#fb9f3a"
             ],
             [
              0.8888888888888888,
              "#fdca26"
             ],
             [
              1,
              "#f0f921"
             ]
            ],
            "type": "surface"
           }
          ],
          "table": [
           {
            "cells": {
             "fill": {
              "color": "#506784"
             },
             "line": {
              "color": "rgb(17,17,17)"
             }
            },
            "header": {
             "fill": {
              "color": "#2a3f5f"
             },
             "line": {
              "color": "rgb(17,17,17)"
             }
            },
            "type": "table"
           }
          ]
         },
         "layout": {
          "annotationdefaults": {
           "arrowcolor": "#f2f5fa",
           "arrowhead": 0,
           "arrowwidth": 1
          },
          "autotypenumbers": "strict",
          "coloraxis": {
           "colorbar": {
            "outlinewidth": 0,
            "ticks": ""
           }
          },
          "colorscale": {
           "diverging": [
            [
             0,
             "#8e0152"
            ],
            [
             0.1,
             "#c51b7d"
            ],
            [
             0.2,
             "#de77ae"
            ],
            [
             0.3,
             "#f1b6da"
            ],
            [
             0.4,
             "#fde0ef"
            ],
            [
             0.5,
             "#f7f7f7"
            ],
            [
             0.6,
             "#e6f5d0"
            ],
            [
             0.7,
             "#b8e186"
            ],
            [
             0.8,
             "#7fbc41"
            ],
            [
             0.9,
             "#4d9221"
            ],
            [
             1,
             "#276419"
            ]
           ],
           "sequential": [
            [
             0,
             "#0d0887"
            ],
            [
             0.1111111111111111,
             "#46039f"
            ],
            [
             0.2222222222222222,
             "#7201a8"
            ],
            [
             0.3333333333333333,
             "#9c179e"
            ],
            [
             0.4444444444444444,
             "#bd3786"
            ],
            [
             0.5555555555555556,
             "#d8576b"
            ],
            [
             0.6666666666666666,
             "#ed7953"
            ],
            [
             0.7777777777777778,
             "#fb9f3a"
            ],
            [
             0.8888888888888888,
             "#fdca26"
            ],
            [
             1,
             "#f0f921"
            ]
           ],
           "sequentialminus": [
            [
             0,
             "#0d0887"
            ],
            [
             0.1111111111111111,
             "#46039f"
            ],
            [
             0.2222222222222222,
             "#7201a8"
            ],
            [
             0.3333333333333333,
             "#9c179e"
            ],
            [
             0.4444444444444444,
             "#bd3786"
            ],
            [
             0.5555555555555556,
             "#d8576b"
            ],
            [
             0.6666666666666666,
             "#ed7953"
            ],
            [
             0.7777777777777778,
             "#fb9f3a"
            ],
            [
             0.8888888888888888,
             "#fdca26"
            ],
            [
             1,
             "#f0f921"
            ]
           ]
          },
          "colorway": [
           "#636efa",
           "#EF553B",
           "#00cc96",
           "#ab63fa",
           "#FFA15A",
           "#19d3f3",
           "#FF6692",
           "#B6E880",
           "#FF97FF",
           "#FECB52"
          ],
          "font": {
           "color": "#f2f5fa"
          },
          "geo": {
           "bgcolor": "rgb(17,17,17)",
           "lakecolor": "rgb(17,17,17)",
           "landcolor": "rgb(17,17,17)",
           "showlakes": true,
           "showland": true,
           "subunitcolor": "#506784"
          },
          "hoverlabel": {
           "align": "left"
          },
          "hovermode": "closest",
          "mapbox": {
           "style": "dark"
          },
          "paper_bgcolor": "rgb(17,17,17)",
          "plot_bgcolor": "rgb(17,17,17)",
          "polar": {
           "angularaxis": {
            "gridcolor": "#506784",
            "linecolor": "#506784",
            "ticks": ""
           },
           "bgcolor": "rgb(17,17,17)",
           "radialaxis": {
            "gridcolor": "#506784",
            "linecolor": "#506784",
            "ticks": ""
           }
          },
          "scene": {
           "xaxis": {
            "backgroundcolor": "rgb(17,17,17)",
            "gridcolor": "#506784",
            "gridwidth": 2,
            "linecolor": "#506784",
            "showbackground": true,
            "ticks": "",
            "zerolinecolor": "#C8D4E3"
           },
           "yaxis": {
            "backgroundcolor": "rgb(17,17,17)",
            "gridcolor": "#506784",
            "gridwidth": 2,
            "linecolor": "#506784",
            "showbackground": true,
            "ticks": "",
            "zerolinecolor": "#C8D4E3"
           },
           "zaxis": {
            "backgroundcolor": "rgb(17,17,17)",
            "gridcolor": "#506784",
            "gridwidth": 2,
            "linecolor": "#506784",
            "showbackground": true,
            "ticks": "",
            "zerolinecolor": "#C8D4E3"
           }
          },
          "shapedefaults": {
           "line": {
            "color": "#f2f5fa"
           }
          },
          "sliderdefaults": {
           "bgcolor": "#C8D4E3",
           "bordercolor": "rgb(17,17,17)",
           "borderwidth": 1,
           "tickwidth": 0
          },
          "ternary": {
           "aaxis": {
            "gridcolor": "#506784",
            "linecolor": "#506784",
            "ticks": ""
           },
           "baxis": {
            "gridcolor": "#506784",
            "linecolor": "#506784",
            "ticks": ""
           },
           "bgcolor": "rgb(17,17,17)",
           "caxis": {
            "gridcolor": "#506784",
            "linecolor": "#506784",
            "ticks": ""
           }
          },
          "title": {
           "x": 0.05
          },
          "updatemenudefaults": {
           "bgcolor": "#506784",
           "borderwidth": 0
          },
          "xaxis": {
           "automargin": true,
           "gridcolor": "#283442",
           "linecolor": "#506784",
           "ticks": "",
           "title": {
            "standoff": 15
           },
           "zerolinecolor": "#283442",
           "zerolinewidth": 2
          },
          "yaxis": {
           "automargin": true,
           "gridcolor": "#283442",
           "linecolor": "#506784",
           "ticks": "",
           "title": {
            "standoff": 15
           },
           "zerolinecolor": "#283442",
           "zerolinewidth": 2
          }
         }
        },
        "xaxis": {
         "anchor": "y",
         "domain": [
          0,
          1
         ],
         "title": {
          "text": "date_ymd"
         }
        },
        "yaxis": {
         "anchor": "x",
         "domain": [
          0,
          1
         ],
         "title": {
          "text": "Invoice_count"
         }
        }
       }
      }
     },
     "metadata": {},
     "output_type": "display_data"
    }
   ],
   "source": [
    "amount_by_date.head()\n",
    "df.head()\n",
    "invoice_count_by_date = (\n",
    "    df.groupby(\"date_ymd\")[\"InvoiceNo\"]\n",
    "    .nunique()\n",
    "    .reset_index()\n",
    "    .rename(\n",
    "        {\"InvoiceNo\": \"Invoice_count\"},\n",
    "        axis=1,\n",
    "    )\n",
    ")\n",
    "invoice_count_by_date\n",
    "\n",
    "fig = px.line(\n",
    "    invoice_count_by_date,\n",
    "    x=\"date_ymd\",\n",
    "    y=\"Invoice_count\",\n",
    "    template=\"plotly_dark\",\n",
    ")\n",
    "fig.show()"
   ]
  },
  {
   "cell_type": "code",
   "execution_count": 122,
   "metadata": {},
   "outputs": [
    {
     "data": {
      "text/html": [
       "<div>\n",
       "<style scoped>\n",
       "    .dataframe tbody tr th:only-of-type {\n",
       "        vertical-align: middle;\n",
       "    }\n",
       "\n",
       "    .dataframe tbody tr th {\n",
       "        vertical-align: top;\n",
       "    }\n",
       "\n",
       "    .dataframe thead th {\n",
       "        text-align: right;\n",
       "    }\n",
       "</style>\n",
       "<table border=\"1\" class=\"dataframe\">\n",
       "  <thead>\n",
       "    <tr style=\"text-align: right;\">\n",
       "      <th></th>\n",
       "      <th>date_ymd</th>\n",
       "      <th>amount</th>\n",
       "      <th>Invoice_count</th>\n",
       "    </tr>\n",
       "  </thead>\n",
       "  <tbody>\n",
       "    <tr>\n",
       "      <th>0</th>\n",
       "      <td>2010-12-01</td>\n",
       "      <td>46376.49</td>\n",
       "      <td>121</td>\n",
       "    </tr>\n",
       "    <tr>\n",
       "      <th>1</th>\n",
       "      <td>2010-12-02</td>\n",
       "      <td>47316.53</td>\n",
       "      <td>137</td>\n",
       "    </tr>\n",
       "    <tr>\n",
       "      <th>2</th>\n",
       "      <td>2010-12-03</td>\n",
       "      <td>23921.71</td>\n",
       "      <td>57</td>\n",
       "    </tr>\n",
       "    <tr>\n",
       "      <th>3</th>\n",
       "      <td>2010-12-05</td>\n",
       "      <td>31771.60</td>\n",
       "      <td>87</td>\n",
       "    </tr>\n",
       "    <tr>\n",
       "      <th>4</th>\n",
       "      <td>2010-12-06</td>\n",
       "      <td>31215.64</td>\n",
       "      <td>94</td>\n",
       "    </tr>\n",
       "    <tr>\n",
       "      <th>...</th>\n",
       "      <td>...</td>\n",
       "      <td>...</td>\n",
       "      <td>...</td>\n",
       "    </tr>\n",
       "    <tr>\n",
       "      <th>300</th>\n",
       "      <td>2011-12-05</td>\n",
       "      <td>58202.21</td>\n",
       "      <td>116</td>\n",
       "    </tr>\n",
       "    <tr>\n",
       "      <th>301</th>\n",
       "      <td>2011-12-06</td>\n",
       "      <td>46144.04</td>\n",
       "      <td>110</td>\n",
       "    </tr>\n",
       "    <tr>\n",
       "      <th>302</th>\n",
       "      <td>2011-12-07</td>\n",
       "      <td>69354.21</td>\n",
       "      <td>104</td>\n",
       "    </tr>\n",
       "    <tr>\n",
       "      <th>303</th>\n",
       "      <td>2011-12-08</td>\n",
       "      <td>50519.41</td>\n",
       "      <td>113</td>\n",
       "    </tr>\n",
       "    <tr>\n",
       "      <th>304</th>\n",
       "      <td>2011-12-09</td>\n",
       "      <td>184349.28</td>\n",
       "      <td>41</td>\n",
       "    </tr>\n",
       "  </tbody>\n",
       "</table>\n",
       "<p>305 rows × 3 columns</p>\n",
       "</div>"
      ],
      "text/plain": [
       "      date_ymd     amount  Invoice_count\n",
       "0   2010-12-01   46376.49            121\n",
       "1   2010-12-02   47316.53            137\n",
       "2   2010-12-03   23921.71             57\n",
       "3   2010-12-05   31771.60             87\n",
       "4   2010-12-06   31215.64             94\n",
       "..         ...        ...            ...\n",
       "300 2011-12-05   58202.21            116\n",
       "301 2011-12-06   46144.04            110\n",
       "302 2011-12-07   69354.21            104\n",
       "303 2011-12-08   50519.41            113\n",
       "304 2011-12-09  184349.28             41\n",
       "\n",
       "[305 rows x 3 columns]"
      ]
     },
     "execution_count": 122,
     "metadata": {},
     "output_type": "execute_result"
    }
   ],
   "source": [
    "pd.merge(amount_by_date, invoice_count_by_date, on=\"date_ymd\")"
   ]
  },
  {
   "cell_type": "code",
   "execution_count": 123,
   "metadata": {},
   "outputs": [
    {
     "data": {
      "text/html": [
       "<div>\n",
       "<style scoped>\n",
       "    .dataframe tbody tr th:only-of-type {\n",
       "        vertical-align: middle;\n",
       "    }\n",
       "\n",
       "    .dataframe tbody tr th {\n",
       "        vertical-align: top;\n",
       "    }\n",
       "\n",
       "    .dataframe thead th {\n",
       "        text-align: right;\n",
       "    }\n",
       "</style>\n",
       "<table border=\"1\" class=\"dataframe\">\n",
       "  <thead>\n",
       "    <tr style=\"text-align: right;\">\n",
       "      <th></th>\n",
       "      <th>date_ymd</th>\n",
       "      <th>amount</th>\n",
       "      <th>Invoice_count</th>\n",
       "      <th>amount_per_invoice</th>\n",
       "    </tr>\n",
       "  </thead>\n",
       "  <tbody>\n",
       "    <tr>\n",
       "      <th>0</th>\n",
       "      <td>2010-12-01</td>\n",
       "      <td>46376.49</td>\n",
       "      <td>121</td>\n",
       "      <td>383.276777</td>\n",
       "    </tr>\n",
       "    <tr>\n",
       "      <th>1</th>\n",
       "      <td>2010-12-02</td>\n",
       "      <td>47316.53</td>\n",
       "      <td>137</td>\n",
       "      <td>345.376131</td>\n",
       "    </tr>\n",
       "    <tr>\n",
       "      <th>2</th>\n",
       "      <td>2010-12-03</td>\n",
       "      <td>23921.71</td>\n",
       "      <td>57</td>\n",
       "      <td>419.679123</td>\n",
       "    </tr>\n",
       "    <tr>\n",
       "      <th>3</th>\n",
       "      <td>2010-12-05</td>\n",
       "      <td>31771.60</td>\n",
       "      <td>87</td>\n",
       "      <td>365.190805</td>\n",
       "    </tr>\n",
       "    <tr>\n",
       "      <th>4</th>\n",
       "      <td>2010-12-06</td>\n",
       "      <td>31215.64</td>\n",
       "      <td>94</td>\n",
       "      <td>332.081277</td>\n",
       "    </tr>\n",
       "  </tbody>\n",
       "</table>\n",
       "</div>"
      ],
      "text/plain": [
       "    date_ymd    amount  Invoice_count  amount_per_invoice\n",
       "0 2010-12-01  46376.49            121          383.276777\n",
       "1 2010-12-02  47316.53            137          345.376131\n",
       "2 2010-12-03  23921.71             57          419.679123\n",
       "3 2010-12-05  31771.60             87          365.190805\n",
       "4 2010-12-06  31215.64             94          332.081277"
      ]
     },
     "execution_count": 123,
     "metadata": {},
     "output_type": "execute_result"
    }
   ],
   "source": [
    "invoice_amount = pd.merge(\n",
    "    amount_by_date,\n",
    "    invoice_count_by_date,\n",
    "    on=\"date_ymd\",\n",
    ")\n",
    "invoice_amount[\"amount_per_invoice\"] = (\n",
    "    invoice_amount[\"amount\"] / invoice_amount[\"Invoice_count\"]\n",
    ")\n",
    "invoice_amount.head()"
   ]
  },
  {
   "cell_type": "code",
   "execution_count": 124,
   "metadata": {},
   "outputs": [
    {
     "data": {
      "application/vnd.plotly.v1+json": {
       "config": {
        "plotlyServerURL": "https://plot.ly"
       },
       "data": [
        {
         "hovertemplate": "date_ymd=%{x}<br>amount_per_invoice=%{y}<extra></extra>",
         "legendgroup": "",
         "line": {
          "color": "#636efa",
          "dash": "solid"
         },
         "marker": {
          "symbol": "circle"
         },
         "mode": "lines",
         "name": "",
         "orientation": "v",
         "showlegend": false,
         "type": "scatter",
         "x": [
          "2010-12-01T00:00:00.000000000",
          "2010-12-02T00:00:00.000000000",
          "2010-12-03T00:00:00.000000000",
          "2010-12-05T00:00:00.000000000",
          "2010-12-06T00:00:00.000000000",
          "2010-12-07T00:00:00.000000000",
          "2010-12-08T00:00:00.000000000",
          "2010-12-09T00:00:00.000000000",
          "2010-12-10T00:00:00.000000000",
          "2010-12-12T00:00:00.000000000",
          "2010-12-13T00:00:00.000000000",
          "2010-12-14T00:00:00.000000000",
          "2010-12-15T00:00:00.000000000",
          "2010-12-16T00:00:00.000000000",
          "2010-12-17T00:00:00.000000000",
          "2010-12-19T00:00:00.000000000",
          "2010-12-20T00:00:00.000000000",
          "2010-12-21T00:00:00.000000000",
          "2010-12-22T00:00:00.000000000",
          "2010-12-23T00:00:00.000000000",
          "2011-01-04T00:00:00.000000000",
          "2011-01-05T00:00:00.000000000",
          "2011-01-06T00:00:00.000000000",
          "2011-01-07T00:00:00.000000000",
          "2011-01-09T00:00:00.000000000",
          "2011-01-10T00:00:00.000000000",
          "2011-01-11T00:00:00.000000000",
          "2011-01-12T00:00:00.000000000",
          "2011-01-13T00:00:00.000000000",
          "2011-01-14T00:00:00.000000000",
          "2011-01-16T00:00:00.000000000",
          "2011-01-17T00:00:00.000000000",
          "2011-01-18T00:00:00.000000000",
          "2011-01-19T00:00:00.000000000",
          "2011-01-20T00:00:00.000000000",
          "2011-01-21T00:00:00.000000000",
          "2011-01-23T00:00:00.000000000",
          "2011-01-24T00:00:00.000000000",
          "2011-01-25T00:00:00.000000000",
          "2011-01-26T00:00:00.000000000",
          "2011-01-27T00:00:00.000000000",
          "2011-01-28T00:00:00.000000000",
          "2011-01-30T00:00:00.000000000",
          "2011-01-31T00:00:00.000000000",
          "2011-02-01T00:00:00.000000000",
          "2011-02-02T00:00:00.000000000",
          "2011-02-03T00:00:00.000000000",
          "2011-02-04T00:00:00.000000000",
          "2011-02-06T00:00:00.000000000",
          "2011-02-07T00:00:00.000000000",
          "2011-02-08T00:00:00.000000000",
          "2011-02-09T00:00:00.000000000",
          "2011-02-10T00:00:00.000000000",
          "2011-02-11T00:00:00.000000000",
          "2011-02-13T00:00:00.000000000",
          "2011-02-14T00:00:00.000000000",
          "2011-02-15T00:00:00.000000000",
          "2011-02-16T00:00:00.000000000",
          "2011-02-17T00:00:00.000000000",
          "2011-02-18T00:00:00.000000000",
          "2011-02-20T00:00:00.000000000",
          "2011-02-21T00:00:00.000000000",
          "2011-02-22T00:00:00.000000000",
          "2011-02-23T00:00:00.000000000",
          "2011-02-24T00:00:00.000000000",
          "2011-02-25T00:00:00.000000000",
          "2011-02-27T00:00:00.000000000",
          "2011-02-28T00:00:00.000000000",
          "2011-03-01T00:00:00.000000000",
          "2011-03-02T00:00:00.000000000",
          "2011-03-03T00:00:00.000000000",
          "2011-03-04T00:00:00.000000000",
          "2011-03-06T00:00:00.000000000",
          "2011-03-07T00:00:00.000000000",
          "2011-03-08T00:00:00.000000000",
          "2011-03-09T00:00:00.000000000",
          "2011-03-10T00:00:00.000000000",
          "2011-03-11T00:00:00.000000000",
          "2011-03-13T00:00:00.000000000",
          "2011-03-14T00:00:00.000000000",
          "2011-03-15T00:00:00.000000000",
          "2011-03-16T00:00:00.000000000",
          "2011-03-17T00:00:00.000000000",
          "2011-03-18T00:00:00.000000000",
          "2011-03-20T00:00:00.000000000",
          "2011-03-21T00:00:00.000000000",
          "2011-03-22T00:00:00.000000000",
          "2011-03-23T00:00:00.000000000",
          "2011-03-24T00:00:00.000000000",
          "2011-03-25T00:00:00.000000000",
          "2011-03-27T00:00:00.000000000",
          "2011-03-28T00:00:00.000000000",
          "2011-03-29T00:00:00.000000000",
          "2011-03-30T00:00:00.000000000",
          "2011-03-31T00:00:00.000000000",
          "2011-04-01T00:00:00.000000000",
          "2011-04-03T00:00:00.000000000",
          "2011-04-04T00:00:00.000000000",
          "2011-04-05T00:00:00.000000000",
          "2011-04-06T00:00:00.000000000",
          "2011-04-07T00:00:00.000000000",
          "2011-04-08T00:00:00.000000000",
          "2011-04-10T00:00:00.000000000",
          "2011-04-11T00:00:00.000000000",
          "2011-04-12T00:00:00.000000000",
          "2011-04-13T00:00:00.000000000",
          "2011-04-14T00:00:00.000000000",
          "2011-04-15T00:00:00.000000000",
          "2011-04-17T00:00:00.000000000",
          "2011-04-18T00:00:00.000000000",
          "2011-04-19T00:00:00.000000000",
          "2011-04-20T00:00:00.000000000",
          "2011-04-21T00:00:00.000000000",
          "2011-04-26T00:00:00.000000000",
          "2011-04-27T00:00:00.000000000",
          "2011-04-28T00:00:00.000000000",
          "2011-05-01T00:00:00.000000000",
          "2011-05-03T00:00:00.000000000",
          "2011-05-04T00:00:00.000000000",
          "2011-05-05T00:00:00.000000000",
          "2011-05-06T00:00:00.000000000",
          "2011-05-08T00:00:00.000000000",
          "2011-05-09T00:00:00.000000000",
          "2011-05-10T00:00:00.000000000",
          "2011-05-11T00:00:00.000000000",
          "2011-05-12T00:00:00.000000000",
          "2011-05-13T00:00:00.000000000",
          "2011-05-15T00:00:00.000000000",
          "2011-05-16T00:00:00.000000000",
          "2011-05-17T00:00:00.000000000",
          "2011-05-18T00:00:00.000000000",
          "2011-05-19T00:00:00.000000000",
          "2011-05-20T00:00:00.000000000",
          "2011-05-22T00:00:00.000000000",
          "2011-05-23T00:00:00.000000000",
          "2011-05-24T00:00:00.000000000",
          "2011-05-25T00:00:00.000000000",
          "2011-05-26T00:00:00.000000000",
          "2011-05-27T00:00:00.000000000",
          "2011-05-29T00:00:00.000000000",
          "2011-05-31T00:00:00.000000000",
          "2011-06-01T00:00:00.000000000",
          "2011-06-02T00:00:00.000000000",
          "2011-06-03T00:00:00.000000000",
          "2011-06-05T00:00:00.000000000",
          "2011-06-06T00:00:00.000000000",
          "2011-06-07T00:00:00.000000000",
          "2011-06-08T00:00:00.000000000",
          "2011-06-09T00:00:00.000000000",
          "2011-06-10T00:00:00.000000000",
          "2011-06-12T00:00:00.000000000",
          "2011-06-13T00:00:00.000000000",
          "2011-06-14T00:00:00.000000000",
          "2011-06-15T00:00:00.000000000",
          "2011-06-16T00:00:00.000000000",
          "2011-06-17T00:00:00.000000000",
          "2011-06-19T00:00:00.000000000",
          "2011-06-20T00:00:00.000000000",
          "2011-06-21T00:00:00.000000000",
          "2011-06-22T00:00:00.000000000",
          "2011-06-23T00:00:00.000000000",
          "2011-06-24T00:00:00.000000000",
          "2011-06-26T00:00:00.000000000",
          "2011-06-27T00:00:00.000000000",
          "2011-06-28T00:00:00.000000000",
          "2011-06-29T00:00:00.000000000",
          "2011-06-30T00:00:00.000000000",
          "2011-07-01T00:00:00.000000000",
          "2011-07-03T00:00:00.000000000",
          "2011-07-04T00:00:00.000000000",
          "2011-07-05T00:00:00.000000000",
          "2011-07-06T00:00:00.000000000",
          "2011-07-07T00:00:00.000000000",
          "2011-07-08T00:00:00.000000000",
          "2011-07-10T00:00:00.000000000",
          "2011-07-11T00:00:00.000000000",
          "2011-07-12T00:00:00.000000000",
          "2011-07-13T00:00:00.000000000",
          "2011-07-14T00:00:00.000000000",
          "2011-07-15T00:00:00.000000000",
          "2011-07-17T00:00:00.000000000",
          "2011-07-18T00:00:00.000000000",
          "2011-07-19T00:00:00.000000000",
          "2011-07-20T00:00:00.000000000",
          "2011-07-21T00:00:00.000000000",
          "2011-07-22T00:00:00.000000000",
          "2011-07-24T00:00:00.000000000",
          "2011-07-25T00:00:00.000000000",
          "2011-07-26T00:00:00.000000000",
          "2011-07-27T00:00:00.000000000",
          "2011-07-28T00:00:00.000000000",
          "2011-07-29T00:00:00.000000000",
          "2011-07-31T00:00:00.000000000",
          "2011-08-01T00:00:00.000000000",
          "2011-08-02T00:00:00.000000000",
          "2011-08-03T00:00:00.000000000",
          "2011-08-04T00:00:00.000000000",
          "2011-08-05T00:00:00.000000000",
          "2011-08-07T00:00:00.000000000",
          "2011-08-08T00:00:00.000000000",
          "2011-08-09T00:00:00.000000000",
          "2011-08-10T00:00:00.000000000",
          "2011-08-11T00:00:00.000000000",
          "2011-08-12T00:00:00.000000000",
          "2011-08-14T00:00:00.000000000",
          "2011-08-15T00:00:00.000000000",
          "2011-08-16T00:00:00.000000000",
          "2011-08-17T00:00:00.000000000",
          "2011-08-18T00:00:00.000000000",
          "2011-08-19T00:00:00.000000000",
          "2011-08-21T00:00:00.000000000",
          "2011-08-22T00:00:00.000000000",
          "2011-08-23T00:00:00.000000000",
          "2011-08-24T00:00:00.000000000",
          "2011-08-25T00:00:00.000000000",
          "2011-08-26T00:00:00.000000000",
          "2011-08-28T00:00:00.000000000",
          "2011-08-30T00:00:00.000000000",
          "2011-08-31T00:00:00.000000000",
          "2011-09-01T00:00:00.000000000",
          "2011-09-02T00:00:00.000000000",
          "2011-09-04T00:00:00.000000000",
          "2011-09-05T00:00:00.000000000",
          "2011-09-06T00:00:00.000000000",
          "2011-09-07T00:00:00.000000000",
          "2011-09-08T00:00:00.000000000",
          "2011-09-09T00:00:00.000000000",
          "2011-09-11T00:00:00.000000000",
          "2011-09-12T00:00:00.000000000",
          "2011-09-13T00:00:00.000000000",
          "2011-09-14T00:00:00.000000000",
          "2011-09-15T00:00:00.000000000",
          "2011-09-16T00:00:00.000000000",
          "2011-09-18T00:00:00.000000000",
          "2011-09-19T00:00:00.000000000",
          "2011-09-20T00:00:00.000000000",
          "2011-09-21T00:00:00.000000000",
          "2011-09-22T00:00:00.000000000",
          "2011-09-23T00:00:00.000000000",
          "2011-09-25T00:00:00.000000000",
          "2011-09-26T00:00:00.000000000",
          "2011-09-27T00:00:00.000000000",
          "2011-09-28T00:00:00.000000000",
          "2011-09-29T00:00:00.000000000",
          "2011-09-30T00:00:00.000000000",
          "2011-10-02T00:00:00.000000000",
          "2011-10-03T00:00:00.000000000",
          "2011-10-04T00:00:00.000000000",
          "2011-10-05T00:00:00.000000000",
          "2011-10-06T00:00:00.000000000",
          "2011-10-07T00:00:00.000000000",
          "2011-10-09T00:00:00.000000000",
          "2011-10-10T00:00:00.000000000",
          "2011-10-11T00:00:00.000000000",
          "2011-10-12T00:00:00.000000000",
          "2011-10-13T00:00:00.000000000",
          "2011-10-14T00:00:00.000000000",
          "2011-10-16T00:00:00.000000000",
          "2011-10-17T00:00:00.000000000",
          "2011-10-18T00:00:00.000000000",
          "2011-10-19T00:00:00.000000000",
          "2011-10-20T00:00:00.000000000",
          "2011-10-21T00:00:00.000000000",
          "2011-10-23T00:00:00.000000000",
          "2011-10-24T00:00:00.000000000",
          "2011-10-25T00:00:00.000000000",
          "2011-10-26T00:00:00.000000000",
          "2011-10-27T00:00:00.000000000",
          "2011-10-28T00:00:00.000000000",
          "2011-10-30T00:00:00.000000000",
          "2011-10-31T00:00:00.000000000",
          "2011-11-01T00:00:00.000000000",
          "2011-11-02T00:00:00.000000000",
          "2011-11-03T00:00:00.000000000",
          "2011-11-04T00:00:00.000000000",
          "2011-11-06T00:00:00.000000000",
          "2011-11-07T00:00:00.000000000",
          "2011-11-08T00:00:00.000000000",
          "2011-11-09T00:00:00.000000000",
          "2011-11-10T00:00:00.000000000",
          "2011-11-11T00:00:00.000000000",
          "2011-11-13T00:00:00.000000000",
          "2011-11-14T00:00:00.000000000",
          "2011-11-15T00:00:00.000000000",
          "2011-11-16T00:00:00.000000000",
          "2011-11-17T00:00:00.000000000",
          "2011-11-18T00:00:00.000000000",
          "2011-11-20T00:00:00.000000000",
          "2011-11-21T00:00:00.000000000",
          "2011-11-22T00:00:00.000000000",
          "2011-11-23T00:00:00.000000000",
          "2011-11-24T00:00:00.000000000",
          "2011-11-25T00:00:00.000000000",
          "2011-11-27T00:00:00.000000000",
          "2011-11-28T00:00:00.000000000",
          "2011-11-29T00:00:00.000000000",
          "2011-11-30T00:00:00.000000000",
          "2011-12-01T00:00:00.000000000",
          "2011-12-02T00:00:00.000000000",
          "2011-12-04T00:00:00.000000000",
          "2011-12-05T00:00:00.000000000",
          "2011-12-06T00:00:00.000000000",
          "2011-12-07T00:00:00.000000000",
          "2011-12-08T00:00:00.000000000",
          "2011-12-09T00:00:00.000000000"
         ],
         "xaxis": "x",
         "y": {
          "bdata": "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",
          "dtype": "f8"
         },
         "yaxis": "y"
        }
       ],
       "layout": {
        "legend": {
         "tracegroupgap": 0
        },
        "margin": {
         "t": 60
        },
        "template": {
         "data": {
          "bar": [
           {
            "error_x": {
             "color": "#f2f5fa"
            },
            "error_y": {
             "color": "#f2f5fa"
            },
            "marker": {
             "line": {
              "color": "rgb(17,17,17)",
              "width": 0.5
             },
             "pattern": {
              "fillmode": "overlay",
              "size": 10,
              "solidity": 0.2
             }
            },
            "type": "bar"
           }
          ],
          "barpolar": [
           {
            "marker": {
             "line": {
              "color": "rgb(17,17,17)",
              "width": 0.5
             },
             "pattern": {
              "fillmode": "overlay",
              "size": 10,
              "solidity": 0.2
             }
            },
            "type": "barpolar"
           }
          ],
          "carpet": [
           {
            "aaxis": {
             "endlinecolor": "#A2B1C6",
             "gridcolor": "#506784",
             "linecolor": "#506784",
             "minorgridcolor": "#506784",
             "startlinecolor": "#A2B1C6"
            },
            "baxis": {
             "endlinecolor": "#A2B1C6",
             "gridcolor": "#506784",
             "linecolor": "#506784",
             "minorgridcolor": "#506784",
             "startlinecolor": "#A2B1C6"
            },
            "type": "carpet"
           }
          ],
          "choropleth": [
           {
            "colorbar": {
             "outlinewidth": 0,
             "ticks": ""
            },
            "type": "choropleth"
           }
          ],
          "contour": [
           {
            "colorbar": {
             "outlinewidth": 0,
             "ticks": ""
            },
            "colorscale": [
             [
              0,
              "#0d0887"
             ],
             [
              0.1111111111111111,
              "#46039f"
             ],
             [
              0.2222222222222222,
              "#7201a8"
             ],
             [
              0.3333333333333333,
              "#9c179e"
             ],
             [
              0.4444444444444444,
              "#bd3786"
             ],
             [
              0.5555555555555556,
              "#d8576b"
             ],
             [
              0.6666666666666666,
              "#ed7953"
             ],
             [
              0.7777777777777778,
              "#fb9f3a"
             ],
             [
              0.8888888888888888,
              "#fdca26"
             ],
             [
              1,
              "#f0f921"
             ]
            ],
            "type": "contour"
           }
          ],
          "contourcarpet": [
           {
            "colorbar": {
             "outlinewidth": 0,
             "ticks": ""
            },
            "type": "contourcarpet"
           }
          ],
          "heatmap": [
           {
            "colorbar": {
             "outlinewidth": 0,
             "ticks": ""
            },
            "colorscale": [
             [
              0,
              "#0d0887"
             ],
             [
              0.1111111111111111,
              "#46039f"
             ],
             [
              0.2222222222222222,
              "#7201a8"
             ],
             [
              0.3333333333333333,
              "#9c179e"
             ],
             [
              0.4444444444444444,
              "#bd3786"
             ],
             [
              0.5555555555555556,
              "#d8576b"
             ],
             [
              0.6666666666666666,
              "#ed7953"
             ],
             [
              0.7777777777777778,
              "#fb9f3a"
             ],
             [
              0.8888888888888888,
              "#fdca26"
             ],
             [
              1,
              "#f0f921"
             ]
            ],
            "type": "heatmap"
           }
          ],
          "histogram": [
           {
            "marker": {
             "pattern": {
              "fillmode": "overlay",
              "size": 10,
              "solidity": 0.2
             }
            },
            "type": "histogram"
           }
          ],
          "histogram2d": [
           {
            "colorbar": {
             "outlinewidth": 0,
             "ticks": ""
            },
            "colorscale": [
             [
              0,
              "#0d0887"
             ],
             [
              0.1111111111111111,
              "#46039f"
             ],
             [
              0.2222222222222222,
              "#7201a8"
             ],
             [
              0.3333333333333333,
              "#9c179e"
             ],
             [
              0.4444444444444444,
              "#bd3786"
             ],
             [
              0.5555555555555556,
              "#d8576b"
             ],
             [
              0.6666666666666666,
              "#ed7953"
             ],
             [
              0.7777777777777778,
              "#fb9f3a"
             ],
             [
              0.8888888888888888,
              "#fdca26"
             ],
             [
              1,
              "#f0f921"
             ]
            ],
            "type": "histogram2d"
           }
          ],
          "histogram2dcontour": [
           {
            "colorbar": {
             "outlinewidth": 0,
             "ticks": ""
            },
            "colorscale": [
             [
              0,
              "#0d0887"
             ],
             [
              0.1111111111111111,
              "#46039f"
             ],
             [
              0.2222222222222222,
              "#7201a8"
             ],
             [
              0.3333333333333333,
              "#9c179e"
             ],
             [
              0.4444444444444444,
              "#bd3786"
             ],
             [
              0.5555555555555556,
              "#d8576b"
             ],
             [
              0.6666666666666666,
              "#ed7953"
             ],
             [
              0.7777777777777778,
              "#fb9f3a"
             ],
             [
              0.8888888888888888,
              "#fdca26"
             ],
             [
              1,
              "#f0f921"
             ]
            ],
            "type": "histogram2dcontour"
           }
          ],
          "mesh3d": [
           {
            "colorbar": {
             "outlinewidth": 0,
             "ticks": ""
            },
            "type": "mesh3d"
           }
          ],
          "parcoords": [
           {
            "line": {
             "colorbar": {
              "outlinewidth": 0,
              "ticks": ""
             }
            },
            "type": "parcoords"
           }
          ],
          "pie": [
           {
            "automargin": true,
            "type": "pie"
           }
          ],
          "scatter": [
           {
            "marker": {
             "line": {
              "color": "#283442"
             }
            },
            "type": "scatter"
           }
          ],
          "scatter3d": [
           {
            "line": {
             "colorbar": {
              "outlinewidth": 0,
              "ticks": ""
             }
            },
            "marker": {
             "colorbar": {
              "outlinewidth": 0,
              "ticks": ""
             }
            },
            "type": "scatter3d"
           }
          ],
          "scattercarpet": [
           {
            "marker": {
             "colorbar": {
              "outlinewidth": 0,
              "ticks": ""
             }
            },
            "type": "scattercarpet"
           }
          ],
          "scattergeo": [
           {
            "marker": {
             "colorbar": {
              "outlinewidth": 0,
              "ticks": ""
             }
            },
            "type": "scattergeo"
           }
          ],
          "scattergl": [
           {
            "marker": {
             "line": {
              "color": "#283442"
             }
            },
            "type": "scattergl"
           }
          ],
          "scattermap": [
           {
            "marker": {
             "colorbar": {
              "outlinewidth": 0,
              "ticks": ""
             }
            },
            "type": "scattermap"
           }
          ],
          "scattermapbox": [
           {
            "marker": {
             "colorbar": {
              "outlinewidth": 0,
              "ticks": ""
             }
            },
            "type": "scattermapbox"
           }
          ],
          "scatterpolar": [
           {
            "marker": {
             "colorbar": {
              "outlinewidth": 0,
              "ticks": ""
             }
            },
            "type": "scatterpolar"
           }
          ],
          "scatterpolargl": [
           {
            "marker": {
             "colorbar": {
              "outlinewidth": 0,
              "ticks": ""
             }
            },
            "type": "scatterpolargl"
           }
          ],
          "scatterternary": [
           {
            "marker": {
             "colorbar": {
              "outlinewidth": 0,
              "ticks": ""
             }
            },
            "type": "scatterternary"
           }
          ],
          "surface": [
           {
            "colorbar": {
             "outlinewidth": 0,
             "ticks": ""
            },
            "colorscale": [
             [
              0,
              "#0d0887"
             ],
             [
              0.1111111111111111,
              "#46039f"
             ],
             [
              0.2222222222222222,
              "#7201a8"
             ],
             [
              0.3333333333333333,
              "#9c179e"
             ],
             [
              0.4444444444444444,
              "#bd3786"
             ],
             [
              0.5555555555555556,
              "#d8576b"
             ],
             [
              0.6666666666666666,
              "#ed7953"
             ],
             [
              0.7777777777777778,
              "#fb9f3a"
             ],
             [
              0.8888888888888888,
              "#fdca26"
             ],
             [
              1,
              "#f0f921"
             ]
            ],
            "type": "surface"
           }
          ],
          "table": [
           {
            "cells": {
             "fill": {
              "color": "#506784"
             },
             "line": {
              "color": "rgb(17,17,17)"
             }
            },
            "header": {
             "fill": {
              "color": "#2a3f5f"
             },
             "line": {
              "color": "rgb(17,17,17)"
             }
            },
            "type": "table"
           }
          ]
         },
         "layout": {
          "annotationdefaults": {
           "arrowcolor": "#f2f5fa",
           "arrowhead": 0,
           "arrowwidth": 1
          },
          "autotypenumbers": "strict",
          "coloraxis": {
           "colorbar": {
            "outlinewidth": 0,
            "ticks": ""
           }
          },
          "colorscale": {
           "diverging": [
            [
             0,
             "#8e0152"
            ],
            [
             0.1,
             "#c51b7d"
            ],
            [
             0.2,
             "#de77ae"
            ],
            [
             0.3,
             "#f1b6da"
            ],
            [
             0.4,
             "#fde0ef"
            ],
            [
             0.5,
             "#f7f7f7"
            ],
            [
             0.6,
             "#e6f5d0"
            ],
            [
             0.7,
             "#b8e186"
            ],
            [
             0.8,
             "#7fbc41"
            ],
            [
             0.9,
             "#4d9221"
            ],
            [
             1,
             "#276419"
            ]
           ],
           "sequential": [
            [
             0,
             "#0d0887"
            ],
            [
             0.1111111111111111,
             "#46039f"
            ],
            [
             0.2222222222222222,
             "#7201a8"
            ],
            [
             0.3333333333333333,
             "#9c179e"
            ],
            [
             0.4444444444444444,
             "#bd3786"
            ],
            [
             0.5555555555555556,
             "#d8576b"
            ],
            [
             0.6666666666666666,
             "#ed7953"
            ],
            [
             0.7777777777777778,
             "#fb9f3a"
            ],
            [
             0.8888888888888888,
             "#fdca26"
            ],
            [
             1,
             "#f0f921"
            ]
           ],
           "sequentialminus": [
            [
             0,
             "#0d0887"
            ],
            [
             0.1111111111111111,
             "#46039f"
            ],
            [
             0.2222222222222222,
             "#7201a8"
            ],
            [
             0.3333333333333333,
             "#9c179e"
            ],
            [
             0.4444444444444444,
             "#bd3786"
            ],
            [
             0.5555555555555556,
             "#d8576b"
            ],
            [
             0.6666666666666666,
             "#ed7953"
            ],
            [
             0.7777777777777778,
             "#fb9f3a"
            ],
            [
             0.8888888888888888,
             "#fdca26"
            ],
            [
             1,
             "#f0f921"
            ]
           ]
          },
          "colorway": [
           "#636efa",
           "#EF553B",
           "#00cc96",
           "#ab63fa",
           "#FFA15A",
           "#19d3f3",
           "#FF6692",
           "#B6E880",
           "#FF97FF",
           "#FECB52"
          ],
          "font": {
           "color": "#f2f5fa"
          },
          "geo": {
           "bgcolor": "rgb(17,17,17)",
           "lakecolor": "rgb(17,17,17)",
           "landcolor": "rgb(17,17,17)",
           "showlakes": true,
           "showland": true,
           "subunitcolor": "#506784"
          },
          "hoverlabel": {
           "align": "left"
          },
          "hovermode": "closest",
          "mapbox": {
           "style": "dark"
          },
          "paper_bgcolor": "rgb(17,17,17)",
          "plot_bgcolor": "rgb(17,17,17)",
          "polar": {
           "angularaxis": {
            "gridcolor": "#506784",
            "linecolor": "#506784",
            "ticks": ""
           },
           "bgcolor": "rgb(17,17,17)",
           "radialaxis": {
            "gridcolor": "#506784",
            "linecolor": "#506784",
            "ticks": ""
           }
          },
          "scene": {
           "xaxis": {
            "backgroundcolor": "rgb(17,17,17)",
            "gridcolor": "#506784",
            "gridwidth": 2,
            "linecolor": "#506784",
            "showbackground": true,
            "ticks": "",
            "zerolinecolor": "#C8D4E3"
           },
           "yaxis": {
            "backgroundcolor": "rgb(17,17,17)",
            "gridcolor": "#506784",
            "gridwidth": 2,
            "linecolor": "#506784",
            "showbackground": true,
            "ticks": "",
            "zerolinecolor": "#C8D4E3"
           },
           "zaxis": {
            "backgroundcolor": "rgb(17,17,17)",
            "gridcolor": "#506784",
            "gridwidth": 2,
            "linecolor": "#506784",
            "showbackground": true,
            "ticks": "",
            "zerolinecolor": "#C8D4E3"
           }
          },
          "shapedefaults": {
           "line": {
            "color": "#f2f5fa"
           }
          },
          "sliderdefaults": {
           "bgcolor": "#C8D4E3",
           "bordercolor": "rgb(17,17,17)",
           "borderwidth": 1,
           "tickwidth": 0
          },
          "ternary": {
           "aaxis": {
            "gridcolor": "#506784",
            "linecolor": "#506784",
            "ticks": ""
           },
           "baxis": {
            "gridcolor": "#506784",
            "linecolor": "#506784",
            "ticks": ""
           },
           "bgcolor": "rgb(17,17,17)",
           "caxis": {
            "gridcolor": "#506784",
            "linecolor": "#506784",
            "ticks": ""
           }
          },
          "title": {
           "x": 0.05
          },
          "updatemenudefaults": {
           "bgcolor": "#506784",
           "borderwidth": 0
          },
          "xaxis": {
           "automargin": true,
           "gridcolor": "#283442",
           "linecolor": "#506784",
           "ticks": "",
           "title": {
            "standoff": 15
           },
           "zerolinecolor": "#283442",
           "zerolinewidth": 2
          },
          "yaxis": {
           "automargin": true,
           "gridcolor": "#283442",
           "linecolor": "#506784",
           "ticks": "",
           "title": {
            "standoff": 15
           },
           "zerolinecolor": "#283442",
           "zerolinewidth": 2
          }
         }
        },
        "xaxis": {
         "anchor": "y",
         "domain": [
          0,
          1
         ],
         "title": {
          "text": "date_ymd"
         }
        },
        "yaxis": {
         "anchor": "x",
         "domain": [
          0,
          1
         ],
         "title": {
          "text": "amount_per_invoice"
         }
        }
       }
      }
     },
     "metadata": {},
     "output_type": "display_data"
    }
   ],
   "source": [
    "fig = px.line(\n",
    "    invoice_amount,\n",
    "    x=\"date_ymd\",\n",
    "    y=\"amount_per_invoice\",\n",
    "    template=\"plotly_dark\",\n",
    ")\n",
    "fig.show()"
   ]
  },
  {
   "cell_type": "code",
   "execution_count": 125,
   "metadata": {},
   "outputs": [
    {
     "data": {
      "text/html": [
       "<div>\n",
       "<style scoped>\n",
       "    .dataframe tbody tr th:only-of-type {\n",
       "        vertical-align: middle;\n",
       "    }\n",
       "\n",
       "    .dataframe tbody tr th {\n",
       "        vertical-align: top;\n",
       "    }\n",
       "\n",
       "    .dataframe thead th {\n",
       "        text-align: right;\n",
       "    }\n",
       "</style>\n",
       "<table border=\"1\" class=\"dataframe\">\n",
       "  <thead>\n",
       "    <tr style=\"text-align: right;\">\n",
       "      <th></th>\n",
       "      <th>CustomerID</th>\n",
       "      <th>InvoiceNo</th>\n",
       "      <th>date_ymd</th>\n",
       "      <th>date_ym</th>\n",
       "    </tr>\n",
       "  </thead>\n",
       "  <tbody>\n",
       "    <tr>\n",
       "      <th>0</th>\n",
       "      <td>17850</td>\n",
       "      <td>536365</td>\n",
       "      <td>2010-12-01</td>\n",
       "      <td>2010-12</td>\n",
       "    </tr>\n",
       "    <tr>\n",
       "      <th>7</th>\n",
       "      <td>17850</td>\n",
       "      <td>536366</td>\n",
       "      <td>2010-12-01</td>\n",
       "      <td>2010-12</td>\n",
       "    </tr>\n",
       "    <tr>\n",
       "      <th>9</th>\n",
       "      <td>13047</td>\n",
       "      <td>536367</td>\n",
       "      <td>2010-12-01</td>\n",
       "      <td>2010-12</td>\n",
       "    </tr>\n",
       "    <tr>\n",
       "      <th>21</th>\n",
       "      <td>13047</td>\n",
       "      <td>536368</td>\n",
       "      <td>2010-12-01</td>\n",
       "      <td>2010-12</td>\n",
       "    </tr>\n",
       "    <tr>\n",
       "      <th>25</th>\n",
       "      <td>13047</td>\n",
       "      <td>536369</td>\n",
       "      <td>2010-12-01</td>\n",
       "      <td>2010-12</td>\n",
       "    </tr>\n",
       "    <tr>\n",
       "      <th>...</th>\n",
       "      <td>...</td>\n",
       "      <td>...</td>\n",
       "      <td>...</td>\n",
       "      <td>...</td>\n",
       "    </tr>\n",
       "    <tr>\n",
       "      <th>541865</th>\n",
       "      <td>13777</td>\n",
       "      <td>581583</td>\n",
       "      <td>2011-12-09</td>\n",
       "      <td>2011-12</td>\n",
       "    </tr>\n",
       "    <tr>\n",
       "      <th>541867</th>\n",
       "      <td>13777</td>\n",
       "      <td>581584</td>\n",
       "      <td>2011-12-09</td>\n",
       "      <td>2011-12</td>\n",
       "    </tr>\n",
       "    <tr>\n",
       "      <th>541869</th>\n",
       "      <td>15804</td>\n",
       "      <td>581585</td>\n",
       "      <td>2011-12-09</td>\n",
       "      <td>2011-12</td>\n",
       "    </tr>\n",
       "    <tr>\n",
       "      <th>541890</th>\n",
       "      <td>13113</td>\n",
       "      <td>581586</td>\n",
       "      <td>2011-12-09</td>\n",
       "      <td>2011-12</td>\n",
       "    </tr>\n",
       "    <tr>\n",
       "      <th>541894</th>\n",
       "      <td>12680</td>\n",
       "      <td>581587</td>\n",
       "      <td>2011-12-09</td>\n",
       "      <td>2011-12</td>\n",
       "    </tr>\n",
       "  </tbody>\n",
       "</table>\n",
       "<p>18536 rows × 4 columns</p>\n",
       "</div>"
      ],
      "text/plain": [
       "       CustomerID InvoiceNo   date_ymd  date_ym\n",
       "0           17850    536365 2010-12-01  2010-12\n",
       "7           17850    536366 2010-12-01  2010-12\n",
       "9           13047    536367 2010-12-01  2010-12\n",
       "21          13047    536368 2010-12-01  2010-12\n",
       "25          13047    536369 2010-12-01  2010-12\n",
       "...           ...       ...        ...      ...\n",
       "541865      13777    581583 2011-12-09  2011-12\n",
       "541867      13777    581584 2011-12-09  2011-12\n",
       "541869      15804    581585 2011-12-09  2011-12\n",
       "541890      13113    581586 2011-12-09  2011-12\n",
       "541894      12680    581587 2011-12-09  2011-12\n",
       "\n",
       "[18536 rows x 4 columns]"
      ]
     },
     "execution_count": 125,
     "metadata": {},
     "output_type": "execute_result"
    }
   ],
   "source": [
    "retention = df[[\"CustomerID\", \"InvoiceNo\", \"date_ymd\"]].drop_duplicates()\n",
    "retention[\"date_ym\"] = retention[\"date_ymd\"].dt.to_period(\"M\")\n",
    "retention"
   ]
  },
  {
   "cell_type": "code",
   "execution_count": 126,
   "metadata": {},
   "outputs": [
    {
     "name": "stdout",
     "output_type": "stream",
     "text": [
      "2010-12-01 00:00:00\n",
      "2011-12-09 00:00:00\n"
     ]
    }
   ],
   "source": [
    "print(min(df[\"date_ymd\"].unique()))\n",
    "print(max(df[\"date_ymd\"].unique()))"
   ]
  },
  {
   "cell_type": "code",
   "execution_count": 127,
   "metadata": {},
   "outputs": [
    {
     "data": {
      "text/html": [
       "<div>\n",
       "<style scoped>\n",
       "    .dataframe tbody tr th:only-of-type {\n",
       "        vertical-align: middle;\n",
       "    }\n",
       "\n",
       "    .dataframe tbody tr th {\n",
       "        vertical-align: top;\n",
       "    }\n",
       "\n",
       "    .dataframe thead th {\n",
       "        text-align: right;\n",
       "    }\n",
       "</style>\n",
       "<table border=\"1\" class=\"dataframe\">\n",
       "  <thead>\n",
       "    <tr style=\"text-align: right;\">\n",
       "      <th></th>\n",
       "      <th>CustomerID</th>\n",
       "      <th>InvoiceNo</th>\n",
       "      <th>date_ymd</th>\n",
       "      <th>date_ym</th>\n",
       "    </tr>\n",
       "  </thead>\n",
       "  <tbody>\n",
       "    <tr>\n",
       "      <th>0</th>\n",
       "      <td>17850</td>\n",
       "      <td>536365</td>\n",
       "      <td>2010-12-01</td>\n",
       "      <td>2010-12</td>\n",
       "    </tr>\n",
       "    <tr>\n",
       "      <th>7</th>\n",
       "      <td>17850</td>\n",
       "      <td>536366</td>\n",
       "      <td>2010-12-01</td>\n",
       "      <td>2010-12</td>\n",
       "    </tr>\n",
       "    <tr>\n",
       "      <th>9</th>\n",
       "      <td>13047</td>\n",
       "      <td>536367</td>\n",
       "      <td>2010-12-01</td>\n",
       "      <td>2010-12</td>\n",
       "    </tr>\n",
       "    <tr>\n",
       "      <th>21</th>\n",
       "      <td>13047</td>\n",
       "      <td>536368</td>\n",
       "      <td>2010-12-01</td>\n",
       "      <td>2010-12</td>\n",
       "    </tr>\n",
       "    <tr>\n",
       "      <th>25</th>\n",
       "      <td>13047</td>\n",
       "      <td>536369</td>\n",
       "      <td>2010-12-01</td>\n",
       "      <td>2010-12</td>\n",
       "    </tr>\n",
       "    <tr>\n",
       "      <th>...</th>\n",
       "      <td>...</td>\n",
       "      <td>...</td>\n",
       "      <td>...</td>\n",
       "      <td>...</td>\n",
       "    </tr>\n",
       "    <tr>\n",
       "      <th>516116</th>\n",
       "      <td>15544</td>\n",
       "      <td>579868</td>\n",
       "      <td>2011-11-30</td>\n",
       "      <td>2011-11</td>\n",
       "    </tr>\n",
       "    <tr>\n",
       "      <th>516139</th>\n",
       "      <td>12437</td>\n",
       "      <td>579870</td>\n",
       "      <td>2011-11-30</td>\n",
       "      <td>2011-11</td>\n",
       "    </tr>\n",
       "    <tr>\n",
       "      <th>516153</th>\n",
       "      <td>14085</td>\n",
       "      <td>579872</td>\n",
       "      <td>2011-11-30</td>\n",
       "      <td>2011-11</td>\n",
       "    </tr>\n",
       "    <tr>\n",
       "      <th>516190</th>\n",
       "      <td>12429</td>\n",
       "      <td>579881</td>\n",
       "      <td>2011-11-30</td>\n",
       "      <td>2011-11</td>\n",
       "    </tr>\n",
       "    <tr>\n",
       "      <th>516222</th>\n",
       "      <td>15444</td>\n",
       "      <td>579885</td>\n",
       "      <td>2011-11-30</td>\n",
       "      <td>2011-11</td>\n",
       "    </tr>\n",
       "  </tbody>\n",
       "</table>\n",
       "<p>17758 rows × 4 columns</p>\n",
       "</div>"
      ],
      "text/plain": [
       "       CustomerID InvoiceNo   date_ymd  date_ym\n",
       "0           17850    536365 2010-12-01  2010-12\n",
       "7           17850    536366 2010-12-01  2010-12\n",
       "9           13047    536367 2010-12-01  2010-12\n",
       "21          13047    536368 2010-12-01  2010-12\n",
       "25          13047    536369 2010-12-01  2010-12\n",
       "...           ...       ...        ...      ...\n",
       "516116      15544    579868 2011-11-30  2011-11\n",
       "516139      12437    579870 2011-11-30  2011-11\n",
       "516153      14085    579872 2011-11-30  2011-11\n",
       "516190      12429    579881 2011-11-30  2011-11\n",
       "516222      15444    579885 2011-11-30  2011-11\n",
       "\n",
       "[17758 rows x 4 columns]"
      ]
     },
     "execution_count": 127,
     "metadata": {},
     "output_type": "execute_result"
    }
   ],
   "source": [
    "retention_data = retention.query(\n",
    "    'date_ymd <= \"2011-11-30\"'\n",
    ")  # 위에 보다싶이 12월은 9일 까지 밖에 데이터가 없어서\n",
    "retention_data"
   ]
  },
  {
   "cell_type": "code",
   "execution_count": 128,
   "metadata": {},
   "outputs": [
    {
     "data": {
      "text/plain": [
       "[Period('2010-12', 'M'),\n",
       " Period('2011-01', 'M'),\n",
       " Period('2011-02', 'M'),\n",
       " Period('2011-03', 'M'),\n",
       " Period('2011-04', 'M'),\n",
       " Period('2011-05', 'M'),\n",
       " Period('2011-06', 'M'),\n",
       " Period('2011-07', 'M'),\n",
       " Period('2011-08', 'M'),\n",
       " Period('2011-09', 'M'),\n",
       " Period('2011-10', 'M'),\n",
       " Period('2011-11', 'M')]"
      ]
     },
     "execution_count": 128,
     "metadata": {},
     "output_type": "execute_result"
    }
   ],
   "source": [
    "date_ym = sorted(list(retention_data[\"date_ym\"].unique()))\n",
    "date_ym"
   ]
  },
  {
   "cell_type": "code",
   "execution_count": 129,
   "metadata": {},
   "outputs": [],
   "source": [
    "period_start = date_ym[0]\n",
    "period_target = date_ym[1]\n",
    "\n",
    "period_start_users = set(retention_data.query(\"date_ym == @period_start\")[\"CustomerID\"])\n",
    "period_target_users = set(\n",
    "    retention_data.query(\"date_ym ==@period_target\")[\"CustomerID\"]\n",
    ")"
   ]
  },
  {
   "cell_type": "code",
   "execution_count": 130,
   "metadata": {},
   "outputs": [
    {
     "data": {
      "text/plain": [
       "0.36610169491525424"
      ]
     },
     "execution_count": 130,
     "metadata": {},
     "output_type": "execute_result"
    }
   ],
   "source": [
    "retained_users = period_start_users.intersection(period_target_users)\n",
    "\n",
    "retention_rate = len(retained_users) / len(period_start_users)\n",
    "retention_rate"
   ]
  },
  {
   "cell_type": "code",
   "execution_count": 104,
   "metadata": {},
   "outputs": [
    {
     "name": "stdout",
     "output_type": "stream",
     "text": [
      "2010-12 2010-12\n",
      "2010-12 2011-01\n",
      "2010-12 2011-02\n",
      "2010-12 2011-03\n",
      "2010-12 2011-04\n",
      "2010-12 2011-05\n",
      "2010-12 2011-06\n",
      "2010-12 2011-07\n",
      "2010-12 2011-08\n",
      "2010-12 2011-09\n",
      "2010-12 2011-10\n",
      "2010-12 2011-11\n",
      "2011-01 2011-01\n",
      "2011-01 2011-02\n",
      "2011-01 2011-03\n",
      "2011-01 2011-04\n",
      "2011-01 2011-05\n",
      "2011-01 2011-06\n",
      "2011-01 2011-07\n",
      "2011-01 2011-08\n",
      "2011-01 2011-09\n",
      "2011-01 2011-10\n",
      "2011-01 2011-11\n",
      "2011-02 2011-02\n",
      "2011-02 2011-03\n",
      "2011-02 2011-04\n",
      "2011-02 2011-05\n",
      "2011-02 2011-06\n",
      "2011-02 2011-07\n",
      "2011-02 2011-08\n",
      "2011-02 2011-09\n",
      "2011-02 2011-10\n",
      "2011-02 2011-11\n",
      "2011-03 2011-03\n",
      "2011-03 2011-04\n",
      "2011-03 2011-05\n",
      "2011-03 2011-06\n",
      "2011-03 2011-07\n",
      "2011-03 2011-08\n",
      "2011-03 2011-09\n",
      "2011-03 2011-10\n",
      "2011-03 2011-11\n",
      "2011-04 2011-04\n",
      "2011-04 2011-05\n",
      "2011-04 2011-06\n",
      "2011-04 2011-07\n",
      "2011-04 2011-08\n",
      "2011-04 2011-09\n",
      "2011-04 2011-10\n",
      "2011-04 2011-11\n",
      "2011-05 2011-05\n",
      "2011-05 2011-06\n",
      "2011-05 2011-07\n",
      "2011-05 2011-08\n",
      "2011-05 2011-09\n",
      "2011-05 2011-10\n",
      "2011-05 2011-11\n",
      "2011-06 2011-06\n",
      "2011-06 2011-07\n",
      "2011-06 2011-08\n",
      "2011-06 2011-09\n",
      "2011-06 2011-10\n",
      "2011-06 2011-11\n",
      "2011-07 2011-07\n",
      "2011-07 2011-08\n",
      "2011-07 2011-09\n",
      "2011-07 2011-10\n",
      "2011-07 2011-11\n",
      "2011-08 2011-08\n",
      "2011-08 2011-09\n",
      "2011-08 2011-10\n",
      "2011-08 2011-11\n",
      "2011-09 2011-09\n",
      "2011-09 2011-10\n",
      "2011-09 2011-11\n",
      "2011-10 2011-10\n",
      "2011-10 2011-11\n",
      "2011-11 2011-11\n"
     ]
    }
   ],
   "source": [
    "for s in date_ym:\n",
    "    for t in date_ym:\n",
    "        if s <= t:\n",
    "            print(s, t)"
   ]
  },
  {
   "cell_type": "code",
   "execution_count": 131,
   "metadata": {},
   "outputs": [
    {
     "data": {
      "text/html": [
       "<div>\n",
       "<style scoped>\n",
       "    .dataframe tbody tr th:only-of-type {\n",
       "        vertical-align: middle;\n",
       "    }\n",
       "\n",
       "    .dataframe tbody tr th {\n",
       "        vertical-align: top;\n",
       "    }\n",
       "\n",
       "    .dataframe thead th {\n",
       "        text-align: right;\n",
       "    }\n",
       "</style>\n",
       "<table border=\"1\" class=\"dataframe\">\n",
       "  <thead>\n",
       "    <tr style=\"text-align: right;\">\n",
       "      <th></th>\n",
       "      <th>cohort</th>\n",
       "      <th>date_ym</th>\n",
       "      <th>retention_rate</th>\n",
       "    </tr>\n",
       "  </thead>\n",
       "  <tbody>\n",
       "    <tr>\n",
       "      <th>0</th>\n",
       "      <td>2010-12</td>\n",
       "      <td>2010-12</td>\n",
       "      <td>1.000000</td>\n",
       "    </tr>\n",
       "    <tr>\n",
       "      <th>1</th>\n",
       "      <td>2010-12</td>\n",
       "      <td>2011-01</td>\n",
       "      <td>0.366102</td>\n",
       "    </tr>\n",
       "    <tr>\n",
       "      <th>2</th>\n",
       "      <td>2010-12</td>\n",
       "      <td>2011-02</td>\n",
       "      <td>0.323164</td>\n",
       "    </tr>\n",
       "    <tr>\n",
       "      <th>3</th>\n",
       "      <td>2010-12</td>\n",
       "      <td>2011-03</td>\n",
       "      <td>0.384181</td>\n",
       "    </tr>\n",
       "    <tr>\n",
       "      <th>4</th>\n",
       "      <td>2010-12</td>\n",
       "      <td>2011-04</td>\n",
       "      <td>0.362712</td>\n",
       "    </tr>\n",
       "    <tr>\n",
       "      <th>...</th>\n",
       "      <td>...</td>\n",
       "      <td>...</td>\n",
       "      <td>...</td>\n",
       "    </tr>\n",
       "    <tr>\n",
       "      <th>73</th>\n",
       "      <td>2011-09</td>\n",
       "      <td>2011-10</td>\n",
       "      <td>0.386256</td>\n",
       "    </tr>\n",
       "    <tr>\n",
       "      <th>74</th>\n",
       "      <td>2011-09</td>\n",
       "      <td>2011-11</td>\n",
       "      <td>0.522117</td>\n",
       "    </tr>\n",
       "    <tr>\n",
       "      <th>75</th>\n",
       "      <td>2011-10</td>\n",
       "      <td>2011-10</td>\n",
       "      <td>1.000000</td>\n",
       "    </tr>\n",
       "    <tr>\n",
       "      <th>76</th>\n",
       "      <td>2011-10</td>\n",
       "      <td>2011-11</td>\n",
       "      <td>0.456012</td>\n",
       "    </tr>\n",
       "    <tr>\n",
       "      <th>77</th>\n",
       "      <td>2011-11</td>\n",
       "      <td>2011-11</td>\n",
       "      <td>1.000000</td>\n",
       "    </tr>\n",
       "  </tbody>\n",
       "</table>\n",
       "<p>78 rows × 3 columns</p>\n",
       "</div>"
      ],
      "text/plain": [
       "     cohort  date_ym  retention_rate\n",
       "0   2010-12  2010-12        1.000000\n",
       "1   2010-12  2011-01        0.366102\n",
       "2   2010-12  2011-02        0.323164\n",
       "3   2010-12  2011-03        0.384181\n",
       "4   2010-12  2011-04        0.362712\n",
       "..      ...      ...             ...\n",
       "73  2011-09  2011-10        0.386256\n",
       "74  2011-09  2011-11        0.522117\n",
       "75  2011-10  2011-10        1.000000\n",
       "76  2011-10  2011-11        0.456012\n",
       "77  2011-11  2011-11        1.000000\n",
       "\n",
       "[78 rows x 3 columns]"
      ]
     },
     "execution_count": 131,
     "metadata": {},
     "output_type": "execute_result"
    }
   ],
   "source": [
    "# Use a different name for the results, e.g., 'retention_final'\n",
    "retention_final = pd.DataFrame()\n",
    "\n",
    "for s in date_ym:\n",
    "    for t in date_ym:\n",
    "        if s <= t:\n",
    "            period_start = s\n",
    "            period_target = t\n",
    "\n",
    "            period_start_users = set(\n",
    "                retention_data.query(\"date_ym == @period_start\")[\"CustomerID\"]\n",
    "            )\n",
    "\n",
    "            period_target_users = set(\n",
    "                retention_data.query(\"date_ym == @period_target\")[\"CustomerID\"]\n",
    "            )\n",
    "\n",
    "            retained_users = period_start_users.intersection(period_target_users)\n",
    "\n",
    "            retention_rate = len(retained_users) / len(period_start_users)\n",
    "\n",
    "            temp = pd.DataFrame(\n",
    "                {\n",
    "                    \"cohort\": [period_start],\n",
    "                    \"date_ym\": [period_target],\n",
    "                    \"retention_rate\": [retention_rate],\n",
    "                }\n",
    "            )\n",
    "\n",
    "            retention_final = pd.concat([retention_final, temp], ignore_index=True)\n",
    "\n",
    "retention_final"
   ]
  },
  {
   "cell_type": "code",
   "execution_count": 132,
   "metadata": {},
   "outputs": [
    {
     "data": {
      "text/html": [
       "<div>\n",
       "<style scoped>\n",
       "    .dataframe tbody tr th:only-of-type {\n",
       "        vertical-align: middle;\n",
       "    }\n",
       "\n",
       "    .dataframe tbody tr th {\n",
       "        vertical-align: top;\n",
       "    }\n",
       "\n",
       "    .dataframe thead th {\n",
       "        text-align: right;\n",
       "    }\n",
       "</style>\n",
       "<table border=\"1\" class=\"dataframe\">\n",
       "  <thead>\n",
       "    <tr style=\"text-align: right;\">\n",
       "      <th></th>\n",
       "      <th>cohort</th>\n",
       "      <th>date_ym</th>\n",
       "      <th>retention_rate</th>\n",
       "      <th>cohort_size(month)</th>\n",
       "    </tr>\n",
       "  </thead>\n",
       "  <tbody>\n",
       "    <tr>\n",
       "      <th>0</th>\n",
       "      <td>2010-12</td>\n",
       "      <td>2010-12</td>\n",
       "      <td>1.000000</td>\n",
       "      <td>0</td>\n",
       "    </tr>\n",
       "    <tr>\n",
       "      <th>1</th>\n",
       "      <td>2010-12</td>\n",
       "      <td>2011-01</td>\n",
       "      <td>0.366102</td>\n",
       "      <td>1</td>\n",
       "    </tr>\n",
       "    <tr>\n",
       "      <th>2</th>\n",
       "      <td>2010-12</td>\n",
       "      <td>2011-02</td>\n",
       "      <td>0.323164</td>\n",
       "      <td>2</td>\n",
       "    </tr>\n",
       "    <tr>\n",
       "      <th>3</th>\n",
       "      <td>2010-12</td>\n",
       "      <td>2011-03</td>\n",
       "      <td>0.384181</td>\n",
       "      <td>3</td>\n",
       "    </tr>\n",
       "    <tr>\n",
       "      <th>4</th>\n",
       "      <td>2010-12</td>\n",
       "      <td>2011-04</td>\n",
       "      <td>0.362712</td>\n",
       "      <td>4</td>\n",
       "    </tr>\n",
       "  </tbody>\n",
       "</table>\n",
       "</div>"
      ],
      "text/plain": [
       "    cohort  date_ym  retention_rate  cohort_size(month)\n",
       "0  2010-12  2010-12        1.000000                   0\n",
       "1  2010-12  2011-01        0.366102                   1\n",
       "2  2010-12  2011-02        0.323164                   2\n",
       "3  2010-12  2011-03        0.384181                   3\n",
       "4  2010-12  2011-04        0.362712                   4"
      ]
     },
     "execution_count": 132,
     "metadata": {},
     "output_type": "execute_result"
    }
   ],
   "source": [
    "retention_final[\"cohort_size(month)\"] = retention_final.apply(\n",
    "    lambda x: (x[\"date_ym\"] - x[\"cohort\"]).n, axis=1\n",
    ")\n",
    "retention_final.head()"
   ]
  },
  {
   "cell_type": "code",
   "execution_count": 133,
   "metadata": {},
   "outputs": [],
   "source": [
    "retention_final[\"cohort\"] = retention_final[\"cohort\"].astype(str)\n",
    "retention_final[\"date_ym\"] = retention_final[\"date_ym\"].astype(str)"
   ]
  },
  {
   "cell_type": "code",
   "execution_count": 135,
   "metadata": {},
   "outputs": [
    {
     "data": {
      "text/html": [
       "<div>\n",
       "<style scoped>\n",
       "    .dataframe tbody tr th:only-of-type {\n",
       "        vertical-align: middle;\n",
       "    }\n",
       "\n",
       "    .dataframe tbody tr th {\n",
       "        vertical-align: top;\n",
       "    }\n",
       "\n",
       "    .dataframe thead th {\n",
       "        text-align: right;\n",
       "    }\n",
       "</style>\n",
       "<table border=\"1\" class=\"dataframe\">\n",
       "  <thead>\n",
       "    <tr style=\"text-align: right;\">\n",
       "      <th>cohort_size(month)</th>\n",
       "      <th>0</th>\n",
       "      <th>1</th>\n",
       "      <th>2</th>\n",
       "      <th>3</th>\n",
       "      <th>4</th>\n",
       "      <th>5</th>\n",
       "      <th>6</th>\n",
       "      <th>7</th>\n",
       "      <th>8</th>\n",
       "      <th>9</th>\n",
       "      <th>10</th>\n",
       "      <th>11</th>\n",
       "    </tr>\n",
       "    <tr>\n",
       "      <th>cohort</th>\n",
       "      <th></th>\n",
       "      <th></th>\n",
       "      <th></th>\n",
       "      <th></th>\n",
       "      <th></th>\n",
       "      <th></th>\n",
       "      <th></th>\n",
       "      <th></th>\n",
       "      <th></th>\n",
       "      <th></th>\n",
       "      <th></th>\n",
       "      <th></th>\n",
       "    </tr>\n",
       "  </thead>\n",
       "  <tbody>\n",
       "    <tr>\n",
       "      <th>2010-12</th>\n",
       "      <td>1.0</td>\n",
       "      <td>0.366102</td>\n",
       "      <td>0.323164</td>\n",
       "      <td>0.384181</td>\n",
       "      <td>0.362712</td>\n",
       "      <td>0.397740</td>\n",
       "      <td>0.362712</td>\n",
       "      <td>0.349153</td>\n",
       "      <td>0.353672</td>\n",
       "      <td>0.395480</td>\n",
       "      <td>0.374011</td>\n",
       "      <td>0.502825</td>\n",
       "    </tr>\n",
       "    <tr>\n",
       "      <th>2011-01</th>\n",
       "      <td>1.0</td>\n",
       "      <td>0.353576</td>\n",
       "      <td>0.430499</td>\n",
       "      <td>0.383266</td>\n",
       "      <td>0.457490</td>\n",
       "      <td>0.419703</td>\n",
       "      <td>0.391363</td>\n",
       "      <td>0.384615</td>\n",
       "      <td>0.438596</td>\n",
       "      <td>0.417004</td>\n",
       "      <td>0.514170</td>\n",
       "      <td>NaN</td>\n",
       "    </tr>\n",
       "    <tr>\n",
       "      <th>2011-02</th>\n",
       "      <td>1.0</td>\n",
       "      <td>0.382586</td>\n",
       "      <td>0.375989</td>\n",
       "      <td>0.468338</td>\n",
       "      <td>0.428760</td>\n",
       "      <td>0.405013</td>\n",
       "      <td>0.402375</td>\n",
       "      <td>0.440633</td>\n",
       "      <td>0.414248</td>\n",
       "      <td>0.485488</td>\n",
       "      <td>NaN</td>\n",
       "      <td>NaN</td>\n",
       "    </tr>\n",
       "    <tr>\n",
       "      <th>2011-03</th>\n",
       "      <td>1.0</td>\n",
       "      <td>0.312115</td>\n",
       "      <td>0.441478</td>\n",
       "      <td>0.401437</td>\n",
       "      <td>0.377823</td>\n",
       "      <td>0.360370</td>\n",
       "      <td>0.421971</td>\n",
       "      <td>0.390144</td>\n",
       "      <td>0.474333</td>\n",
       "      <td>NaN</td>\n",
       "      <td>NaN</td>\n",
       "      <td>NaN</td>\n",
       "    </tr>\n",
       "    <tr>\n",
       "      <th>2011-04</th>\n",
       "      <td>1.0</td>\n",
       "      <td>0.429907</td>\n",
       "      <td>0.419393</td>\n",
       "      <td>0.407710</td>\n",
       "      <td>0.387850</td>\n",
       "      <td>0.450935</td>\n",
       "      <td>0.417056</td>\n",
       "      <td>0.491822</td>\n",
       "      <td>NaN</td>\n",
       "      <td>NaN</td>\n",
       "      <td>NaN</td>\n",
       "      <td>NaN</td>\n",
       "    </tr>\n",
       "    <tr>\n",
       "      <th>2011-05</th>\n",
       "      <td>1.0</td>\n",
       "      <td>0.388258</td>\n",
       "      <td>0.407197</td>\n",
       "      <td>0.405303</td>\n",
       "      <td>0.442235</td>\n",
       "      <td>0.416667</td>\n",
       "      <td>0.501894</td>\n",
       "      <td>NaN</td>\n",
       "      <td>NaN</td>\n",
       "      <td>NaN</td>\n",
       "      <td>NaN</td>\n",
       "      <td>NaN</td>\n",
       "    </tr>\n",
       "    <tr>\n",
       "      <th>2011-06</th>\n",
       "      <td>1.0</td>\n",
       "      <td>0.368315</td>\n",
       "      <td>0.409687</td>\n",
       "      <td>0.467205</td>\n",
       "      <td>0.435923</td>\n",
       "      <td>0.517659</td>\n",
       "      <td>NaN</td>\n",
       "      <td>NaN</td>\n",
       "      <td>NaN</td>\n",
       "      <td>NaN</td>\n",
       "      <td>NaN</td>\n",
       "      <td>NaN</td>\n",
       "    </tr>\n",
       "    <tr>\n",
       "      <th>2011-07</th>\n",
       "      <td>1.0</td>\n",
       "      <td>0.408851</td>\n",
       "      <td>0.457323</td>\n",
       "      <td>0.457323</td>\n",
       "      <td>0.521602</td>\n",
       "      <td>NaN</td>\n",
       "      <td>NaN</td>\n",
       "      <td>NaN</td>\n",
       "      <td>NaN</td>\n",
       "      <td>NaN</td>\n",
       "      <td>NaN</td>\n",
       "      <td>NaN</td>\n",
       "    </tr>\n",
       "    <tr>\n",
       "      <th>2011-08</th>\n",
       "      <td>1.0</td>\n",
       "      <td>0.454545</td>\n",
       "      <td>0.449198</td>\n",
       "      <td>0.534759</td>\n",
       "      <td>NaN</td>\n",
       "      <td>NaN</td>\n",
       "      <td>NaN</td>\n",
       "      <td>NaN</td>\n",
       "      <td>NaN</td>\n",
       "      <td>NaN</td>\n",
       "      <td>NaN</td>\n",
       "      <td>NaN</td>\n",
       "    </tr>\n",
       "    <tr>\n",
       "      <th>2011-09</th>\n",
       "      <td>1.0</td>\n",
       "      <td>0.386256</td>\n",
       "      <td>0.522117</td>\n",
       "      <td>NaN</td>\n",
       "      <td>NaN</td>\n",
       "      <td>NaN</td>\n",
       "      <td>NaN</td>\n",
       "      <td>NaN</td>\n",
       "      <td>NaN</td>\n",
       "      <td>NaN</td>\n",
       "      <td>NaN</td>\n",
       "      <td>NaN</td>\n",
       "    </tr>\n",
       "    <tr>\n",
       "      <th>2011-10</th>\n",
       "      <td>1.0</td>\n",
       "      <td>0.456012</td>\n",
       "      <td>NaN</td>\n",
       "      <td>NaN</td>\n",
       "      <td>NaN</td>\n",
       "      <td>NaN</td>\n",
       "      <td>NaN</td>\n",
       "      <td>NaN</td>\n",
       "      <td>NaN</td>\n",
       "      <td>NaN</td>\n",
       "      <td>NaN</td>\n",
       "      <td>NaN</td>\n",
       "    </tr>\n",
       "    <tr>\n",
       "      <th>2011-11</th>\n",
       "      <td>1.0</td>\n",
       "      <td>NaN</td>\n",
       "      <td>NaN</td>\n",
       "      <td>NaN</td>\n",
       "      <td>NaN</td>\n",
       "      <td>NaN</td>\n",
       "      <td>NaN</td>\n",
       "      <td>NaN</td>\n",
       "      <td>NaN</td>\n",
       "      <td>NaN</td>\n",
       "      <td>NaN</td>\n",
       "      <td>NaN</td>\n",
       "    </tr>\n",
       "  </tbody>\n",
       "</table>\n",
       "</div>"
      ],
      "text/plain": [
       "cohort_size(month)   0         1         2         3         4         5   \\\n",
       "cohort                                                                      \n",
       "2010-12             1.0  0.366102  0.323164  0.384181  0.362712  0.397740   \n",
       "2011-01             1.0  0.353576  0.430499  0.383266  0.457490  0.419703   \n",
       "2011-02             1.0  0.382586  0.375989  0.468338  0.428760  0.405013   \n",
       "2011-03             1.0  0.312115  0.441478  0.401437  0.377823  0.360370   \n",
       "2011-04             1.0  0.429907  0.419393  0.407710  0.387850  0.450935   \n",
       "2011-05             1.0  0.388258  0.407197  0.405303  0.442235  0.416667   \n",
       "2011-06             1.0  0.368315  0.409687  0.467205  0.435923  0.517659   \n",
       "2011-07             1.0  0.408851  0.457323  0.457323  0.521602       NaN   \n",
       "2011-08             1.0  0.454545  0.449198  0.534759       NaN       NaN   \n",
       "2011-09             1.0  0.386256  0.522117       NaN       NaN       NaN   \n",
       "2011-10             1.0  0.456012       NaN       NaN       NaN       NaN   \n",
       "2011-11             1.0       NaN       NaN       NaN       NaN       NaN   \n",
       "\n",
       "cohort_size(month)        6         7         8         9         10        11  \n",
       "cohort                                                                          \n",
       "2010-12             0.362712  0.349153  0.353672  0.395480  0.374011  0.502825  \n",
       "2011-01             0.391363  0.384615  0.438596  0.417004  0.514170       NaN  \n",
       "2011-02             0.402375  0.440633  0.414248  0.485488       NaN       NaN  \n",
       "2011-03             0.421971  0.390144  0.474333       NaN       NaN       NaN  \n",
       "2011-04             0.417056  0.491822       NaN       NaN       NaN       NaN  \n",
       "2011-05             0.501894       NaN       NaN       NaN       NaN       NaN  \n",
       "2011-06                  NaN       NaN       NaN       NaN       NaN       NaN  \n",
       "2011-07                  NaN       NaN       NaN       NaN       NaN       NaN  \n",
       "2011-08                  NaN       NaN       NaN       NaN       NaN       NaN  \n",
       "2011-09                  NaN       NaN       NaN       NaN       NaN       NaN  \n",
       "2011-10                  NaN       NaN       NaN       NaN       NaN       NaN  \n",
       "2011-11                  NaN       NaN       NaN       NaN       NaN       NaN  "
      ]
     },
     "execution_count": 135,
     "metadata": {},
     "output_type": "execute_result"
    }
   ],
   "source": [
    "retention_pivot = pd.pivot_table(\n",
    "    retention_final,\n",
    "    index=\"cohort\",\n",
    "    columns=\"cohort_size(month)\",\n",
    "    values=\"retention_rate\",\n",
    ")\n",
    "retention_pivot"
   ]
  },
  {
   "cell_type": "code",
   "execution_count": null,
   "metadata": {},
   "outputs": [
    {
     "data": {
      "application/vnd.plotly.v1+json": {
       "config": {
        "plotlyServerURL": "https://plot.ly"
       },
       "data": [
        {
         "coloraxis": "coloraxis",
         "hovertemplate": "cohort_size(month): %{x}<br>cohort: %{y}<br>color: %{z}<extra></extra>",
         "name": "0",
         "texttemplate": "%{z:.2%}",
         "type": "heatmap",
         "x": {
          "bdata": "AAECAwQFBgcICQoL",
          "dtype": "i1"
         },
         "xaxis": "x",
         "y": [
          "2010-12",
          "2011-01",
          "2011-02",
          "2011-03",
          "2011-04",
          "2011-05",
          "2011-06",
          "2011-07",
          "2011-08",
          "2011-09",
          "2011-10",
          "2011-11"
         ],
         "yaxis": "y",
         "z": {
          "bdata": "AAAAAAAA8D+49KrNNW7XP94j9GS3rtQ/qEw7B2uW2D875N/SqzbXP5yOZ/KSdNk/O+Tf0qs21z9HorPng1jWP0O4FzaRotY/noM1S4xP2T8xG9oWze/XP99GfygkF+A/AAAAAAAA8D8QaslF/qDWP9W4tQpNjds/d4hRhG2H2D941KWgg0fdP8etVWhq3No/wZAZfhcM2T/ZiZ3YiZ3YPx/BfQT3Edw/A6u9vzGw2j9BB4+6FHTgPwAAAAAAAPh/AAAAAAAA8D/ZjSrzSHzYP9nadAk2ENg/0KRk0T753T/UciJXzXDbP3DuLXS869k/16ZLsIHA2T8GtZzIVTPcPwnpxSEKg9o/NXajyjwS3z8AAAAAAAD4fwAAAAAAAPh/AAAAAAAA8D/lq18msfnTP8UPzsguQdw/quSrXyax2T9zE+07Qi7YP/GDM7JLENc/BxVotpMB2z/elvdvHfjYP4zDlFN3W94/AAAAAAAA+H8AAAAAAAD4fwAAAAAAAPh/AAAAAAAA8D8T6J26loPbP3xkAr1T19o/1bUc3OwX2j+42S/EitLYP0Hv1LUc3Nw/Ww5u9gux2j+L0vjIBHrfPwAAAAAAAPh/AAAAAAAA+H8AAAAAAAD4fwAAAAAAAPh/AAAAAAAA8D/ZZJNNNtnYPxA++OCDD9o/8MEHH3zw2T9ONtlkk03cP6uqqqqqqto/ED744IMP4D8AAAAAAAD4fwAAAAAAAPh/AAAAAAAA+H8AAAAAAAD4fwAAAAAAAPh/AAAAAAAA8D/sUiFheJLXP7Co7ZhQONo/Q8LwJK/m3T/hpsbhKubbPxXzDXapkOA/AAAAAAAA+H8AAAAAAAD4fwAAAAAAAPh/AAAAAAAA+H8AAAAAAAD4fwAAAAAAAPh/AAAAAAAA8D+qojEonyraP03UWcfJRN0/TdRZx8lE3T8PC9sE9rDgPwAAAAAAAPh/AAAAAAAA+H8AAAAAAAD4fwAAAAAAAPh/AAAAAAAA+H8AAAAAAAD4fwAAAAAAAPh/AAAAAAAA8D8XXXTRRRfdP8AckWKov9w/HZFiqL8c4T8AAAAAAAD4fwAAAAAAAPh/AAAAAAAA+H8AAAAAAAD4fwAAAAAAAPh/AAAAAAAA+H8AAAAAAAD4fwAAAAAAAPh/AAAAAAAA8D9FvYzEarjYP5ltOYIuteA/AAAAAAAA+H8AAAAAAAD4fwAAAAAAAPh/AAAAAAAA+H8AAAAAAAD4fwAAAAAAAPh/AAAAAAAA+H8AAAAAAAD4fwAAAAAAAPh/AAAAAAAA8D8vvfTSSy/dPwAAAAAAAPh/AAAAAAAA+H8AAAAAAAD4fwAAAAAAAPh/AAAAAAAA+H8AAAAAAAD4fwAAAAAAAPh/AAAAAAAA+H8AAAAAAAD4fwAAAAAAAPh/AAAAAAAA8D8AAAAAAAD4fwAAAAAAAPh/AAAAAAAA+H8AAAAAAAD4fwAAAAAAAPh/AAAAAAAA+H8AAAAAAAD4fwAAAAAAAPh/AAAAAAAA+H8AAAAAAAD4fwAAAAAAAPh/",
          "dtype": "f8",
          "shape": "12, 12"
         }
        }
       ],
       "layout": {
        "coloraxis": {
         "colorscale": [
          [
           0,
           "rgb(255, 198, 196)"
          ],
          [
           0.16666666666666666,
           "rgb(244, 163, 168)"
          ],
          [
           0.3333333333333333,
           "rgb(227, 129, 145)"
          ],
          [
           0.5,
           "rgb(204, 96, 125)"
          ],
          [
           0.6666666666666666,
           "rgb(173, 70, 108)"
          ],
          [
           0.8333333333333334,
           "rgb(139, 48, 88)"
          ],
          [
           1,
           "rgb(103, 32, 68)"
          ]
         ]
        },
        "margin": {
         "t": 60
        },
        "template": {
         "data": {
          "bar": [
           {
            "error_x": {
             "color": "#f2f5fa"
            },
            "error_y": {
             "color": "#f2f5fa"
            },
            "marker": {
             "line": {
              "color": "rgb(17,17,17)",
              "width": 0.5
             },
             "pattern": {
              "fillmode": "overlay",
              "size": 10,
              "solidity": 0.2
             }
            },
            "type": "bar"
           }
          ],
          "barpolar": [
           {
            "marker": {
             "line": {
              "color": "rgb(17,17,17)",
              "width": 0.5
             },
             "pattern": {
              "fillmode": "overlay",
              "size": 10,
              "solidity": 0.2
             }
            },
            "type": "barpolar"
           }
          ],
          "carpet": [
           {
            "aaxis": {
             "endlinecolor": "#A2B1C6",
             "gridcolor": "#506784",
             "linecolor": "#506784",
             "minorgridcolor": "#506784",
             "startlinecolor": "#A2B1C6"
            },
            "baxis": {
             "endlinecolor": "#A2B1C6",
             "gridcolor": "#506784",
             "linecolor": "#506784",
             "minorgridcolor": "#506784",
             "startlinecolor": "#A2B1C6"
            },
            "type": "carpet"
           }
          ],
          "choropleth": [
           {
            "colorbar": {
             "outlinewidth": 0,
             "ticks": ""
            },
            "type": "choropleth"
           }
          ],
          "contour": [
           {
            "colorbar": {
             "outlinewidth": 0,
             "ticks": ""
            },
            "colorscale": [
             [
              0,
              "#0d0887"
             ],
             [
              0.1111111111111111,
              "#46039f"
             ],
             [
              0.2222222222222222,
              "#7201a8"
             ],
             [
              0.3333333333333333,
              "#9c179e"
             ],
             [
              0.4444444444444444,
              "#bd3786"
             ],
             [
              0.5555555555555556,
              "#d8576b"
             ],
             [
              0.6666666666666666,
              "#ed7953"
             ],
             [
              0.7777777777777778,
              "#fb9f3a"
             ],
             [
              0.8888888888888888,
              "#fdca26"
             ],
             [
              1,
              "#f0f921"
             ]
            ],
            "type": "contour"
           }
          ],
          "contourcarpet": [
           {
            "colorbar": {
             "outlinewidth": 0,
             "ticks": ""
            },
            "type": "contourcarpet"
           }
          ],
          "heatmap": [
           {
            "colorbar": {
             "outlinewidth": 0,
             "ticks": ""
            },
            "colorscale": [
             [
              0,
              "#0d0887"
             ],
             [
              0.1111111111111111,
              "#46039f"
             ],
             [
              0.2222222222222222,
              "#7201a8"
             ],
             [
              0.3333333333333333,
              "#9c179e"
             ],
             [
              0.4444444444444444,
              "#bd3786"
             ],
             [
              0.5555555555555556,
              "#d8576b"
             ],
             [
              0.6666666666666666,
              "#ed7953"
             ],
             [
              0.7777777777777778,
              "#fb9f3a"
             ],
             [
              0.8888888888888888,
              "#fdca26"
             ],
             [
              1,
              "#f0f921"
             ]
            ],
            "type": "heatmap"
           }
          ],
          "histogram": [
           {
            "marker": {
             "pattern": {
              "fillmode": "overlay",
              "size": 10,
              "solidity": 0.2
             }
            },
            "type": "histogram"
           }
          ],
          "histogram2d": [
           {
            "colorbar": {
             "outlinewidth": 0,
             "ticks": ""
            },
            "colorscale": [
             [
              0,
              "#0d0887"
             ],
             [
              0.1111111111111111,
              "#46039f"
             ],
             [
              0.2222222222222222,
              "#7201a8"
             ],
             [
              0.3333333333333333,
              "#9c179e"
             ],
             [
              0.4444444444444444,
              "#bd3786"
             ],
             [
              0.5555555555555556,
              "#d8576b"
             ],
             [
              0.6666666666666666,
              "#ed7953"
             ],
             [
              0.7777777777777778,
              "#fb9f3a"
             ],
             [
              0.8888888888888888,
              "#fdca26"
             ],
             [
              1,
              "#f0f921"
             ]
            ],
            "type": "histogram2d"
           }
          ],
          "histogram2dcontour": [
           {
            "colorbar": {
             "outlinewidth": 0,
             "ticks": ""
            },
            "colorscale": [
             [
              0,
              "#0d0887"
             ],
             [
              0.1111111111111111,
              "#46039f"
             ],
             [
              0.2222222222222222,
              "#7201a8"
             ],
             [
              0.3333333333333333,
              "#9c179e"
             ],
             [
              0.4444444444444444,
              "#bd3786"
             ],
             [
              0.5555555555555556,
              "#d8576b"
             ],
             [
              0.6666666666666666,
              "#ed7953"
             ],
             [
              0.7777777777777778,
              "#fb9f3a"
             ],
             [
              0.8888888888888888,
              "#fdca26"
             ],
             [
              1,
              "#f0f921"
             ]
            ],
            "type": "histogram2dcontour"
           }
          ],
          "mesh3d": [
           {
            "colorbar": {
             "outlinewidth": 0,
             "ticks": ""
            },
            "type": "mesh3d"
           }
          ],
          "parcoords": [
           {
            "line": {
             "colorbar": {
              "outlinewidth": 0,
              "ticks": ""
             }
            },
            "type": "parcoords"
           }
          ],
          "pie": [
           {
            "automargin": true,
            "type": "pie"
           }
          ],
          "scatter": [
           {
            "marker": {
             "line": {
              "color": "#283442"
             }
            },
            "type": "scatter"
           }
          ],
          "scatter3d": [
           {
            "line": {
             "colorbar": {
              "outlinewidth": 0,
              "ticks": ""
             }
            },
            "marker": {
             "colorbar": {
              "outlinewidth": 0,
              "ticks": ""
             }
            },
            "type": "scatter3d"
           }
          ],
          "scattercarpet": [
           {
            "marker": {
             "colorbar": {
              "outlinewidth": 0,
              "ticks": ""
             }
            },
            "type": "scattercarpet"
           }
          ],
          "scattergeo": [
           {
            "marker": {
             "colorbar": {
              "outlinewidth": 0,
              "ticks": ""
             }
            },
            "type": "scattergeo"
           }
          ],
          "scattergl": [
           {
            "marker": {
             "line": {
              "color": "#283442"
             }
            },
            "type": "scattergl"
           }
          ],
          "scattermap": [
           {
            "marker": {
             "colorbar": {
              "outlinewidth": 0,
              "ticks": ""
             }
            },
            "type": "scattermap"
           }
          ],
          "scattermapbox": [
           {
            "marker": {
             "colorbar": {
              "outlinewidth": 0,
              "ticks": ""
             }
            },
            "type": "scattermapbox"
           }
          ],
          "scatterpolar": [
           {
            "marker": {
             "colorbar": {
              "outlinewidth": 0,
              "ticks": ""
             }
            },
            "type": "scatterpolar"
           }
          ],
          "scatterpolargl": [
           {
            "marker": {
             "colorbar": {
              "outlinewidth": 0,
              "ticks": ""
             }
            },
            "type": "scatterpolargl"
           }
          ],
          "scatterternary": [
           {
            "marker": {
             "colorbar": {
              "outlinewidth": 0,
              "ticks": ""
             }
            },
            "type": "scatterternary"
           }
          ],
          "surface": [
           {
            "colorbar": {
             "outlinewidth": 0,
             "ticks": ""
            },
            "colorscale": [
             [
              0,
              "#0d0887"
             ],
             [
              0.1111111111111111,
              "#46039f"
             ],
             [
              0.2222222222222222,
              "#7201a8"
             ],
             [
              0.3333333333333333,
              "#9c179e"
             ],
             [
              0.4444444444444444,
              "#bd3786"
             ],
             [
              0.5555555555555556,
              "#d8576b"
             ],
             [
              0.6666666666666666,
              "#ed7953"
             ],
             [
              0.7777777777777778,
              "#fb9f3a"
             ],
             [
              0.8888888888888888,
              "#fdca26"
             ],
             [
              1,
              "#f0f921"
             ]
            ],
            "type": "surface"
           }
          ],
          "table": [
           {
            "cells": {
             "fill": {
              "color": "#506784"
             },
             "line": {
              "color": "rgb(17,17,17)"
             }
            },
            "header": {
             "fill": {
              "color": "#2a3f5f"
             },
             "line": {
              "color": "rgb(17,17,17)"
             }
            },
            "type": "table"
           }
          ]
         },
         "layout": {
          "annotationdefaults": {
           "arrowcolor": "#f2f5fa",
           "arrowhead": 0,
           "arrowwidth": 1
          },
          "autotypenumbers": "strict",
          "coloraxis": {
           "colorbar": {
            "outlinewidth": 0,
            "ticks": ""
           }
          },
          "colorscale": {
           "diverging": [
            [
             0,
             "#8e0152"
            ],
            [
             0.1,
             "#c51b7d"
            ],
            [
             0.2,
             "#de77ae"
            ],
            [
             0.3,
             "#f1b6da"
            ],
            [
             0.4,
             "#fde0ef"
            ],
            [
             0.5,
             "#f7f7f7"
            ],
            [
             0.6,
             "#e6f5d0"
            ],
            [
             0.7,
             "#b8e186"
            ],
            [
             0.8,
             "#7fbc41"
            ],
            [
             0.9,
             "#4d9221"
            ],
            [
             1,
             "#276419"
            ]
           ],
           "sequential": [
            [
             0,
             "#0d0887"
            ],
            [
             0.1111111111111111,
             "#46039f"
            ],
            [
             0.2222222222222222,
             "#7201a8"
            ],
            [
             0.3333333333333333,
             "#9c179e"
            ],
            [
             0.4444444444444444,
             "#bd3786"
            ],
            [
             0.5555555555555556,
             "#d8576b"
            ],
            [
             0.6666666666666666,
             "#ed7953"
            ],
            [
             0.7777777777777778,
             "#fb9f3a"
            ],
            [
             0.8888888888888888,
             "#fdca26"
            ],
            [
             1,
             "#f0f921"
            ]
           ],
           "sequentialminus": [
            [
             0,
             "#0d0887"
            ],
            [
             0.1111111111111111,
             "#46039f"
            ],
            [
             0.2222222222222222,
             "#7201a8"
            ],
            [
             0.3333333333333333,
             "#9c179e"
            ],
            [
             0.4444444444444444,
             "#bd3786"
            ],
            [
             0.5555555555555556,
             "#d8576b"
            ],
            [
             0.6666666666666666,
             "#ed7953"
            ],
            [
             0.7777777777777778,
             "#fb9f3a"
            ],
            [
             0.8888888888888888,
             "#fdca26"
            ],
            [
             1,
             "#f0f921"
            ]
           ]
          },
          "colorway": [
           "#636efa",
           "#EF553B",
           "#00cc96",
           "#ab63fa",
           "#FFA15A",
           "#19d3f3",
           "#FF6692",
           "#B6E880",
           "#FF97FF",
           "#FECB52"
          ],
          "font": {
           "color": "#f2f5fa"
          },
          "geo": {
           "bgcolor": "rgb(17,17,17)",
           "lakecolor": "rgb(17,17,17)",
           "landcolor": "rgb(17,17,17)",
           "showlakes": true,
           "showland": true,
           "subunitcolor": "#506784"
          },
          "hoverlabel": {
           "align": "left"
          },
          "hovermode": "closest",
          "mapbox": {
           "style": "dark"
          },
          "paper_bgcolor": "rgb(17,17,17)",
          "plot_bgcolor": "rgb(17,17,17)",
          "polar": {
           "angularaxis": {
            "gridcolor": "#506784",
            "linecolor": "#506784",
            "ticks": ""
           },
           "bgcolor": "rgb(17,17,17)",
           "radialaxis": {
            "gridcolor": "#506784",
            "linecolor": "#506784",
            "ticks": ""
           }
          },
          "scene": {
           "xaxis": {
            "backgroundcolor": "rgb(17,17,17)",
            "gridcolor": "#506784",
            "gridwidth": 2,
            "linecolor": "#506784",
            "showbackground": true,
            "ticks": "",
            "zerolinecolor": "#C8D4E3"
           },
           "yaxis": {
            "backgroundcolor": "rgb(17,17,17)",
            "gridcolor": "#506784",
            "gridwidth": 2,
            "linecolor": "#506784",
            "showbackground": true,
            "ticks": "",
            "zerolinecolor": "#C8D4E3"
           },
           "zaxis": {
            "backgroundcolor": "rgb(17,17,17)",
            "gridcolor": "#506784",
            "gridwidth": 2,
            "linecolor": "#506784",
            "showbackground": true,
            "ticks": "",
            "zerolinecolor": "#C8D4E3"
           }
          },
          "shapedefaults": {
           "line": {
            "color": "#f2f5fa"
           }
          },
          "sliderdefaults": {
           "bgcolor": "#C8D4E3",
           "bordercolor": "rgb(17,17,17)",
           "borderwidth": 1,
           "tickwidth": 0
          },
          "ternary": {
           "aaxis": {
            "gridcolor": "#506784",
            "linecolor": "#506784",
            "ticks": ""
           },
           "baxis": {
            "gridcolor": "#506784",
            "linecolor": "#506784",
            "ticks": ""
           },
           "bgcolor": "rgb(17,17,17)",
           "caxis": {
            "gridcolor": "#506784",
            "linecolor": "#506784",
            "ticks": ""
           }
          },
          "title": {
           "x": 0.05
          },
          "updatemenudefaults": {
           "bgcolor": "#506784",
           "borderwidth": 0
          },
          "xaxis": {
           "automargin": true,
           "gridcolor": "#283442",
           "linecolor": "#506784",
           "ticks": "",
           "title": {
            "standoff": 15
           },
           "zerolinecolor": "#283442",
           "zerolinewidth": 2
          },
          "yaxis": {
           "automargin": true,
           "gridcolor": "#283442",
           "linecolor": "#506784",
           "ticks": "",
           "title": {
            "standoff": 15
           },
           "zerolinecolor": "#283442",
           "zerolinewidth": 2
          }
         }
        },
        "xaxis": {
         "anchor": "y",
         "constrain": "domain",
         "domain": [
          0,
          1
         ],
         "scaleanchor": "y",
         "title": {
          "text": "cohort_size(month)"
         }
        },
        "yaxis": {
         "anchor": "x",
         "autorange": "reversed",
         "constrain": "domain",
         "domain": [
          0,
          1
         ],
         "title": {
          "text": "cohort"
         }
        }
       }
      }
     },
     "metadata": {},
     "output_type": "display_data"
    }
   ],
   "source": [
    "fig = px.imshow(\n",
    "    retention_pivot,\n",
    "    text_auto=\".2%\",\n",
    "    color_continuous_scale=\"Burg\",\n",
    "    template=\"plotly_dark\",\n",
    ")\n",
    "fig.show()"
   ]
  },
  {
   "cell_type": "code",
   "execution_count": 144,
   "metadata": {},
   "outputs": [
    {
     "data": {
      "text/html": [
       "<div>\n",
       "<style scoped>\n",
       "    .dataframe tbody tr th:only-of-type {\n",
       "        vertical-align: middle;\n",
       "    }\n",
       "\n",
       "    .dataframe tbody tr th {\n",
       "        vertical-align: top;\n",
       "    }\n",
       "\n",
       "    .dataframe thead th {\n",
       "        text-align: right;\n",
       "    }\n",
       "</style>\n",
       "<table border=\"1\" class=\"dataframe\">\n",
       "  <thead>\n",
       "    <tr style=\"text-align: right;\">\n",
       "      <th></th>\n",
       "      <th>cohort_size(month)</th>\n",
       "      <th>retention_rate</th>\n",
       "    </tr>\n",
       "  </thead>\n",
       "  <tbody>\n",
       "    <tr>\n",
       "      <th>0</th>\n",
       "      <td>0</td>\n",
       "      <td>1.000000</td>\n",
       "    </tr>\n",
       "    <tr>\n",
       "      <th>1</th>\n",
       "      <td>1</td>\n",
       "      <td>0.391502</td>\n",
       "    </tr>\n",
       "    <tr>\n",
       "      <th>2</th>\n",
       "      <td>2</td>\n",
       "      <td>0.423605</td>\n",
       "    </tr>\n",
       "    <tr>\n",
       "      <th>3</th>\n",
       "      <td>3</td>\n",
       "      <td>0.434391</td>\n",
       "    </tr>\n",
       "    <tr>\n",
       "      <th>4</th>\n",
       "      <td>4</td>\n",
       "      <td>0.426799</td>\n",
       "    </tr>\n",
       "    <tr>\n",
       "      <th>5</th>\n",
       "      <td>5</td>\n",
       "      <td>0.424012</td>\n",
       "    </tr>\n",
       "    <tr>\n",
       "      <th>6</th>\n",
       "      <td>6</td>\n",
       "      <td>0.416228</td>\n",
       "    </tr>\n",
       "    <tr>\n",
       "      <th>7</th>\n",
       "      <td>7</td>\n",
       "      <td>0.411273</td>\n",
       "    </tr>\n",
       "    <tr>\n",
       "      <th>8</th>\n",
       "      <td>8</td>\n",
       "      <td>0.420212</td>\n",
       "    </tr>\n",
       "    <tr>\n",
       "      <th>9</th>\n",
       "      <td>9</td>\n",
       "      <td>0.432657</td>\n",
       "    </tr>\n",
       "    <tr>\n",
       "      <th>10</th>\n",
       "      <td>10</td>\n",
       "      <td>0.444091</td>\n",
       "    </tr>\n",
       "    <tr>\n",
       "      <th>11</th>\n",
       "      <td>11</td>\n",
       "      <td>0.502825</td>\n",
       "    </tr>\n",
       "  </tbody>\n",
       "</table>\n",
       "</div>"
      ],
      "text/plain": [
       "    cohort_size(month)  retention_rate\n",
       "0                    0        1.000000\n",
       "1                    1        0.391502\n",
       "2                    2        0.423605\n",
       "3                    3        0.434391\n",
       "4                    4        0.426799\n",
       "5                    5        0.424012\n",
       "6                    6        0.416228\n",
       "7                    7        0.411273\n",
       "8                    8        0.420212\n",
       "9                    9        0.432657\n",
       "10                  10        0.444091\n",
       "11                  11        0.502825"
      ]
     },
     "execution_count": 144,
     "metadata": {},
     "output_type": "execute_result"
    }
   ],
   "source": [
    "retention_curve = (\n",
    "    retention_final.groupby(\"cohort_size(month)\")[\"retention_rate\"].mean().reset_index()\n",
    ")\n",
    "retention_curve"
   ]
  },
  {
   "cell_type": "code",
   "execution_count": 147,
   "metadata": {},
   "outputs": [
    {
     "data": {
      "application/vnd.plotly.v1+json": {
       "config": {
        "plotlyServerURL": "https://plot.ly"
       },
       "data": [
        {
         "hovertemplate": "cohort_size(month)=%{x}<br>retention_rate=%{y}<extra></extra>",
         "legendgroup": "",
         "line": {
          "color": "#636efa",
          "dash": "solid"
         },
         "marker": {
          "symbol": "circle"
         },
         "mode": "lines",
         "name": "",
         "orientation": "v",
         "showlegend": false,
         "type": "scatter",
         "x": {
          "bdata": "AAECAwQFBgcICQoL",
          "dtype": "i1"
         },
         "xaxis": "x",
         "y": {
          "bdata": "AAAAAAAA8D8ks/N3Xg7ZP+KvHndWHNs/IZ5sqRHN2z+AYWODrlDbP/qYGosEI9s/40lXvXyj2j+225LzTVLaP34J/GvC5No/neHc8aiw2z/aFPxF+2vcP99GfygkF+A/",
          "dtype": "f8"
         },
         "yaxis": "y"
        }
       ],
       "layout": {
        "legend": {
         "tracegroupgap": 0
        },
        "margin": {
         "t": 60
        },
        "template": {
         "data": {
          "bar": [
           {
            "error_x": {
             "color": "#f2f5fa"
            },
            "error_y": {
             "color": "#f2f5fa"
            },
            "marker": {
             "line": {
              "color": "rgb(17,17,17)",
              "width": 0.5
             },
             "pattern": {
              "fillmode": "overlay",
              "size": 10,
              "solidity": 0.2
             }
            },
            "type": "bar"
           }
          ],
          "barpolar": [
           {
            "marker": {
             "line": {
              "color": "rgb(17,17,17)",
              "width": 0.5
             },
             "pattern": {
              "fillmode": "overlay",
              "size": 10,
              "solidity": 0.2
             }
            },
            "type": "barpolar"
           }
          ],
          "carpet": [
           {
            "aaxis": {
             "endlinecolor": "#A2B1C6",
             "gridcolor": "#506784",
             "linecolor": "#506784",
             "minorgridcolor": "#506784",
             "startlinecolor": "#A2B1C6"
            },
            "baxis": {
             "endlinecolor": "#A2B1C6",
             "gridcolor": "#506784",
             "linecolor": "#506784",
             "minorgridcolor": "#506784",
             "startlinecolor": "#A2B1C6"
            },
            "type": "carpet"
           }
          ],
          "choropleth": [
           {
            "colorbar": {
             "outlinewidth": 0,
             "ticks": ""
            },
            "type": "choropleth"
           }
          ],
          "contour": [
           {
            "colorbar": {
             "outlinewidth": 0,
             "ticks": ""
            },
            "colorscale": [
             [
              0,
              "#0d0887"
             ],
             [
              0.1111111111111111,
              "#46039f"
             ],
             [
              0.2222222222222222,
              "#7201a8"
             ],
             [
              0.3333333333333333,
              "#9c179e"
             ],
             [
              0.4444444444444444,
              "#bd3786"
             ],
             [
              0.5555555555555556,
              "#d8576b"
             ],
             [
              0.6666666666666666,
              "#ed7953"
             ],
             [
              0.7777777777777778,
              "#fb9f3a"
             ],
             [
              0.8888888888888888,
              "#fdca26"
             ],
             [
              1,
              "#f0f921"
             ]
            ],
            "type": "contour"
           }
          ],
          "contourcarpet": [
           {
            "colorbar": {
             "outlinewidth": 0,
             "ticks": ""
            },
            "type": "contourcarpet"
           }
          ],
          "heatmap": [
           {
            "colorbar": {
             "outlinewidth": 0,
             "ticks": ""
            },
            "colorscale": [
             [
              0,
              "#0d0887"
             ],
             [
              0.1111111111111111,
              "#46039f"
             ],
             [
              0.2222222222222222,
              "#7201a8"
             ],
             [
              0.3333333333333333,
              "#9c179e"
             ],
             [
              0.4444444444444444,
              "#bd3786"
             ],
             [
              0.5555555555555556,
              "#d8576b"
             ],
             [
              0.6666666666666666,
              "#ed7953"
             ],
             [
              0.7777777777777778,
              "#fb9f3a"
             ],
             [
              0.8888888888888888,
              "#fdca26"
             ],
             [
              1,
              "#f0f921"
             ]
            ],
            "type": "heatmap"
           }
          ],
          "histogram": [
           {
            "marker": {
             "pattern": {
              "fillmode": "overlay",
              "size": 10,
              "solidity": 0.2
             }
            },
            "type": "histogram"
           }
          ],
          "histogram2d": [
           {
            "colorbar": {
             "outlinewidth": 0,
             "ticks": ""
            },
            "colorscale": [
             [
              0,
              "#0d0887"
             ],
             [
              0.1111111111111111,
              "#46039f"
             ],
             [
              0.2222222222222222,
              "#7201a8"
             ],
             [
              0.3333333333333333,
              "#9c179e"
             ],
             [
              0.4444444444444444,
              "#bd3786"
             ],
             [
              0.5555555555555556,
              "#d8576b"
             ],
             [
              0.6666666666666666,
              "#ed7953"
             ],
             [
              0.7777777777777778,
              "#fb9f3a"
             ],
             [
              0.8888888888888888,
              "#fdca26"
             ],
             [
              1,
              "#f0f921"
             ]
            ],
            "type": "histogram2d"
           }
          ],
          "histogram2dcontour": [
           {
            "colorbar": {
             "outlinewidth": 0,
             "ticks": ""
            },
            "colorscale": [
             [
              0,
              "#0d0887"
             ],
             [
              0.1111111111111111,
              "#46039f"
             ],
             [
              0.2222222222222222,
              "#7201a8"
             ],
             [
              0.3333333333333333,
              "#9c179e"
             ],
             [
              0.4444444444444444,
              "#bd3786"
             ],
             [
              0.5555555555555556,
              "#d8576b"
             ],
             [
              0.6666666666666666,
              "#ed7953"
             ],
             [
              0.7777777777777778,
              "#fb9f3a"
             ],
             [
              0.8888888888888888,
              "#fdca26"
             ],
             [
              1,
              "#f0f921"
             ]
            ],
            "type": "histogram2dcontour"
           }
          ],
          "mesh3d": [
           {
            "colorbar": {
             "outlinewidth": 0,
             "ticks": ""
            },
            "type": "mesh3d"
           }
          ],
          "parcoords": [
           {
            "line": {
             "colorbar": {
              "outlinewidth": 0,
              "ticks": ""
             }
            },
            "type": "parcoords"
           }
          ],
          "pie": [
           {
            "automargin": true,
            "type": "pie"
           }
          ],
          "scatter": [
           {
            "marker": {
             "line": {
              "color": "#283442"
             }
            },
            "type": "scatter"
           }
          ],
          "scatter3d": [
           {
            "line": {
             "colorbar": {
              "outlinewidth": 0,
              "ticks": ""
             }
            },
            "marker": {
             "colorbar": {
              "outlinewidth": 0,
              "ticks": ""
             }
            },
            "type": "scatter3d"
           }
          ],
          "scattercarpet": [
           {
            "marker": {
             "colorbar": {
              "outlinewidth": 0,
              "ticks": ""
             }
            },
            "type": "scattercarpet"
           }
          ],
          "scattergeo": [
           {
            "marker": {
             "colorbar": {
              "outlinewidth": 0,
              "ticks": ""
             }
            },
            "type": "scattergeo"
           }
          ],
          "scattergl": [
           {
            "marker": {
             "line": {
              "color": "#283442"
             }
            },
            "type": "scattergl"
           }
          ],
          "scattermap": [
           {
            "marker": {
             "colorbar": {
              "outlinewidth": 0,
              "ticks": ""
             }
            },
            "type": "scattermap"
           }
          ],
          "scattermapbox": [
           {
            "marker": {
             "colorbar": {
              "outlinewidth": 0,
              "ticks": ""
             }
            },
            "type": "scattermapbox"
           }
          ],
          "scatterpolar": [
           {
            "marker": {
             "colorbar": {
              "outlinewidth": 0,
              "ticks": ""
             }
            },
            "type": "scatterpolar"
           }
          ],
          "scatterpolargl": [
           {
            "marker": {
             "colorbar": {
              "outlinewidth": 0,
              "ticks": ""
             }
            },
            "type": "scatterpolargl"
           }
          ],
          "scatterternary": [
           {
            "marker": {
             "colorbar": {
              "outlinewidth": 0,
              "ticks": ""
             }
            },
            "type": "scatterternary"
           }
          ],
          "surface": [
           {
            "colorbar": {
             "outlinewidth": 0,
             "ticks": ""
            },
            "colorscale": [
             [
              0,
              "#0d0887"
             ],
             [
              0.1111111111111111,
              "#46039f"
             ],
             [
              0.2222222222222222,
              "#7201a8"
             ],
             [
              0.3333333333333333,
              "#9c179e"
             ],
             [
              0.4444444444444444,
              "#bd3786"
             ],
             [
              0.5555555555555556,
              "#d8576b"
             ],
             [
              0.6666666666666666,
              "#ed7953"
             ],
             [
              0.7777777777777778,
              "#fb9f3a"
             ],
             [
              0.8888888888888888,
              "#fdca26"
             ],
             [
              1,
              "#f0f921"
             ]
            ],
            "type": "surface"
           }
          ],
          "table": [
           {
            "cells": {
             "fill": {
              "color": "#506784"
             },
             "line": {
              "color": "rgb(17,17,17)"
             }
            },
            "header": {
             "fill": {
              "color": "#2a3f5f"
             },
             "line": {
              "color": "rgb(17,17,17)"
             }
            },
            "type": "table"
           }
          ]
         },
         "layout": {
          "annotationdefaults": {
           "arrowcolor": "#f2f5fa",
           "arrowhead": 0,
           "arrowwidth": 1
          },
          "autotypenumbers": "strict",
          "coloraxis": {
           "colorbar": {
            "outlinewidth": 0,
            "ticks": ""
           }
          },
          "colorscale": {
           "diverging": [
            [
             0,
             "#8e0152"
            ],
            [
             0.1,
             "#c51b7d"
            ],
            [
             0.2,
             "#de77ae"
            ],
            [
             0.3,
             "#f1b6da"
            ],
            [
             0.4,
             "#fde0ef"
            ],
            [
             0.5,
             "#f7f7f7"
            ],
            [
             0.6,
             "#e6f5d0"
            ],
            [
             0.7,
             "#b8e186"
            ],
            [
             0.8,
             "#7fbc41"
            ],
            [
             0.9,
             "#4d9221"
            ],
            [
             1,
             "#276419"
            ]
           ],
           "sequential": [
            [
             0,
             "#0d0887"
            ],
            [
             0.1111111111111111,
             "#46039f"
            ],
            [
             0.2222222222222222,
             "#7201a8"
            ],
            [
             0.3333333333333333,
             "#9c179e"
            ],
            [
             0.4444444444444444,
             "#bd3786"
            ],
            [
             0.5555555555555556,
             "#d8576b"
            ],
            [
             0.6666666666666666,
             "#ed7953"
            ],
            [
             0.7777777777777778,
             "#fb9f3a"
            ],
            [
             0.8888888888888888,
             "#fdca26"
            ],
            [
             1,
             "#f0f921"
            ]
           ],
           "sequentialminus": [
            [
             0,
             "#0d0887"
            ],
            [
             0.1111111111111111,
             "#46039f"
            ],
            [
             0.2222222222222222,
             "#7201a8"
            ],
            [
             0.3333333333333333,
             "#9c179e"
            ],
            [
             0.4444444444444444,
             "#bd3786"
            ],
            [
             0.5555555555555556,
             "#d8576b"
            ],
            [
             0.6666666666666666,
             "#ed7953"
            ],
            [
             0.7777777777777778,
             "#fb9f3a"
            ],
            [
             0.8888888888888888,
             "#fdca26"
            ],
            [
             1,
             "#f0f921"
            ]
           ]
          },
          "colorway": [
           "#636efa",
           "#EF553B",
           "#00cc96",
           "#ab63fa",
           "#FFA15A",
           "#19d3f3",
           "#FF6692",
           "#B6E880",
           "#FF97FF",
           "#FECB52"
          ],
          "font": {
           "color": "#f2f5fa"
          },
          "geo": {
           "bgcolor": "rgb(17,17,17)",
           "lakecolor": "rgb(17,17,17)",
           "landcolor": "rgb(17,17,17)",
           "showlakes": true,
           "showland": true,
           "subunitcolor": "#506784"
          },
          "hoverlabel": {
           "align": "left"
          },
          "hovermode": "closest",
          "mapbox": {
           "style": "dark"
          },
          "paper_bgcolor": "rgb(17,17,17)",
          "plot_bgcolor": "rgb(17,17,17)",
          "polar": {
           "angularaxis": {
            "gridcolor": "#506784",
            "linecolor": "#506784",
            "ticks": ""
           },
           "bgcolor": "rgb(17,17,17)",
           "radialaxis": {
            "gridcolor": "#506784",
            "linecolor": "#506784",
            "ticks": ""
           }
          },
          "scene": {
           "xaxis": {
            "backgroundcolor": "rgb(17,17,17)",
            "gridcolor": "#506784",
            "gridwidth": 2,
            "linecolor": "#506784",
            "showbackground": true,
            "ticks": "",
            "zerolinecolor": "#C8D4E3"
           },
           "yaxis": {
            "backgroundcolor": "rgb(17,17,17)",
            "gridcolor": "#506784",
            "gridwidth": 2,
            "linecolor": "#506784",
            "showbackground": true,
            "ticks": "",
            "zerolinecolor": "#C8D4E3"
           },
           "zaxis": {
            "backgroundcolor": "rgb(17,17,17)",
            "gridcolor": "#506784",
            "gridwidth": 2,
            "linecolor": "#506784",
            "showbackground": true,
            "ticks": "",
            "zerolinecolor": "#C8D4E3"
           }
          },
          "shapedefaults": {
           "line": {
            "color": "#f2f5fa"
           }
          },
          "sliderdefaults": {
           "bgcolor": "#C8D4E3",
           "bordercolor": "rgb(17,17,17)",
           "borderwidth": 1,
           "tickwidth": 0
          },
          "ternary": {
           "aaxis": {
            "gridcolor": "#506784",
            "linecolor": "#506784",
            "ticks": ""
           },
           "baxis": {
            "gridcolor": "#506784",
            "linecolor": "#506784",
            "ticks": ""
           },
           "bgcolor": "rgb(17,17,17)",
           "caxis": {
            "gridcolor": "#506784",
            "linecolor": "#506784",
            "ticks": ""
           }
          },
          "title": {
           "x": 0.05
          },
          "updatemenudefaults": {
           "bgcolor": "#506784",
           "borderwidth": 0
          },
          "xaxis": {
           "automargin": true,
           "gridcolor": "#283442",
           "linecolor": "#506784",
           "ticks": "",
           "title": {
            "standoff": 15
           },
           "zerolinecolor": "#283442",
           "zerolinewidth": 2
          },
          "yaxis": {
           "automargin": true,
           "gridcolor": "#283442",
           "linecolor": "#506784",
           "ticks": "",
           "title": {
            "standoff": 15
           },
           "zerolinecolor": "#283442",
           "zerolinewidth": 2
          }
         }
        },
        "xaxis": {
         "anchor": "y",
         "domain": [
          0,
          1
         ],
         "title": {
          "text": "cohort_size(month)"
         }
        },
        "yaxis": {
         "anchor": "x",
         "domain": [
          0,
          1
         ],
         "title": {
          "text": "retention_rate"
         }
        }
       }
      }
     },
     "metadata": {},
     "output_type": "display_data"
    }
   ],
   "source": [
    "retention_curve = (\n",
    "    retention_final.groupby(\"cohort_size(month)\")[\"retention_rate\"].mean().reset_index()\n",
    ")\n",
    "retention_curve\n",
    "fig = px.line(\n",
    "    retention_curve, x=\"cohort_size(month)\", y=\"retention_rate\", template=\"plotly_dark\"\n",
    ")\n",
    "fig.show()"
   ]
  },
  {
   "cell_type": "code",
   "execution_count": null,
   "metadata": {},
   "outputs": [],
   "source": [
    "# Every Step explnation:\n",
    "\n",
    "# 1. Select relevant columns and remove duplicates to identify unique customer-invoice-date combinations\n",
    "retention = df[[\"CustomerID\", \"InvoiceNo\", \"date_ymd\"]].drop_duplicates()\n",
    "\n",
    "# 2. Create a new column \"date_ym\" representing year-month periods\n",
    "retention[\"date_ym\"] = retention[\"date_ymd\"].dt.to_period(\"M\")\n",
    "\n",
    "# Check the earliest and latest dates in the dataset to understand data range\n",
    "print(min(df[\"date_ymd\"].unique()))\n",
    "print(max(df[\"date_ymd\"].unique()))\n",
    "\n",
    "# 3. Exclude incomplete data for December 2011 (only available up to Dec 9)\n",
    "retention_data = retention.query('date_ymd <= \"2011-11-30\"')\n",
    "\n",
    "# Get sorted unique monthly periods to loop through for retention analysis\n",
    "date_ym = sorted(list(retention_data[\"date_ym\"].unique()))\n",
    "\n",
    "# 4. Initial test calculation to verify retention logic (example between first two months)\n",
    "period_start = date_ym[0]\n",
    "period_target = date_ym[1]\n",
    "\n",
    "# Customers active in the start month\n",
    "period_start_users = set(retention_data.query(\"date_ym == @period_start\")[\"CustomerID\"])\n",
    "\n",
    "# Customers active in the target month\n",
    "period_target_users = set(\n",
    "    retention_data.query(\"date_ym == @period_target\")[\"CustomerID\"]\n",
    ")\n",
    "\n",
    "# Identify retained customers (active in both periods)\n",
    "retained_users = period_start_users.intersection(period_target_users)\n",
    "\n",
    "# Calculate retention rate as the ratio of retained users to users in the start month\n",
    "retention_rate = len(retained_users) / len(period_start_users)\n",
    "retention_rate\n",
    "\n",
    "# 5. Test nested loop structure to generate all possible retention periods (start <= target)\n",
    "for s in date_ym:\n",
    "    for t in date_ym:\n",
    "        if s <= t:\n",
    "            print(s, t)\n",
    "\n",
    "# 6. FINAL RETENTION ANALYSIS using nested loops to build a retention DataFrame\n",
    "# IMPORTANT: Use a different name \"retention_final\" to avoid overwriting original data\n",
    "retention_final = pd.DataFrame()\n",
    "\n",
    "for s in date_ym:\n",
    "    for t in date_ym:\n",
    "        if s <= t:\n",
    "            period_start = s\n",
    "            period_target = t\n",
    "\n",
    "            # Users active in the start month\n",
    "            period_start_users = set(\n",
    "                retention_data.query(\"date_ym == @period_start\")[\"CustomerID\"]\n",
    "            )\n",
    "\n",
    "            # Users active in the target month\n",
    "            period_target_users = set(\n",
    "                retention_data.query(\"date_ym == @period_target\")[\"CustomerID\"]\n",
    "            )\n",
    "\n",
    "            # Calculate intersection (retained customers)\n",
    "            retained_users = period_start_users.intersection(period_target_users)\n",
    "\n",
    "            # Compute retention rate\n",
    "            retention_rate = len(retained_users) / len(period_start_users)\n",
    "\n",
    "            # Temporary DataFrame to store results for each loop iteration\n",
    "            temp = pd.DataFrame(\n",
    "                {\n",
    "                    \"cohort\": [period_start],\n",
    "                    \"date_ym\": [period_target],\n",
    "                    \"retention_rate\": [retention_rate],\n",
    "                }\n",
    "            )\n",
    "\n",
    "            # Append to the final retention DataFrame\n",
    "            retention_final = pd.concat([retention_final, temp], ignore_index=True)\n",
    "\n",
    "# Final retention DataFrame showing cohort analysis\n",
    "retention_final"
   ]
  },
  {
   "cell_type": "code",
   "execution_count": null,
   "metadata": {},
   "outputs": [
    {
     "data": {
      "text/plain": [
       "Timestamp('2011-12-09 00:00:00')"
      ]
     },
     "execution_count": 149,
     "metadata": {},
     "output_type": "execute_result"
    }
   ],
   "source": [
    "df.head()"
   ]
  },
  {
   "cell_type": "code",
   "execution_count": 158,
   "metadata": {},
   "outputs": [
    {
     "data": {
      "text/html": [
       "<div>\n",
       "<style scoped>\n",
       "    .dataframe tbody tr th:only-of-type {\n",
       "        vertical-align: middle;\n",
       "    }\n",
       "\n",
       "    .dataframe tbody tr th {\n",
       "        vertical-align: top;\n",
       "    }\n",
       "\n",
       "    .dataframe thead th {\n",
       "        text-align: right;\n",
       "    }\n",
       "</style>\n",
       "<table border=\"1\" class=\"dataframe\">\n",
       "  <thead>\n",
       "    <tr style=\"text-align: right;\">\n",
       "      <th></th>\n",
       "      <th>recency</th>\n",
       "      <th>monetary</th>\n",
       "    </tr>\n",
       "    <tr>\n",
       "      <th>CustomerID</th>\n",
       "      <th></th>\n",
       "      <th></th>\n",
       "    </tr>\n",
       "  </thead>\n",
       "  <tbody>\n",
       "    <tr>\n",
       "      <th>12346</th>\n",
       "      <td>324</td>\n",
       "      <td>77183.60</td>\n",
       "    </tr>\n",
       "    <tr>\n",
       "      <th>12347</th>\n",
       "      <td>1</td>\n",
       "      <td>4310.00</td>\n",
       "    </tr>\n",
       "    <tr>\n",
       "      <th>12348</th>\n",
       "      <td>74</td>\n",
       "      <td>1797.24</td>\n",
       "    </tr>\n",
       "    <tr>\n",
       "      <th>12349</th>\n",
       "      <td>17</td>\n",
       "      <td>1757.55</td>\n",
       "    </tr>\n",
       "    <tr>\n",
       "      <th>12350</th>\n",
       "      <td>309</td>\n",
       "      <td>334.40</td>\n",
       "    </tr>\n",
       "    <tr>\n",
       "      <th>...</th>\n",
       "      <td>...</td>\n",
       "      <td>...</td>\n",
       "    </tr>\n",
       "    <tr>\n",
       "      <th>18280</th>\n",
       "      <td>276</td>\n",
       "      <td>180.60</td>\n",
       "    </tr>\n",
       "    <tr>\n",
       "      <th>18281</th>\n",
       "      <td>179</td>\n",
       "      <td>80.82</td>\n",
       "    </tr>\n",
       "    <tr>\n",
       "      <th>18282</th>\n",
       "      <td>6</td>\n",
       "      <td>178.05</td>\n",
       "    </tr>\n",
       "    <tr>\n",
       "      <th>18283</th>\n",
       "      <td>2</td>\n",
       "      <td>2094.88</td>\n",
       "    </tr>\n",
       "    <tr>\n",
       "      <th>18287</th>\n",
       "      <td>41</td>\n",
       "      <td>1837.28</td>\n",
       "    </tr>\n",
       "  </tbody>\n",
       "</table>\n",
       "<p>4339 rows × 2 columns</p>\n",
       "</div>"
      ],
      "text/plain": [
       "            recency  monetary\n",
       "CustomerID                   \n",
       "12346           324  77183.60\n",
       "12347             1   4310.00\n",
       "12348            74   1797.24\n",
       "12349            17   1757.55\n",
       "12350           309    334.40\n",
       "...             ...       ...\n",
       "18280           276    180.60\n",
       "18281           179     80.82\n",
       "18282             6    178.05\n",
       "18283             2   2094.88\n",
       "18287            41   1837.28\n",
       "\n",
       "[4339 rows x 2 columns]"
      ]
     },
     "execution_count": 158,
     "metadata": {},
     "output_type": "execute_result"
    }
   ],
   "source": [
    "today_date = max(df[\"date_ymd\"])\n",
    "today_date\n",
    "\n",
    "rfm = df.groupby(\"CustomerID\").agg(\n",
    "    {\n",
    "        \"InvoiceDate\": lambda x: (\n",
    "            today_date - x.max()\n",
    "        ).days,  # 오늘로부터 며칠이 지났는지\n",
    "        \"amount\": lambda x: x.sum(),  # 주문금액\n",
    "    }\n",
    ")\n",
    "rfm.columns = [\"recency\", \"monetary\"]\n",
    "rfm"
   ]
  },
  {
   "cell_type": "code",
   "execution_count": 159,
   "metadata": {},
   "outputs": [
    {
     "data": {
      "text/plain": [
       "CustomerID\n",
       "12346    1\n",
       "12347    5\n",
       "12348    2\n",
       "12349    4\n",
       "12350    1\n",
       "        ..\n",
       "18280    1\n",
       "18281    1\n",
       "18282    5\n",
       "18283    5\n",
       "18287    3\n",
       "Name: recency, Length: 4339, dtype: category\n",
       "Categories (5, int64): [5 < 4 < 3 < 2 < 1]"
      ]
     },
     "execution_count": 159,
     "metadata": {},
     "output_type": "execute_result"
    }
   ],
   "source": [
    "pd.qcut(rfm[\"recency\"], 5, labels=[5, 4, 3, 2, 1])"
   ]
  },
  {
   "cell_type": "code",
   "execution_count": 1,
   "metadata": {},
   "outputs": [
    {
     "ename": "NameError",
     "evalue": "name 'df' is not defined",
     "output_type": "error",
     "traceback": [
      "\u001b[1;31m---------------------------------------------------------------------------\u001b[0m",
      "\u001b[1;31mNameError\u001b[0m                                 Traceback (most recent call last)",
      "Cell \u001b[1;32mIn[1], line 1\u001b[0m\n\u001b[1;32m----> 1\u001b[0m revenue_by_year \u001b[38;5;241m=\u001b[39m \u001b[43mdf\u001b[49m\u001b[38;5;241m.\u001b[39mgroupby(\u001b[38;5;124m'\u001b[39m\u001b[38;5;124myear\u001b[39m\u001b[38;5;124m'\u001b[39m)[\u001b[38;5;124m'\u001b[39m\u001b[38;5;124mrevenue\u001b[39m\u001b[38;5;124m'\u001b[39m]\u001b[38;5;241m.\u001b[39msum()\u001b[38;5;241m.\u001b[39mreset_index()\n",
      "\u001b[1;31mNameError\u001b[0m: name 'df' is not defined"
     ]
    }
   ],
   "source": [
    "revenue_by_year = df.groupby(\"year\")[\"revenue\"].sum().reset_index()"
   ]
  }
 ],
 "metadata": {
  "kernelspec": {
   "display_name": "envv",
   "language": "python",
   "name": "python3"
  },
  "language_info": {
   "codemirror_mode": {
    "name": "ipython",
    "version": 3
   },
   "file_extension": ".py",
   "mimetype": "text/x-python",
   "name": "python",
   "nbconvert_exporter": "python",
   "pygments_lexer": "ipython3",
   "version": "3.12.2"
  }
 },
 "nbformat": 4,
 "nbformat_minor": 2
}
